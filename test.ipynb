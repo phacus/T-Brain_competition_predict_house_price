{
 "cells": [
  {
   "cell_type": "code",
   "execution_count": 2,
   "metadata": {},
   "outputs": [],
   "source": [
    "import numpy as np\n",
    "import pandas as pd\n",
    "pd.set_option('max_columns', None)\n",
    "import matplotlib.pyplot as plt\n",
    "import seaborn as sns\n",
    "%matplotlib inline\n",
    "plt.style.use('ggplot')\n",
    "import datetime\n",
    "import lightgbm as lgb\n",
    "from scipy import stats\n",
    "from scipy.sparse import hstack, csr_matrix\n",
    "from sklearn.model_selection import train_test_split, KFold\n",
    "from wordcloud import WordCloud\n",
    "from collections import Counter\n",
    "from nltk.corpus import stopwords\n",
    "from nltk.util import ngrams\n",
    "from sklearn.feature_extraction.text import TfidfVectorizer, CountVectorizer\n",
    "from sklearn.preprocessing import StandardScaler\n",
    "stop = set(stopwords.words('english'))\n",
    "import os\n",
    "\n",
    "from sklearn import model_selection\n",
    "from sklearn.metrics import accuracy_score\n",
    "from sklearn.externals import joblib\n",
    "import json\n",
    "import ast\n",
    "import eli5\n",
    "from functools import reduce\n",
    "import warnings\n",
    "from sklearn.metrics import mean_squared_error\n",
    "from scipy import stats\n",
    "from math import sqrt\n",
    "from lightgbm import plot_tree\n",
    "from hyperopt import hp, tpe\n",
    "from hyperopt.fmin import fmin\n",
    "from hyperopt import Trials\n",
    "from hyperopt import fmin\n",
    "from hyperopt import STATUS_OK\n",
    "from hyperopt.pyll.stochastic import sample\n",
    "import time\n",
    "import gc\n",
    "warnings.filterwarnings('ignore')\n",
    "#import shap"
   ]
  },
  {
   "cell_type": "code",
   "execution_count": 10,
   "metadata": {},
   "outputs": [],
   "source": [
    "train = pd.read_csv('dataset-0510/train.csv')\n",
    "test  = pd.read_csv('dataset-0510/test.csv')\n",
    "data = pd.concat([train, test], axis=0)\n",
    "#train.drop(['village'], axis =1, inplace = True)\n",
    "#test.drop(['village'], axis =1, inplace = True)"
   ]
  },
  {
   "cell_type": "code",
   "execution_count": 4,
   "metadata": {},
   "outputs": [],
   "source": [
    "def Feature_engineer(df):\n",
    "    #floor\n",
    "    '''\n",
    "    df.loc[df['txn_floor'].isna(), 'department'] = 1 \n",
    "    df.loc[df['txn_floor'].notna(), 'department'] = 0\n",
    "    df.loc[df['txn_floor'].isna(), 'txn_floor'] = df.loc[df['txn_floor'].isna(), 'total_floor'] \n",
    "    df['avg_height_floor'] = df['txn_floor'] / df['total_floor'] \n",
    "    df['avg_height_floor'].fillna(0, inplace = True)\n",
    "    '''\n",
    "    df['avg_height_floor'] = df['txn_floor'] / df['total_floor'] \n",
    "    #location\n",
    "    df['town'] = df['town'].astype('category')\n",
    "    \n",
    "    #date\n",
    "    df['day_between_txn_complete'] = df['txn_dt'] - df['building_complete_dt']\n",
    "    df['year_between_txn_complete'] = round(df['day_between_txn_complete'] / 365)\n",
    "    \n",
    "    #area\n",
    "    #df['land*bulid_area'] = df['land_area'] * df ['building_area']\n",
    "    df['land/bulid_area'] = df['land_area'] / df ['building_area']\n",
    "    df['house_area'] = df['building_area'] - df['parking_area']\n",
    "    df['house_rate']  = df['building_area'] / df['house_area']\n",
    "    \n",
    "    #parking\n",
    "    df['miss_parking_area'] = 0\n",
    "    df['miss_parking_price'] = 0\n",
    "    df.loc[df['parking_area'].isna(), 'miss_parking_area'] = 1\n",
    "    df.loc[df['parking_price'].isna(), 'miss_parking_price'] = 1\n",
    "    df['parking_way'] = df['parking_way'].astype('category')\n",
    "\n",
    "    #building   #building_type = 4 is house\n",
    "    df['building_use'] = df['building_use'].astype('category')\n",
    "    df['building_material'] = df['building_material'].astype('category')\n",
    "    \n",
    "    #10 50 100 250 500 1000 5000 10000\n",
    "    df['diff_500_50'] = df['N_500'] - df['N_50']\n",
    "    df['diff_1000_500'] = df['N_1000'] - df['N_500']\n",
    "    df['diff_5000_1000'] = df['N_5000'] - df['N_1000']\n",
    "    df['diff_10000_5000'] = df['N_10000'] - df['N_5000']\n",
    "    df['rate_500_50'] = df['N_500'] / df['N_50']\n",
    "    df['rate_1000_500'] = df['N_1000'] / df['N_500']\n",
    "    df['rate_5000_1000'] = df['N_5000'] / df['N_1000']\n",
    "    df['rate_10000_5000'] = df['N_10000'] / df['N_5000']\n",
    "    \n",
    "    #MIN\n",
    "    rank_df = df[[i for i in df.columns if 'MIN' in i]].rank(axis =1)\n",
    "    rank_df = rank_df.add_prefix('Rank_')\n",
    "    df = pd.concat([df, rank_df], axis=1)\n",
    "    \n",
    "    category_cols  = ['city', 'building_material', 'building_use', 'parking_way']\n",
    "    '''\n",
    "    numerical_cols = ['building_area', 'land_area', 'day_between_txn_complete', 'txn_dt', 'building_complete_dt']\n",
    "    statistics = ['mean', 'median', 'max', 'min']\n",
    "    for category in category_cols:\n",
    "        for numerical in numerical_cols:\n",
    "            for stat in statistics:\n",
    "                df[numerical + '_' + stat + '_gb_' + category] = df.groupby([category])[numerical].transform(stat)\n",
    "                df[numerical + '_diff_' + stat + '_gb_' + category] = df[numerical] - df[numerical + '_' + stat + '_gb_' + category]\n",
    "                df.drop([numerical + '_' + stat + '_gb_' + category], inplace = True, axis = 1)\n",
    "    \n",
    "    #interection\n",
    "    \n",
    "    inter_cols = ['parking_way', 'building_use', 'building_material']\n",
    "    for i in range(3):\n",
    "        for j in range(3):\n",
    "            if j > i:\n",
    "                df['inter_btw_' + inter_cols[i] + '_' + inter_cols[j]] = df.apply(lambda x : str(x[inter_cols[i]]) + str(x[inter_cols[j]]), axis=1)\n",
    "                df['inter_btw_' + inter_cols[i] + '_' + inter_cols[j]] = df['inter_btw_' + inter_cols[i] + '_' + inter_cols[j]].astype('category')\n",
    "    '''\n",
    "    \n",
    "    df.drop(['village'], axis = 1, inplace = True)\n",
    "    df.drop([i for i in df.columns if 'index' in i and np.sum(df[i]) == 70000], axis = 1, inplace = True)\n",
    "    return df"
   ]
  },
  {
   "cell_type": "code",
   "execution_count": 5,
   "metadata": {},
   "outputs": [],
   "source": [
    "def c_hit(preds, train_data):\n",
    "    trues  = train_data.get_label()\n",
    "    trues = np.expm1(trues)\n",
    "    preds = np.expm1(preds)\n",
    "    scores = ((np.absolute(preds - trues) / trues) <= 0.1)\n",
    "    hit_error = np.sum(scores) / train_data.num_data()\n",
    "    return 'Hit_Score', round(hit_error * 10000), True\n",
    "\n",
    "def Submission(Ids, preds):\n",
    "    file_name = datetime.datetime.today().strftime('%m-%d-%H-%M')\n",
    "    submission = pd.DataFrame({'building_id' : Ids, 'total_price' : preds})\n",
    "    if not os.path.isdir('Submission'):\n",
    "        os.makedirs('Submission')\n",
    "    submission.to_csv('Submission/' + file_name + '.csv', index= False)"
   ]
  },
  {
   "cell_type": "code",
   "execution_count": 6,
   "metadata": {},
   "outputs": [],
   "source": [
    "def display_importances(feature_importance_df):\n",
    "    cols = feature_importance_df[[\"feature\", \"importance\"]].groupby(\"feature\").mean().sort_values(by=\"importance\", ascending=False)[:40].index\n",
    "    best_features = feature_importance_df.loc[feature_importance_df.feature.isin(cols)]\n",
    "\n",
    "    plt.figure(figsize=(8, 10))\n",
    "    sns.barplot(x=\"importance\", y=\"feature\", data=best_features.sort_values(by=\"importance\", ascending=False))\n",
    "    plt.title('LightGBM Features (avg over folds)')\n",
    "    plt.tight_layout()"
   ]
  },
  {
   "cell_type": "code",
   "execution_count": 18,
   "metadata": {},
   "outputs": [
    {
     "ename": "SyntaxError",
     "evalue": "invalid syntax (<ipython-input-18-c7110cf87b3a>, line 38)",
     "output_type": "error",
     "traceback": [
      "\u001b[1;36m  File \u001b[1;32m\"<ipython-input-18-c7110cf87b3a>\"\u001b[1;36m, line \u001b[1;32m38\u001b[0m\n\u001b[1;33m    cat_features = category_cols\u001b[0m\n\u001b[1;37m               ^\u001b[0m\n\u001b[1;31mSyntaxError\u001b[0m\u001b[1;31m:\u001b[0m invalid syntax\n"
     ]
    }
   ],
   "source": [
    "def cat_model(split_num, train, test,features, stratified = False, if_one_hot = True):\n",
    "    category_cols = ['building_material','building_use','parking_way', 'city']\n",
    "    \n",
    "    if stratified:\n",
    "        kf = StratifiedKFold(n_splits = split_num, random_state = 42, shuffle = True)\n",
    "    else :\n",
    "        kf = KFold(n_splits = split_num, random_state=42, shuffle=True)\n",
    "    train['total_price_log'] = np.log1p(train['total_price'])\n",
    "    feature_importance_df = pd.DataFrame()\n",
    "    oof = np.zeros(len(train))\n",
    "    predictions = np.zeros(len(test))\n",
    "    \n",
    "    param ={\n",
    "        'n_estimators': 1, 'max_depth' : -1, 'num_leaves' :30,         \n",
    "        'objective': 'regression',   'metric':'rmse',   \n",
    "        'learning_rate': 0.01,      'boosting': 'gbdt',     'min_data_in_leaf': 10,\n",
    "        'feature_fraction': 0.9,    'bagging_freq':1,       'bagging_fraction': 0.9,     'importance_type': 'gain',\n",
    "        'lambda_l1': 0.2,  'subsample': .8,   'colsample_bytree': .9, 'device' : 'gpu', 'num_trhead' : 4\n",
    "    }\n",
    "\n",
    "    features = [i for i in train.columns if i not in ['building_id', 'total_price','total_price_log', 'building_type']] \n",
    "     \n",
    "    for fold_, (trn_idx, val_idx) in enumerate(kf.split(train[features].values,train['total_price_log'].values)):\n",
    "        train_x = train.iloc[trn_idx][features]\n",
    "        train_y = train['total_price_log'].iloc[trn_idx]\n",
    "        val_x = train.iloc[val_idx][features]\n",
    "        val_y = train['total_price_log'].iloc[val_idx]\n",
    "        \n",
    "        clf = CatBoostRegressor(iterations=100000,\n",
    "                                 learning_rate=0.004,\n",
    "                                 depth=5,\n",
    "                                 eval_metric='RMSE',\n",
    "                                 colsample_bylevel=0.8,\n",
    "                                 random_seed = 42,\n",
    "                                 bagging_temperature = 0.2,\n",
    "                                 metric_period = None,\n",
    "                                 early_stopping_rounds=200\n",
    "                                 cat_features = category_cols\n",
    "                                )\n",
    "        clf.fit(train_x, train_y,\n",
    "                 eval_set=(val_x, val_y),\n",
    "                 use_best_model=True,\n",
    "                 verbose=1000)\n",
    "        oof[val_idx] = clf.predict(train.iloc[val_idx][features])\n",
    "        predictions += clf.predict(test[features], num_iteration = clf.best_iteration) / kf.n_splits\n",
    "        \n",
    "        y   = np.expm1(train['total_price_log'].iloc[val_idx]) \n",
    "        yhat = np.expm1(oof[val_idx])\n",
    "        Hit_score = np.sum([1 for i in np.abs((y - yhat) / y)  if i <= 0.1 ])\n",
    "        print('fold {} hit_score : {}'.format(fold_ + 1, round(Hit_score, 4) /len(train.iloc[val_idx]) * 10000))\n",
    "        print('-'*30)\n",
    "        #fold_importance_df = pd.DataFrame()\n",
    "        #fold_importance_df['feature']    = features\n",
    "        #fold_importance_df['importance'] = np.log1p(clf.feature_importance(importance_type='gain', iteration=clf.best_iteration))\n",
    "        #fold_importance_df['fold']       = fold_ + 1\n",
    "        #feature_importance_df = pd.concat([feature_importance_df, fold_importance_df], axis=0)\n",
    "    \n",
    "    print('CV scrore : {}'.format(sqrt(mean_squared_error(train['total_price_log'], oof))))\n",
    "    print('-'*30)\n",
    "    y = np.expm1(train['total_price_log']) \n",
    "    yhat = np.expm1(oof)\n",
    "    Hit_score = np.sum([1 for i in np.abs((y - yhat) / y)  if i <= 0.1 ])\n",
    "    print('Hit rate : {}'.format(round(Hit_score, 4) /len(train) * 10000))\n",
    "    \n",
    "    display_importances(feature_importance_df)\n",
    "    return predictions, round(Hit_score, 4) /len(train) * 10000, oof\n"
   ]
  },
  {
   "cell_type": "code",
   "execution_count": 19,
   "metadata": {},
   "outputs": [],
   "source": [
    "def lgb_model(split_num, train, test,cat_cols, stratified = False):\n",
    "    \n",
    "\n",
    "    if stratified:\n",
    "        kf = StratifiedKFold(n_splits = split_num, random_state = 42, shuffle = True)\n",
    "    else :\n",
    "        kf = KFold(n_splits = split_num, random_state=42, shuffle=True)\n",
    "    train['total_price_log'] = np.log1p(train['total_price'])\n",
    "    feature_importance_df = pd.DataFrame()\n",
    "    oof = np.zeros(len(train))\n",
    "    predictions = np.zeros(len(test))\n",
    "    \n",
    "\n",
    "    param ={\n",
    "        'n_estimators': 1000000, 'max_depth' : -1, 'num_leaves' :30,         \n",
    "        'objective': 'regression',   'metric':'rmse',   \n",
    "        'learning_rate': 0.01,      'boosting': 'gbdt',     'min_data_in_leaf': 10,\n",
    "        'feature_fraction': 0.9,    'bagging_freq':1,       'bagging_fraction': 0.9,     'importance_type': 'gain',\n",
    "        'lambda_l1': 0.2,  'subsample': .8,   'colsample_bytree': .9, 'device' : 'gpu'\n",
    "    }\n",
    "\n",
    "\n",
    "    features = [i for i in train.columns if i not in ['building_id','total_price_log', 'building_type', 'total_price']] \n",
    "    print(len(features))       \n",
    "    for fold_, (trn_idx, val_idx) in enumerate(kf.split(train[features].values,train['total_price_log'].values)):\n",
    "        trn_data = lgb.Dataset(train.iloc[trn_idx][features], label= train['total_price_log'].iloc[trn_idx])\n",
    "        val_data = lgb.Dataset(train.iloc[val_idx][features], label= train['total_price_log'].iloc[val_idx])\n",
    "        \n",
    "        \n",
    "        clf = lgb.train(params= param, train_set= trn_data, valid_sets= [trn_data, val_data], verbose_eval=3000, early_stopping_rounds= 5000, categorical_feature=cat_cols, feval=lambda preds, train_data: [c_hit(preds, train_data)],)\n",
    "        oof[val_idx] = clf.predict(train.iloc[val_idx][features], num_iteration = clf.best_iteration)\n",
    "        predictions += clf.predict(test[features], num_iteration = clf.best_iteration) / kf.n_splits\n",
    "        \n",
    "        y   = np.expm1(train['total_price_log'].iloc[val_idx]) \n",
    "        yhat = np.expm1(oof[val_idx])\n",
    "        Hit_score = np.sum([1 for i in np.abs((y - yhat) / y)  if i <= 0.1 ])\n",
    "        print('fold {} hit_score : {}'.format(fold_ + 1, round(Hit_score, 4) /len(train.iloc[val_idx]) * 10000))\n",
    "        print('-'*30)\n",
    "        #fold_importance_df = pd.DataFrame()\n",
    "        #fold_importance_df['feature']    = features\n",
    "        #fold_importance_df['importance'] = np.log1p(clf.feature_importance(importance_type='gain', iteration=clf.best_iteration))\n",
    "        #fold_importance_df['fold']       = fold_ + 1\n",
    "        #feature_importance_df = pd.concat([feature_importance_df, fold_importance_df], axis=0)\n",
    "    \n",
    "#     print('CV scrore : {}'.format(sqrt(mean_squared_error(train['total_price_log'], oof))))\n",
    "    print('-'*30)\n",
    "    y = np.expm1(train['total_price_log']) \n",
    "    yhat = np.expm1(oof)\n",
    "    Hit_score = np.sum([1 for i in np.abs((y - yhat) / y)  if i <= 0.1 ])\n",
    "    print('Hit ratye : {}'.format(round(Hit_score, 4) /len(train) * 10000))\n",
    "    \n",
    "    #display_importances(feature_importance_df)\n",
    "    return predictions, Hit_score, oof\n"
   ]
  },
  {
   "cell_type": "code",
   "execution_count": 9,
   "metadata": {},
   "outputs": [
    {
     "data": {
      "text/plain": [
       "49"
      ]
     },
     "execution_count": 9,
     "metadata": {},
     "output_type": "execute_result"
    }
   ],
   "source": [
    "data = Feature_engineer(data)\n",
    "gc.collect()"
   ]
  },
  {
   "cell_type": "code",
   "execution_count": 20,
   "metadata": {},
   "outputs": [
    {
     "name": "stdout",
     "output_type": "stream",
     "text": [
      "232\n",
      "Training until validation scores don't improve for 5000 rounds.\n"
     ]
    },
    {
     "ename": "KeyboardInterrupt",
     "evalue": "",
     "output_type": "error",
     "traceback": [
      "\u001b[1;31m---------------------------------------------------------------------------\u001b[0m",
      "\u001b[1;31mKeyboardInterrupt\u001b[0m                         Traceback (most recent call last)",
      "\u001b[1;32m<ipython-input-20-76fd8e4d3934>\u001b[0m in \u001b[0;36m<module>\u001b[1;34m\u001b[0m\n\u001b[0;32m     28\u001b[0m \u001b[1;33m\u001b[0m\u001b[0m\n\u001b[0;32m     29\u001b[0m \u001b[1;33m\u001b[0m\u001b[0m\n\u001b[1;32m---> 30\u001b[1;33m     \u001b[0mpreds\u001b[0m\u001b[1;33m,\u001b[0m \u001b[0mhit_score\u001b[0m\u001b[1;33m,\u001b[0m \u001b[0moof\u001b[0m \u001b[1;33m=\u001b[0m \u001b[0mlgb_model\u001b[0m\u001b[1;33m(\u001b[0m\u001b[1;36m10\u001b[0m\u001b[1;33m,\u001b[0m \u001b[0mtemp_train\u001b[0m\u001b[1;33m,\u001b[0m \u001b[0mtemp_test\u001b[0m\u001b[1;33m,\u001b[0m \u001b[0mcat_cols\u001b[0m\u001b[1;33m,\u001b[0m \u001b[0mstratified\u001b[0m\u001b[1;33m=\u001b[0m\u001b[1;32mFalse\u001b[0m\u001b[1;33m)\u001b[0m\u001b[1;33m\u001b[0m\u001b[1;33m\u001b[0m\u001b[0m\n\u001b[0m\u001b[0;32m     31\u001b[0m     \u001b[0mtemp\u001b[0m \u001b[1;33m=\u001b[0m \u001b[0mpd\u001b[0m\u001b[1;33m.\u001b[0m\u001b[0mDataFrame\u001b[0m\u001b[1;33m(\u001b[0m\u001b[1;33m{\u001b[0m\u001b[1;34m'building_id'\u001b[0m \u001b[1;33m:\u001b[0m \u001b[0mtemp_test\u001b[0m\u001b[1;33m[\u001b[0m\u001b[1;34m'building_id'\u001b[0m\u001b[1;33m]\u001b[0m\u001b[1;33m,\u001b[0m \u001b[1;34m'total_price'\u001b[0m \u001b[1;33m:\u001b[0m \u001b[0mpreds\u001b[0m\u001b[1;33m}\u001b[0m\u001b[1;33m)\u001b[0m\u001b[1;33m\u001b[0m\u001b[1;33m\u001b[0m\u001b[0m\n\u001b[0;32m     32\u001b[0m     \u001b[0mprediction_df\u001b[0m \u001b[1;33m=\u001b[0m \u001b[0mpd\u001b[0m\u001b[1;33m.\u001b[0m\u001b[0mconcat\u001b[0m\u001b[1;33m(\u001b[0m\u001b[1;33m[\u001b[0m\u001b[0mprediction_df\u001b[0m\u001b[1;33m,\u001b[0m \u001b[0mtemp\u001b[0m\u001b[1;33m]\u001b[0m\u001b[1;33m,\u001b[0m \u001b[0maxis\u001b[0m\u001b[1;33m=\u001b[0m\u001b[1;36m0\u001b[0m\u001b[1;33m)\u001b[0m\u001b[1;33m\u001b[0m\u001b[1;33m\u001b[0m\u001b[0m\n",
      "\u001b[1;32m<ipython-input-19-4105f06bfc30>\u001b[0m in \u001b[0;36mlgb_model\u001b[1;34m(split_num, train, test, cat_cols, stratified)\u001b[0m\n\u001b[0;32m     28\u001b[0m \u001b[1;33m\u001b[0m\u001b[0m\n\u001b[0;32m     29\u001b[0m \u001b[1;33m\u001b[0m\u001b[0m\n\u001b[1;32m---> 30\u001b[1;33m         \u001b[0mclf\u001b[0m \u001b[1;33m=\u001b[0m \u001b[0mlgb\u001b[0m\u001b[1;33m.\u001b[0m\u001b[0mtrain\u001b[0m\u001b[1;33m(\u001b[0m\u001b[0mparams\u001b[0m\u001b[1;33m=\u001b[0m \u001b[0mparam\u001b[0m\u001b[1;33m,\u001b[0m \u001b[0mtrain_set\u001b[0m\u001b[1;33m=\u001b[0m \u001b[0mtrn_data\u001b[0m\u001b[1;33m,\u001b[0m \u001b[0mvalid_sets\u001b[0m\u001b[1;33m=\u001b[0m \u001b[1;33m[\u001b[0m\u001b[0mtrn_data\u001b[0m\u001b[1;33m,\u001b[0m \u001b[0mval_data\u001b[0m\u001b[1;33m]\u001b[0m\u001b[1;33m,\u001b[0m \u001b[0mverbose_eval\u001b[0m\u001b[1;33m=\u001b[0m\u001b[1;36m3000\u001b[0m\u001b[1;33m,\u001b[0m \u001b[0mearly_stopping_rounds\u001b[0m\u001b[1;33m=\u001b[0m \u001b[1;36m5000\u001b[0m\u001b[1;33m,\u001b[0m \u001b[0mcategorical_feature\u001b[0m\u001b[1;33m=\u001b[0m\u001b[0mcat_cols\u001b[0m\u001b[1;33m,\u001b[0m \u001b[0mfeval\u001b[0m\u001b[1;33m=\u001b[0m\u001b[1;32mlambda\u001b[0m \u001b[0mpreds\u001b[0m\u001b[1;33m,\u001b[0m \u001b[0mtrain_data\u001b[0m\u001b[1;33m:\u001b[0m \u001b[1;33m[\u001b[0m\u001b[0mc_hit\u001b[0m\u001b[1;33m(\u001b[0m\u001b[0mpreds\u001b[0m\u001b[1;33m,\u001b[0m \u001b[0mtrain_data\u001b[0m\u001b[1;33m)\u001b[0m\u001b[1;33m]\u001b[0m\u001b[1;33m,\u001b[0m\u001b[1;33m)\u001b[0m\u001b[1;33m\u001b[0m\u001b[1;33m\u001b[0m\u001b[0m\n\u001b[0m\u001b[0;32m     31\u001b[0m         \u001b[0moof\u001b[0m\u001b[1;33m[\u001b[0m\u001b[0mval_idx\u001b[0m\u001b[1;33m]\u001b[0m \u001b[1;33m=\u001b[0m \u001b[0mclf\u001b[0m\u001b[1;33m.\u001b[0m\u001b[0mpredict\u001b[0m\u001b[1;33m(\u001b[0m\u001b[0mtrain\u001b[0m\u001b[1;33m.\u001b[0m\u001b[0miloc\u001b[0m\u001b[1;33m[\u001b[0m\u001b[0mval_idx\u001b[0m\u001b[1;33m]\u001b[0m\u001b[1;33m[\u001b[0m\u001b[0mfeatures\u001b[0m\u001b[1;33m]\u001b[0m\u001b[1;33m,\u001b[0m \u001b[0mnum_iteration\u001b[0m \u001b[1;33m=\u001b[0m \u001b[0mclf\u001b[0m\u001b[1;33m.\u001b[0m\u001b[0mbest_iteration\u001b[0m\u001b[1;33m)\u001b[0m\u001b[1;33m\u001b[0m\u001b[1;33m\u001b[0m\u001b[0m\n\u001b[0;32m     32\u001b[0m         \u001b[0mpredictions\u001b[0m \u001b[1;33m+=\u001b[0m \u001b[0mclf\u001b[0m\u001b[1;33m.\u001b[0m\u001b[0mpredict\u001b[0m\u001b[1;33m(\u001b[0m\u001b[0mtest\u001b[0m\u001b[1;33m[\u001b[0m\u001b[0mfeatures\u001b[0m\u001b[1;33m]\u001b[0m\u001b[1;33m,\u001b[0m \u001b[0mnum_iteration\u001b[0m \u001b[1;33m=\u001b[0m \u001b[0mclf\u001b[0m\u001b[1;33m.\u001b[0m\u001b[0mbest_iteration\u001b[0m\u001b[1;33m)\u001b[0m \u001b[1;33m/\u001b[0m \u001b[0mkf\u001b[0m\u001b[1;33m.\u001b[0m\u001b[0mn_splits\u001b[0m\u001b[1;33m\u001b[0m\u001b[1;33m\u001b[0m\u001b[0m\n",
      "\u001b[1;32m~\\Anaconda3\\lib\\site-packages\\lightgbm\\engine.py\u001b[0m in \u001b[0;36mtrain\u001b[1;34m(params, train_set, num_boost_round, valid_sets, valid_names, fobj, feval, init_model, feature_name, categorical_feature, early_stopping_rounds, evals_result, verbose_eval, learning_rates, keep_training_booster, callbacks)\u001b[0m\n\u001b[0;32m    246\u001b[0m                                     evaluation_result_list=None))\n\u001b[0;32m    247\u001b[0m \u001b[1;33m\u001b[0m\u001b[0m\n\u001b[1;32m--> 248\u001b[1;33m         \u001b[0mbooster\u001b[0m\u001b[1;33m.\u001b[0m\u001b[0mupdate\u001b[0m\u001b[1;33m(\u001b[0m\u001b[0mfobj\u001b[0m\u001b[1;33m=\u001b[0m\u001b[0mfobj\u001b[0m\u001b[1;33m)\u001b[0m\u001b[1;33m\u001b[0m\u001b[1;33m\u001b[0m\u001b[0m\n\u001b[0m\u001b[0;32m    249\u001b[0m \u001b[1;33m\u001b[0m\u001b[0m\n\u001b[0;32m    250\u001b[0m         \u001b[0mevaluation_result_list\u001b[0m \u001b[1;33m=\u001b[0m \u001b[1;33m[\u001b[0m\u001b[1;33m]\u001b[0m\u001b[1;33m\u001b[0m\u001b[1;33m\u001b[0m\u001b[0m\n",
      "\u001b[1;32m~\\Anaconda3\\lib\\site-packages\\lightgbm\\basic.py\u001b[0m in \u001b[0;36mupdate\u001b[1;34m(self, train_set, fobj)\u001b[0m\n\u001b[0;32m   1894\u001b[0m             _safe_call(_LIB.LGBM_BoosterUpdateOneIter(\n\u001b[0;32m   1895\u001b[0m                 \u001b[0mself\u001b[0m\u001b[1;33m.\u001b[0m\u001b[0mhandle\u001b[0m\u001b[1;33m,\u001b[0m\u001b[1;33m\u001b[0m\u001b[1;33m\u001b[0m\u001b[0m\n\u001b[1;32m-> 1896\u001b[1;33m                 ctypes.byref(is_finished)))\n\u001b[0m\u001b[0;32m   1897\u001b[0m             \u001b[0mself\u001b[0m\u001b[1;33m.\u001b[0m\u001b[0m__is_predicted_cur_iter\u001b[0m \u001b[1;33m=\u001b[0m \u001b[1;33m[\u001b[0m\u001b[1;32mFalse\u001b[0m \u001b[1;32mfor\u001b[0m \u001b[0m_\u001b[0m \u001b[1;32min\u001b[0m \u001b[0mrange_\u001b[0m\u001b[1;33m(\u001b[0m\u001b[0mself\u001b[0m\u001b[1;33m.\u001b[0m\u001b[0m__num_dataset\u001b[0m\u001b[1;33m)\u001b[0m\u001b[1;33m]\u001b[0m\u001b[1;33m\u001b[0m\u001b[1;33m\u001b[0m\u001b[0m\n\u001b[0;32m   1898\u001b[0m             \u001b[1;32mreturn\u001b[0m \u001b[0mis_finished\u001b[0m\u001b[1;33m.\u001b[0m\u001b[0mvalue\u001b[0m \u001b[1;33m==\u001b[0m \u001b[1;36m1\u001b[0m\u001b[1;33m\u001b[0m\u001b[1;33m\u001b[0m\u001b[0m\n",
      "\u001b[1;31mKeyboardInterrupt\u001b[0m: "
     ]
    }
   ],
   "source": [
    "begin = time.time()\n",
    "avg_hit_rate = 0\n",
    "prediction_df = pd.DataFrame()\n",
    "hit_score_list = []\n",
    "train_num_list = []\n",
    "building_df_list   = []\n",
    "oof_list       = []\n",
    "cat_cols = [i for i in data.columns if data[i].dtypes not in ['int64', 'float64', 'O']]\n",
    "train = data[:60000]\n",
    "test = data[60000:]\n",
    "for b_type in train['building_type'].unique():\n",
    "    temp_train = train[train['building_type'] == b_type]\n",
    "    temp_test  = test[test['building_type'] == b_type]\n",
    "    temp_train.drop(['building_type'], axis =1, inplace =True)\n",
    "    temp_test.drop(['building_type'], axis =1, inplace =True)\n",
    "    \n",
    "    target_df = train.groupby(['city', 'town']).agg({'building_area' : ['mean', 'median'], 'land_area' : ['mean', 'median'], 'total_price' : ['mean', 'median']}).reset_index()\n",
    "    target_df.columns = [i[0] + '_' + i[1]  if i[1] != '' else i[0] for i in target_df.columns.tolist()]\n",
    "    target_df['price_land_rate_median'] = np.log1p(target_df['total_price_median']) / target_df['land_area_median']\n",
    "    target_df['price_building_rate_median'] = np.log1p(target_df['total_price_median']) / target_df['building_area_median']\n",
    "    target_df['price_land_rate_mean'] = np.log1p(target_df['total_price_mean']) / target_df['land_area_mean']\n",
    "    target_df['price_building_rate_mean'] = np.log1p(target_df['total_price_mean']) / target_df['building_area_mean']\n",
    "    \n",
    "    combine_cols = ['city', 'town', 'price_land_rate_median', 'price_building_rate_median', 'price_land_rate_mean', 'price_building_rate_mean']\n",
    "    train = pd.merge(train, target_df[combine_cols], on =['city', 'town'], how='left')\n",
    "    test = pd.merge(test, target_df[combine_cols], on =['city', 'town'], how='left')\n",
    "\n",
    "\n",
    "    \n",
    "    preds, hit_score, oof = lgb_model(10, temp_train, temp_test, cat_cols, stratified=False)\n",
    "    temp = pd.DataFrame({'building_id' : temp_test['building_id'], 'total_price' : preds})\n",
    "    prediction_df = pd.concat([prediction_df, temp], axis=0)\n",
    "    \n",
    "    print('building_type : {}'.format(b_type))\n",
    "    print('Train_num: {}'.format(len(temp_train)))\n",
    "    print('Test_num: {}'.format(len(temp_test)))\n",
    "    print('-'*1000)\n",
    "    hit_score_list.append(hit_score)\n",
    "    train_num_list.append(len(temp_train))\n",
    "    building_df_list.append(b_type)\n",
    "    oof_list.append(oof)\n",
    "    avg_hit_rate += hit_score / 60000 * len(temp_train)\n",
    "\n",
    "Result_df = pd.DataFrame({'City' : building_df_list,\n",
    "                        'Train_num' : train_num_list,\n",
    "                        'Hit_score' : hit_score_list})\n",
    "\n",
    "print('Avg hit_score : {}'.format(avg_hit_rate))\n",
    "print('總共花：{} 分'.format((time.time() - begin) / 60))\n",
    "print('現在時間 ： {}'.format(datetime.datetime.today().strftime('%m-%d-%H-%M')))\n",
    "Submission(prediction_df['building_id'], np.expm1(prediction_df['total_price']))"
   ]
  },
  {
   "cell_type": "code",
   "execution_count": null,
   "metadata": {},
   "outputs": [],
   "source": []
  },
  {
   "cell_type": "code",
   "execution_count": null,
   "metadata": {},
   "outputs": [],
   "source": []
  },
  {
   "cell_type": "code",
   "execution_count": 35,
   "metadata": {},
   "outputs": [
    {
     "name": "stdout",
     "output_type": "stream",
     "text": [
      "235\n",
      "Training until validation scores don't improve for 10000 rounds.\n",
      "[10000]\ttraining's rmse: 0.0880063\ttraining's Hit_Score: 7698\tvalid_1's rmse: 0.256443\tvalid_1's Hit_Score: 4074\n",
      "[20000]\ttraining's rmse: 0.0481472\ttraining's Hit_Score: 9549\tvalid_1's rmse: 0.254891\tvalid_1's Hit_Score: 4323\n",
      "[30000]\ttraining's rmse: 0.0332324\ttraining's Hit_Score: 9873\tvalid_1's rmse: 0.254898\tvalid_1's Hit_Score: 4426\n",
      "Early stopping, best iteration is:\n",
      "[25183]\ttraining's rmse: 0.038927\ttraining's Hit_Score: 9791\tvalid_1's rmse: 0.254814\tvalid_1's Hit_Score: 4407\n",
      "fold 1 hit_score : 4410.562716127004\n",
      "------------------------------\n",
      "Training until validation scores don't improve for 10000 rounds.\n",
      "[10000]\ttraining's rmse: 0.087705\ttraining's Hit_Score: 7723\tvalid_1's rmse: 0.268821\tvalid_1's Hit_Score: 3977\n",
      "[20000]\ttraining's rmse: 0.0482563\ttraining's Hit_Score: 9550\tvalid_1's rmse: 0.267091\tvalid_1's Hit_Score: 4241\n",
      "[30000]\ttraining's rmse: 0.0334091\ttraining's Hit_Score: 9869\tvalid_1's rmse: 0.266845\tvalid_1's Hit_Score: 4345\n",
      "[40000]\ttraining's rmse: 0.0260404\ttraining's Hit_Score: 9939\tvalid_1's rmse: 0.26679\tvalid_1's Hit_Score: 4363\n",
      "Early stopping, best iteration is:\n",
      "[35466]\ttraining's rmse: 0.0288325\ttraining's Hit_Score: 9921\tvalid_1's rmse: 0.266789\tvalid_1's Hit_Score: 4379\n",
      "fold 2 hit_score : 4379.126060987111\n",
      "------------------------------\n",
      "Training until validation scores don't improve for 10000 rounds.\n",
      "[10000]\ttraining's rmse: 0.0874628\ttraining's Hit_Score: 7698\tvalid_1's rmse: 0.273828\tvalid_1's Hit_Score: 4079\n",
      "[20000]\ttraining's rmse: 0.0481144\ttraining's Hit_Score: 9577\tvalid_1's rmse: 0.271624\tvalid_1's Hit_Score: 4299\n",
      "[30000]\ttraining's rmse: 0.033191\ttraining's Hit_Score: 9863\tvalid_1's rmse: 0.271227\tvalid_1's Hit_Score: 4333\n",
      "[40000]\ttraining's rmse: 0.0258353\ttraining's Hit_Score: 9932\tvalid_1's rmse: 0.271121\tvalid_1's Hit_Score: 4352\n",
      "[50000]\ttraining's rmse: 0.0215471\ttraining's Hit_Score: 9954\tvalid_1's rmse: 0.271068\tvalid_1's Hit_Score: 4387\n",
      "[60000]\ttraining's rmse: 0.0187139\ttraining's Hit_Score: 9969\tvalid_1's rmse: 0.271043\tvalid_1's Hit_Score: 4390\n",
      "[70000]\ttraining's rmse: 0.0167192\ttraining's Hit_Score: 9979\tvalid_1's rmse: 0.271027\tvalid_1's Hit_Score: 4381\n",
      "Early stopping, best iteration is:\n",
      "[60899]\ttraining's rmse: 0.0185085\ttraining's Hit_Score: 9971\tvalid_1's rmse: 0.271039\tvalid_1's Hit_Score: 4399\n",
      "fold 3 hit_score : 4399.37106918239\n",
      "------------------------------\n",
      "Training until validation scores don't improve for 10000 rounds.\n",
      "[10000]\ttraining's rmse: 0.087482\ttraining's Hit_Score: 7720\tvalid_1's rmse: 0.263355\tvalid_1's Hit_Score: 4022\n",
      "[20000]\ttraining's rmse: 0.047785\ttraining's Hit_Score: 9570\tvalid_1's rmse: 0.261736\tvalid_1's Hit_Score: 4242\n",
      "[30000]\ttraining's rmse: 0.0330313\ttraining's Hit_Score: 9882\tvalid_1's rmse: 0.261697\tvalid_1's Hit_Score: 4286\n",
      "[40000]\ttraining's rmse: 0.0257895\ttraining's Hit_Score: 9935\tvalid_1's rmse: 0.26173\tvalid_1's Hit_Score: 4292\n",
      "Early stopping, best iteration is:\n",
      "[31000]\ttraining's rmse: 0.0320852\ttraining's Hit_Score: 9891\tvalid_1's rmse: 0.261672\tvalid_1's Hit_Score: 4292\n",
      "fold 4 hit_score : 4292.452830188679\n",
      "------------------------------\n",
      "Training until validation scores don't improve for 10000 rounds.\n",
      "[10000]\ttraining's rmse: 0.0882244\ttraining's Hit_Score: 7668\tvalid_1's rmse: 0.261161\tvalid_1's Hit_Score: 4000\n",
      "[20000]\ttraining's rmse: 0.048561\ttraining's Hit_Score: 9548\tvalid_1's rmse: 0.258899\tvalid_1's Hit_Score: 4226\n",
      "[30000]\ttraining's rmse: 0.0336888\ttraining's Hit_Score: 9864\tvalid_1's rmse: 0.258526\tvalid_1's Hit_Score: 4292\n",
      "[40000]\ttraining's rmse: 0.0264207\ttraining's Hit_Score: 9923\tvalid_1's rmse: 0.258329\tvalid_1's Hit_Score: 4321\n",
      "[50000]\ttraining's rmse: 0.0221389\ttraining's Hit_Score: 9950\tvalid_1's rmse: 0.258256\tvalid_1's Hit_Score: 4333\n",
      "[60000]\ttraining's rmse: 0.0193265\ttraining's Hit_Score: 9961\tvalid_1's rmse: 0.258228\tvalid_1's Hit_Score: 4349\n",
      "[70000]\ttraining's rmse: 0.017336\ttraining's Hit_Score: 9969\tvalid_1's rmse: 0.258227\tvalid_1's Hit_Score: 4343\n",
      "Early stopping, best iteration is:\n",
      "[62752]\ttraining's rmse: 0.0187188\ttraining's Hit_Score: 9963\tvalid_1's rmse: 0.258231\tvalid_1's Hit_Score: 4358\n",
      "fold 5 hit_score : 4358.490566037736\n",
      "------------------------------\n",
      "Hit ratye : 4368.004024650987\n"
     ]
    },
    {
     "data": {
      "text/plain": [
       "(array([16.39442075, 16.13612828, 14.89314794, ..., 15.80496942,\n",
       "        14.89578685, 13.88880309]),\n",
       " array([14.10837399, 16.39096361, 16.28356634, ..., 14.80400648,\n",
       "        17.43561131, 13.83975046]))"
      ]
     },
     "execution_count": 35,
     "metadata": {},
     "output_type": "execute_result"
    },
    {
     "data": {
      "image/png": "[encoded data removed]",
      "text/plain": [
       "<Figure size 576x720 with 1 Axes>"
      ]
     },
     "metadata": {
      "needs_background": "light"
     },
     "output_type": "display_data"
    }
   ],
   "source": [
    "temp_train = train[train['building_type'] == 4]\n",
    "temp_test = test[test['building_type'] == 4]\n",
    "temp_train['avg_building_land'] = temp_train['building_area'] / temp_train['total_floor']\n",
    "temp_test['avg_building_land'] = temp_test['building_area'] / temp_test['total_floor']\n",
    "\n",
    "temp_train['avg_land_land'] = temp_train['land_area'] / temp_train['total_floor']\n",
    "temp_test['avg_land_land'] = temp_test['land_area'] / temp_test['total_floor']\n",
    "\n",
    "mean_area = temp_train.groupby(['city', 'town']).agg({'land_area' : 'mean', 'total_price' :'mean'}).reset_index()\n",
    "mean_area['mean'] = mean_area['total_price'] / mean_area['land_area']\n",
    "temp_train = pd.merge(temp_train, mean_area[['city', 'town', 'mean']], on =['city', 'town'], how='left')\n",
    "temp_test = pd.merge(temp_test, mean_area[['city', 'town', 'mean']], on =['city', 'town'], how='left')\n",
    "\n",
    "temp_train['parking_area'] = temp_train['building_area'] / (temp_train['total_floor']  +1)\n",
    "temp_test['parking_area'] = temp_test['building_area'] / (temp_test['total_floor']  +1)\n",
    "\n",
    "\n",
    "\n",
    "lgb_model(5, temp_train, temp_test, ['city', 'parking_way', 'building_material', 'building_use'], stratified= False)\n"
   ]
  },
  {
   "cell_type": "code",
   "execution_count": 13,
   "metadata": {},
   "outputs": [
    {
     "data": {
      "text/plain": [
       "MultiIndex(levels=[['building_area', 'land_area', 'total_price', 'town', 'city'], ['mean', 'median', '']],\n",
       "           codes=[[4, 3, 0, 0, 1, 1, 2, 2], [2, 2, 0, 1, 0, 1, 0, 1]])"
      ]
     },
     "execution_count": 13,
     "metadata": {},
     "output_type": "execute_result"
    }
   ],
   "source": [
    "qq= train.groupby(['city', 'town']).agg({'building_area' : ['mean', 'median'], 'land_area' : ['mean', 'median'], 'total_price' : ['mean', 'median']}).reset_index()\n",
    "qq.columns"
   ]
  },
  {
   "cell_type": "code",
   "execution_count": 19,
   "metadata": {},
   "outputs": [
    {
     "data": {
      "text/plain": [
       "['city',\n",
       " 'town',\n",
       " 'building_area_mean',\n",
       " 'building_area_median',\n",
       " 'land_area_mean',\n",
       " 'land_area_median',\n",
       " 'total_price_mean',\n",
       " 'total_price_median']"
      ]
     },
     "execution_count": 19,
     "metadata": {},
     "output_type": "execute_result"
    }
   ],
   "source": [
    "[i[0] + '_' + i[1]  if i[1] != '' else i[0] for i in qq.columns.tolist()]"
   ]
  },
  {
   "cell_type": "code",
   "execution_count": 75,
   "metadata": {},
   "outputs": [
    {
     "data": {
      "text/plain": [
       "['I_MIN',\n",
       " 'II_MIN',\n",
       " 'III_MIN',\n",
       " 'IV_MIN',\n",
       " 'V_MIN',\n",
       " 'VI_MIN',\n",
       " 'VII_MIN',\n",
       " 'VIII_MIN',\n",
       " 'IX_MIN',\n",
       " 'X_MIN',\n",
       " 'XI_MIN',\n",
       " 'XII_MIN',\n",
       " 'XIII_MIN',\n",
       " 'XIV_MIN']"
      ]
     },
     "execution_count": 75,
     "metadata": {},
     "output_type": "execute_result"
    }
   ],
   "source": [
    "[i for i in train.columns if 'MIN' in i]"
   ]
  },
  {
   "cell_type": "code",
   "execution_count": 81,
   "metadata": {},
   "outputs": [],
   "source": [
    "\n",
    "rank_df = train[[i for i in train.columns if 'MIN' in i]].rank(axis =1)\n",
    "rank_df = rank_df.add_prefix('Rank_')"
   ]
  },
  {
   "cell_type": "code",
   "execution_count": null,
   "metadata": {},
   "outputs": [],
   "source": [
    "#Record\n",
    "#local hit_score : 5600, public : 5773    Handle target-encoding on city and town\n",
    "#local hit_score : 5621, public : 5847    Handle target-encoding on city and town + FE\n",
    "#local hit_score : 5638, public : 5737    Handle target-encoding on city and town + FE + Statistic"
   ]
  }
 ],
 "metadata": {
  "kernelspec": {
   "display_name": "Python 3",
   "language": "python",
   "name": "python3"
  },
  "language_info": {
   "codemirror_mode": {
    "name": "ipython",
    "version": 3
   },
   "file_extension": ".py",
   "mimetype": "text/x-python",
   "name": "python",
   "nbconvert_exporter": "python",
   "pygments_lexer": "ipython3",
   "version": "3.7.3"
  }
 },
 "nbformat": 4,
 "nbformat_minor": 2
}
