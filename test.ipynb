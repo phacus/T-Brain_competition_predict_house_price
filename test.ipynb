{
 "cells": [
  {
   "cell_type": "code",
   "execution_count": 1,
   "metadata": {},
   "outputs": [
    {
     "name": "stderr",
     "output_type": "stream",
     "text": [
      "/anaconda3/lib/python3.6/site-packages/lightgbm/__init__.py:46: UserWarning: Starting from version 2.2.1, the library file in distribution wheels for macOS is built by the Apple Clang (Xcode_9.4.1) compiler.\n",
      "This means that in case of installing LightGBM from PyPI via the ``pip install lightgbm`` command, you don't need to install the gcc compiler anymore.\n",
      "Instead of that, you need to install the OpenMP library, which is required for running LightGBM on the system with the Apple Clang compiler.\n",
      "You can install the OpenMP library by the following command: ``brew install libomp``.\n",
      "  \"You can install the OpenMP library by the following command: ``brew install libomp``.\", UserWarning)\n"
     ]
    }
   ],
   "source": [
    "import numpy as np\n",
    "import pandas as pd\n",
    "pd.set_option('max_columns', None)\n",
    "import matplotlib.pyplot as plt\n",
    "import seaborn as sns\n",
    "%matplotlib inline\n",
    "plt.style.use('ggplot')\n",
    "import datetime\n",
    "from catboost import CatBoostRegressor\n",
    "import lightgbm as lgb\n",
    "from scipy import stats\n",
    "from scipy.sparse import hstack, csr_matrix\n",
    "from sklearn.model_selection import train_test_split, KFold\n",
    "from wordcloud import WordCloud\n",
    "from collections import Counter\n",
    "from nltk.corpus import stopwords\n",
    "from nltk.util import ngrams\n",
    "from sklearn.feature_extraction.text import TfidfVectorizer, CountVectorizer\n",
    "from sklearn.preprocessing import StandardScaler\n",
    "stop = set(stopwords.words('english'))\n",
    "import os\n",
    "\n",
    "from sklearn import model_selection\n",
    "from sklearn.metrics import accuracy_score\n",
    "from sklearn.externals import joblib\n",
    "import json\n",
    "import ast\n",
    "import eli5\n",
    "from functools import reduce\n",
    "import warnings\n",
    "from sklearn.metrics import mean_squared_error\n",
    "from scipy import stats\n",
    "from math import sqrt\n",
    "from lightgbm import plot_tree\n",
    "from hyperopt import hp, tpe\n",
    "from hyperopt.fmin import fmin\n",
    "from hyperopt import Trials\n",
    "from hyperopt import fmin\n",
    "from hyperopt import STATUS_OK\n",
    "from hyperopt.pyll.stochastic import sample\n",
    "import time\n",
    "import gc\n",
    "warnings.filterwarnings('ignore')\n",
    "#import shap"
   ]
  },
  {
   "cell_type": "code",
   "execution_count": 3,
   "metadata": {},
   "outputs": [],
   "source": [
    "train = pd.read_csv('dataset-0510/train.csv')\n",
    "test  = pd.read_csv('dataset-0510/test.csv')\n",
    "data = pd.concat([train, test], axis=0)\n",
    "#train.drop(['village'], axis =1, inplace = True)\n",
    "#test.drop(['village'], axis =1, inplace = True)"
   ]
  },
  {
   "cell_type": "code",
   "execution_count": 4,
   "metadata": {},
   "outputs": [],
   "source": [
    "def Submission(Ids, preds):\n",
    "    file_name = datetime.datetime.today().strftime('%m-%d-%H-%M')\n",
    "    submission = pd.DataFrame({'building_id' : Ids, 'total_price' : preds})\n",
    "    if not os.path.isdir('Submission'):\n",
    "        os.makedirs('Submission')\n",
    "    submission.to_csv('Submission/' + file_name + '.csv', index= False)"
   ]
  },
  {
   "cell_type": "code",
   "execution_count": 5,
   "metadata": {},
   "outputs": [],
   "source": [
    "def display_importances(feature_importance_df):\n",
    "    cols = feature_importance_df[[\"feature\", \"importance\"]].groupby(\"feature\").mean().sort_values(by=\"importance\", ascending=False)[:40].index\n",
    "    best_features = feature_importance_df.loc[feature_importance_df.feature.isin(cols)]\n",
    "\n",
    "    plt.figure(figsize=(8, 10))\n",
    "    sns.barplot(x=\"importance\", y=\"feature\", data=best_features.sort_values(by=\"importance\", ascending=False))\n",
    "    plt.title('LightGBM Features (avg over folds)')\n",
    "    plt.tight_layout()"
   ]
  },
  {
   "cell_type": "code",
   "execution_count": null,
   "metadata": {},
   "outputs": [],
   "source": []
  },
  {
   "cell_type": "code",
   "execution_count": 6,
   "metadata": {},
   "outputs": [
    {
     "ename": "SyntaxError",
     "evalue": "invalid syntax (<ipython-input-6-9e22816c69d6>, line 51)",
     "output_type": "error",
     "traceback": [
      "\u001b[0;36m  File \u001b[0;32m\"<ipython-input-6-9e22816c69d6>\"\u001b[0;36m, line \u001b[0;32m51\u001b[0m\n\u001b[0;31m    cat_features = category_cols\u001b[0m\n\u001b[0m               ^\u001b[0m\n\u001b[0;31mSyntaxError\u001b[0m\u001b[0;31m:\u001b[0m invalid syntax\n"
     ]
    }
   ],
   "source": [
    "def cat_model(split_num, train, test,features, stratified = False, if_one_hot = True):\n",
    "    '''\n",
    "    category_cols = ['building_material',\n",
    " 'building_type',\n",
    " 'building_use',\n",
    " 'parking_way',\n",
    " 'location_2',\n",
    " 'inter_btw_building_type_parking_way',\n",
    " 'inter_btw_building_type_building_use',\n",
    " 'inter_btw_building_type_building_material',\n",
    " 'inter_btw_parking_way_building_use',\n",
    " 'inter_btw_parking_way_building_material',\n",
    " 'inter_btw_building_use_building_material']\n",
    "    '''\n",
    "    category_cols = ['building_material','building_use','parking_way', 'city']\n",
    "    \n",
    "    if stratified:\n",
    "        kf = StratifiedKFold(n_splits = split_num, random_state = 42, shuffle = True)\n",
    "    else :\n",
    "        kf = KFold(n_splits = split_num, random_state=42, shuffle=True)\n",
    "    train['total_price_log'] = np.log1p(train['total_price'])\n",
    "    feature_importance_df = pd.DataFrame()\n",
    "    oof = np.zeros(len(train))\n",
    "    predictions = np.zeros(len(test))\n",
    "    \n",
    "    param ={\n",
    "        'n_estimators': 10000, 'max_depth' : -1, 'num_leaves' :30,         \n",
    "        'objective': 'regression',   'metric':'rmse',   \n",
    "        'learning_rate': 0.01,      'boosting': 'gbdt',     'min_data_in_leaf': 10,\n",
    "        'feature_fraction': 0.9,    'bagging_freq':1,       'bagging_fraction': 0.8,     'importance_type': 'gain',\n",
    "        'lambda_l1': 0.2,  'subsample': .8,   'colsample_bytree': .9\n",
    "    }\n",
    "\n",
    "    features = [i for i in train.columns if i not in ['building_id', 'total_price','total_price_log']] \n",
    "     \n",
    "    for fold_, (trn_idx, val_idx) in enumerate(kf.split(train[features].values,train['total_price_log'].values)):\n",
    "        train_x = train.iloc[trn_idx][features]\n",
    "        train_y = train['total_price_log'].iloc[trn_idx]\n",
    "        val_x = train.iloc[val_idx][features]\n",
    "        val_y = train['total_price_log'].iloc[val_idx]\n",
    "        \n",
    "        clf = CatBoostRegressor(iterations=100000,\n",
    "                                 learning_rate=0.004,\n",
    "                                 depth=5,\n",
    "                                 eval_metric='RMSE',\n",
    "                                 colsample_bylevel=0.8,\n",
    "                                 random_seed = 42,\n",
    "                                 bagging_temperature = 0.2,\n",
    "                                 metric_period = None,\n",
    "                                 early_stopping_rounds=200\n",
    "                                 cat_features = category_cols\n",
    "                                )\n",
    "        clf.fit(train_x, train_y,\n",
    "                 eval_set=(val_x, val_y),\n",
    "                 use_best_model=True,\n",
    "                 verbose=1000)\n",
    "        oof[val_idx] = clf.predict(train.iloc[val_idx][features])\n",
    "        predictions += clf.predict(test[features], num_iteration = clf.best_iteration) / kf.n_splits\n",
    "        \n",
    "        y   = np.expm1(train['total_price_log'].iloc[val_idx]) \n",
    "        yhat = np.expm1(oof[val_idx])\n",
    "        Hit_score = np.sum([1 for i in np.abs((y - yhat) / y)  if i <= 0.1 ])\n",
    "        print('fold {} hit_score : {}'.format(fold_ + 1, round(Hit_score, 4) /len(train.iloc[val_idx]) * 10000))\n",
    "        print('-'*30)\n",
    "        fold_importance_df = pd.DataFrame()\n",
    "        fold_importance_df['feature']    = features\n",
    "        fold_importance_df['importance'] = np.log1p(clf.feature_importance(importance_type='gain', iteration=clf.best_iteration))\n",
    "        fold_importance_df['fold']       = fold_ + 1\n",
    "        feature_importance_df = pd.concat([feature_importance_df, fold_importance_df], axis=0)\n",
    "    \n",
    "    print('CV scrore : {}'.format(sqrt(mean_squared_error(train['total_price_log'], oof))))\n",
    "    print('-'*30)\n",
    "    y = np.expm1(train['total_price_log']) \n",
    "    yhat = np.expm1(oof)\n",
    "    Hit_score = np.sum([1 for i in np.abs((y - yhat) / y)  if i <= 0.1 ])\n",
    "    print('Hit rate : {}'.format(round(Hit_score, 4) /len(train) * 10000))\n",
    "    \n",
    "    display_importances(feature_importance_df)\n",
    "    return predictions, round(Hit_score, 4) /len(train) * 10000, oof\n"
   ]
  },
  {
   "cell_type": "code",
   "execution_count": 42,
   "metadata": {},
   "outputs": [],
   "source": [
    "def lgb_model(split_num, train, test,features, stratified = False, if_one_hot = True):\n",
    "    '''\n",
    "    category_cols = ['building_material',\n",
    " 'building_type',\n",
    " 'building_use',\n",
    " 'parking_way',\n",
    " 'location_2',\n",
    " 'inter_btw_building_type_parking_way',\n",
    " 'inter_btw_building_type_building_use',\n",
    " 'inter_btw_building_type_building_material',\n",
    " 'inter_btw_parking_way_building_use',\n",
    " 'inter_btw_parking_way_building_material',\n",
    " 'inter_btw_building_use_building_material']\n",
    "    '''\n",
    "    category_cols = ['building_material','building_use','parking_way', 'city']\n",
    "    \n",
    "    if stratified:\n",
    "        kf = StratifiedKFold(n_splits = split_num, random_state = 42, shuffle = True)\n",
    "    else :\n",
    "        kf = KFold(n_splits = split_num, random_state=42, shuffle=True)\n",
    "    train['total_price_log'] = np.log1p(train['total_price'])\n",
    "    feature_importance_df = pd.DataFrame()\n",
    "    oof = np.zeros(len(train))\n",
    "    predictions = np.zeros(len(test))\n",
    "    \n",
    "    param ={\n",
    "        'n_estimators': 10000, 'max_depth' : -1, 'num_leaves' :30,         \n",
    "        'objective': 'regression',   'metric':'rmse',   \n",
    "        'learning_rate': 0.01,      'boosting': 'gbdt',     'min_data_in_leaf': 10,\n",
    "        'feature_fraction': 0.9,    'bagging_freq':1,       'bagging_fraction': 0.8,     'importance_type': 'gain',\n",
    "        'lambda_l1': 0.2,  'subsample': .8,   'colsample_bytree': .9\n",
    "    }\n",
    "\n",
    "    features = [i for i in features if i not in ['building_id','total_price_log']] \n",
    "    print(features) \n",
    "    for fold_, (trn_idx, val_idx) in enumerate(kf.split(train[features].values,train['total_price_log'].values)):\n",
    "        trn_data = lgb.Dataset(train.iloc[trn_idx][features], label= train['total_price_log'].iloc[trn_idx])\n",
    "        val_data = lgb.Dataset(train.iloc[val_idx][features], label= train['total_price_log'].iloc[val_idx])\n",
    "        \n",
    "        \n",
    "        clf = lgb.train(params= param, train_set= trn_data, valid_sets= [trn_data, val_data], verbose_eval=1000, early_stopping_rounds= 10000)\n",
    "        oof[val_idx] = clf.predict(train.iloc[val_idx][features], num_iteration = clf.best_iteration)\n",
    "        predictions += clf.predict(test[features], num_iteration = clf.best_iteration) / kf.n_splits\n",
    "        \n",
    "        y   = np.expm1(train['total_price_log'].iloc[val_idx]) \n",
    "        yhat = np.expm1(oof[val_idx])\n",
    "        Hit_score = np.sum([1 for i in np.abs((y - yhat) / y)  if i <= 0.1 ])\n",
    "        print('fold {} hit_score : {}'.format(fold_ + 1, round(Hit_score, 4) /len(train.iloc[val_idx]) * 10000))\n",
    "        print('-'*30)\n",
    "        fold_importance_df = pd.DataFrame()\n",
    "        fold_importance_df['feature']    = features\n",
    "        fold_importance_df['importance'] = np.log1p(clf.feature_importance(importance_type='gain'))\n",
    "        fold_importance_df['fold']       = fold_ + 1\n",
    "        feature_importance_df = pd.concat([feature_importance_df, fold_importance_df], axis=0)\n",
    "    \n",
    "    print('CV scrore : {}'.format(sqrt(mean_squared_error(train['total_price_log'], oof))))\n",
    "    print('-'*30)\n",
    "    y = np.expm1(train['total_price_log']) \n",
    "    yhat = np.expm1(oof)\n",
    "    Hit_score = np.sum([1 for i in np.abs((y - yhat) / y)  if i <= 0.1 ])\n",
    "    print('Hit rate : {}'.format(round(Hit_score, 4) /len(train) * 10000))\n",
    "    \n",
    "    display_importances(feature_importance_df)\n",
    "    return predictions, round(Hit_score, 4) /len(train) * 10000, oof\n"
   ]
  },
  {
   "cell_type": "code",
   "execution_count": 14,
   "metadata": {
    "scrolled": true
   },
   "outputs": [
    {
     "name": "stdout",
     "output_type": "stream",
     "text": [
      "Training until validation scores don't improve for 10000 rounds.\n",
      "[10000]\ttraining's rmse: 0.0277108\tvalid_1's rmse: 0.177004\n",
      "[20000]\ttraining's rmse: 0.0142966\tvalid_1's rmse: 0.176804\n",
      "Early stopping, best iteration is:\n",
      "[18626]\ttraining's rmse: 0.0152364\tvalid_1's rmse: 0.176792\n",
      "fold 1 hit_score : 5853.889943074004\n",
      "------------------------------\n",
      "Training until validation scores don't improve for 10000 rounds.\n",
      "[10000]\ttraining's rmse: 0.0281996\tvalid_1's rmse: 0.190081\n",
      "Early stopping, best iteration is:\n",
      "[9703]\ttraining's rmse: 0.0290402\tvalid_1's rmse: 0.190076\n",
      "fold 2 hit_score : 5666.824869482677\n",
      "------------------------------\n",
      "Training until validation scores don't improve for 10000 rounds.\n",
      "[10000]\ttraining's rmse: 0.0285357\tvalid_1's rmse: 0.203201\n",
      "[20000]\ttraining's rmse: 0.0148275\tvalid_1's rmse: 0.203202\n",
      "Early stopping, best iteration is:\n",
      "[11634]\ttraining's rmse: 0.0246648\tvalid_1's rmse: 0.203121\n",
      "fold 3 hit_score : 5723.777883246322\n",
      "------------------------------\n",
      "Training until validation scores don't improve for 10000 rounds.\n",
      "[10000]\ttraining's rmse: 0.0284842\tvalid_1's rmse: 0.187846\n"
     ]
    },
    {
     "ename": "KeyboardInterrupt",
     "evalue": "",
     "output_type": "error",
     "traceback": [
      "\u001b[0;31m---------------------------------------------------------------------------\u001b[0m",
      "\u001b[0;31mKeyboardInterrupt\u001b[0m                         Traceback (most recent call last)",
      "\u001b[0;32m<ipython-input-14-bce1600ae000>\u001b[0m in \u001b[0;36m<module>\u001b[0;34m\u001b[0m\n\u001b[1;32m     12\u001b[0m     \u001b[0mtemp_train\u001b[0m\u001b[0;34m.\u001b[0m\u001b[0mdrop\u001b[0m\u001b[0;34m(\u001b[0m\u001b[0;34m[\u001b[0m\u001b[0;34m'building_type'\u001b[0m\u001b[0;34m]\u001b[0m\u001b[0;34m,\u001b[0m \u001b[0maxis\u001b[0m \u001b[0;34m=\u001b[0m\u001b[0;36m1\u001b[0m\u001b[0;34m,\u001b[0m \u001b[0minplace\u001b[0m \u001b[0;34m=\u001b[0m\u001b[0;32mTrue\u001b[0m\u001b[0;34m)\u001b[0m\u001b[0;34m\u001b[0m\u001b[0;34m\u001b[0m\u001b[0m\n\u001b[1;32m     13\u001b[0m     \u001b[0mtemp_test\u001b[0m\u001b[0;34m.\u001b[0m\u001b[0mdrop\u001b[0m\u001b[0;34m(\u001b[0m\u001b[0;34m[\u001b[0m\u001b[0;34m'building_type'\u001b[0m\u001b[0;34m]\u001b[0m\u001b[0;34m,\u001b[0m \u001b[0maxis\u001b[0m \u001b[0;34m=\u001b[0m\u001b[0;36m1\u001b[0m\u001b[0;34m,\u001b[0m \u001b[0minplace\u001b[0m \u001b[0;34m=\u001b[0m\u001b[0;32mTrue\u001b[0m\u001b[0;34m)\u001b[0m\u001b[0;34m\u001b[0m\u001b[0;34m\u001b[0m\u001b[0m\n\u001b[0;32m---> 14\u001b[0;31m     \u001b[0mpreds\u001b[0m\u001b[0;34m,\u001b[0m \u001b[0mhit_score\u001b[0m\u001b[0;34m,\u001b[0m \u001b[0moof\u001b[0m \u001b[0;34m=\u001b[0m \u001b[0mlgb_model\u001b[0m\u001b[0;34m(\u001b[0m\u001b[0;36m5\u001b[0m\u001b[0;34m,\u001b[0m \u001b[0mtemp_train\u001b[0m\u001b[0;34m,\u001b[0m \u001b[0mtemp_test\u001b[0m\u001b[0;34m,\u001b[0m \u001b[0mfeatures\u001b[0m\u001b[0;34m=\u001b[0m \u001b[0mfeatures\u001b[0m\u001b[0;34m,\u001b[0m\u001b[0mif_one_hot\u001b[0m\u001b[0;34m=\u001b[0m\u001b[0;32mFalse\u001b[0m\u001b[0;34m)\u001b[0m\u001b[0;34m\u001b[0m\u001b[0;34m\u001b[0m\u001b[0m\n\u001b[0m\u001b[1;32m     15\u001b[0m     \u001b[0mtemp\u001b[0m \u001b[0;34m=\u001b[0m \u001b[0mpd\u001b[0m\u001b[0;34m.\u001b[0m\u001b[0mDataFrame\u001b[0m\u001b[0;34m(\u001b[0m\u001b[0;34m{\u001b[0m\u001b[0;34m'building_id'\u001b[0m \u001b[0;34m:\u001b[0m \u001b[0mtemp_test\u001b[0m\u001b[0;34m[\u001b[0m\u001b[0;34m'building_id'\u001b[0m\u001b[0;34m]\u001b[0m\u001b[0;34m,\u001b[0m \u001b[0;34m'total_price'\u001b[0m \u001b[0;34m:\u001b[0m \u001b[0mpreds\u001b[0m\u001b[0;34m}\u001b[0m\u001b[0;34m)\u001b[0m\u001b[0;34m\u001b[0m\u001b[0;34m\u001b[0m\u001b[0m\n\u001b[1;32m     16\u001b[0m     \u001b[0mprediction_df\u001b[0m \u001b[0;34m=\u001b[0m \u001b[0mpd\u001b[0m\u001b[0;34m.\u001b[0m\u001b[0mconcat\u001b[0m\u001b[0;34m(\u001b[0m\u001b[0;34m[\u001b[0m\u001b[0mprediction_df\u001b[0m\u001b[0;34m,\u001b[0m \u001b[0mtemp\u001b[0m\u001b[0;34m]\u001b[0m\u001b[0;34m,\u001b[0m \u001b[0maxis\u001b[0m\u001b[0;34m=\u001b[0m\u001b[0;36m0\u001b[0m\u001b[0;34m)\u001b[0m\u001b[0;34m\u001b[0m\u001b[0;34m\u001b[0m\u001b[0m\n",
      "\u001b[0;32m<ipython-input-12-0c8020f53bc1>\u001b[0m in \u001b[0;36mlgb_model\u001b[0;34m(split_num, train, test, features, stratified, if_one_hot)\u001b[0m\n\u001b[1;32m     39\u001b[0m \u001b[0;34m\u001b[0m\u001b[0m\n\u001b[1;32m     40\u001b[0m \u001b[0;34m\u001b[0m\u001b[0m\n\u001b[0;32m---> 41\u001b[0;31m         \u001b[0mclf\u001b[0m \u001b[0;34m=\u001b[0m \u001b[0mlgb\u001b[0m\u001b[0;34m.\u001b[0m\u001b[0mtrain\u001b[0m\u001b[0;34m(\u001b[0m\u001b[0mparams\u001b[0m\u001b[0;34m=\u001b[0m \u001b[0mparam\u001b[0m\u001b[0;34m,\u001b[0m \u001b[0mtrain_set\u001b[0m\u001b[0;34m=\u001b[0m \u001b[0mtrn_data\u001b[0m\u001b[0;34m,\u001b[0m \u001b[0mvalid_sets\u001b[0m\u001b[0;34m=\u001b[0m \u001b[0;34m[\u001b[0m\u001b[0mtrn_data\u001b[0m\u001b[0;34m,\u001b[0m \u001b[0mval_data\u001b[0m\u001b[0;34m]\u001b[0m\u001b[0;34m,\u001b[0m \u001b[0mverbose_eval\u001b[0m\u001b[0;34m=\u001b[0m\u001b[0;36m10000\u001b[0m\u001b[0;34m,\u001b[0m \u001b[0mearly_stopping_rounds\u001b[0m\u001b[0;34m=\u001b[0m \u001b[0;36m10000\u001b[0m\u001b[0;34m,\u001b[0m \u001b[0mcategorical_feature\u001b[0m\u001b[0;34m=\u001b[0m\u001b[0mcategory_cols\u001b[0m\u001b[0;34m)\u001b[0m\u001b[0;34m\u001b[0m\u001b[0;34m\u001b[0m\u001b[0m\n\u001b[0m\u001b[1;32m     42\u001b[0m         \u001b[0moof\u001b[0m\u001b[0;34m[\u001b[0m\u001b[0mval_idx\u001b[0m\u001b[0;34m]\u001b[0m \u001b[0;34m=\u001b[0m \u001b[0mclf\u001b[0m\u001b[0;34m.\u001b[0m\u001b[0mpredict\u001b[0m\u001b[0;34m(\u001b[0m\u001b[0mtrain\u001b[0m\u001b[0;34m.\u001b[0m\u001b[0miloc\u001b[0m\u001b[0;34m[\u001b[0m\u001b[0mval_idx\u001b[0m\u001b[0;34m]\u001b[0m\u001b[0;34m[\u001b[0m\u001b[0mfeatures\u001b[0m\u001b[0;34m]\u001b[0m\u001b[0;34m,\u001b[0m \u001b[0mnum_iteration\u001b[0m \u001b[0;34m=\u001b[0m \u001b[0mclf\u001b[0m\u001b[0;34m.\u001b[0m\u001b[0mbest_iteration\u001b[0m\u001b[0;34m)\u001b[0m\u001b[0;34m\u001b[0m\u001b[0;34m\u001b[0m\u001b[0m\n\u001b[1;32m     43\u001b[0m         \u001b[0mpredictions\u001b[0m \u001b[0;34m+=\u001b[0m \u001b[0mclf\u001b[0m\u001b[0;34m.\u001b[0m\u001b[0mpredict\u001b[0m\u001b[0;34m(\u001b[0m\u001b[0mtest\u001b[0m\u001b[0;34m[\u001b[0m\u001b[0mfeatures\u001b[0m\u001b[0;34m]\u001b[0m\u001b[0;34m,\u001b[0m \u001b[0mnum_iteration\u001b[0m \u001b[0;34m=\u001b[0m \u001b[0mclf\u001b[0m\u001b[0;34m.\u001b[0m\u001b[0mbest_iteration\u001b[0m\u001b[0;34m)\u001b[0m \u001b[0;34m/\u001b[0m \u001b[0mkf\u001b[0m\u001b[0;34m.\u001b[0m\u001b[0mn_splits\u001b[0m\u001b[0;34m\u001b[0m\u001b[0;34m\u001b[0m\u001b[0m\n",
      "\u001b[0;32m/anaconda3/lib/python3.7/site-packages/lightgbm/engine.py\u001b[0m in \u001b[0;36mtrain\u001b[0;34m(params, train_set, num_boost_round, valid_sets, valid_names, fobj, feval, init_model, feature_name, categorical_feature, early_stopping_rounds, evals_result, verbose_eval, learning_rates, keep_training_booster, callbacks)\u001b[0m\n\u001b[1;32m    214\u001b[0m                                     evaluation_result_list=None))\n\u001b[1;32m    215\u001b[0m \u001b[0;34m\u001b[0m\u001b[0m\n\u001b[0;32m--> 216\u001b[0;31m         \u001b[0mbooster\u001b[0m\u001b[0;34m.\u001b[0m\u001b[0mupdate\u001b[0m\u001b[0;34m(\u001b[0m\u001b[0mfobj\u001b[0m\u001b[0;34m=\u001b[0m\u001b[0mfobj\u001b[0m\u001b[0;34m)\u001b[0m\u001b[0;34m\u001b[0m\u001b[0;34m\u001b[0m\u001b[0m\n\u001b[0m\u001b[1;32m    217\u001b[0m \u001b[0;34m\u001b[0m\u001b[0m\n\u001b[1;32m    218\u001b[0m         \u001b[0mevaluation_result_list\u001b[0m \u001b[0;34m=\u001b[0m \u001b[0;34m[\u001b[0m\u001b[0;34m]\u001b[0m\u001b[0;34m\u001b[0m\u001b[0;34m\u001b[0m\u001b[0m\n",
      "\u001b[0;32m/anaconda3/lib/python3.7/site-packages/lightgbm/basic.py\u001b[0m in \u001b[0;36mupdate\u001b[0;34m(self, train_set, fobj)\u001b[0m\n\u001b[1;32m   1758\u001b[0m             _safe_call(_LIB.LGBM_BoosterUpdateOneIter(\n\u001b[1;32m   1759\u001b[0m                 \u001b[0mself\u001b[0m\u001b[0;34m.\u001b[0m\u001b[0mhandle\u001b[0m\u001b[0;34m,\u001b[0m\u001b[0;34m\u001b[0m\u001b[0;34m\u001b[0m\u001b[0m\n\u001b[0;32m-> 1760\u001b[0;31m                 ctypes.byref(is_finished)))\n\u001b[0m\u001b[1;32m   1761\u001b[0m             \u001b[0mself\u001b[0m\u001b[0;34m.\u001b[0m\u001b[0m__is_predicted_cur_iter\u001b[0m \u001b[0;34m=\u001b[0m \u001b[0;34m[\u001b[0m\u001b[0;32mFalse\u001b[0m \u001b[0;32mfor\u001b[0m \u001b[0m_\u001b[0m \u001b[0;32min\u001b[0m \u001b[0mrange_\u001b[0m\u001b[0;34m(\u001b[0m\u001b[0mself\u001b[0m\u001b[0;34m.\u001b[0m\u001b[0m__num_dataset\u001b[0m\u001b[0;34m)\u001b[0m\u001b[0;34m]\u001b[0m\u001b[0;34m\u001b[0m\u001b[0;34m\u001b[0m\u001b[0m\n\u001b[1;32m   1762\u001b[0m             \u001b[0;32mreturn\u001b[0m \u001b[0mis_finished\u001b[0m\u001b[0;34m.\u001b[0m\u001b[0mvalue\u001b[0m \u001b[0;34m==\u001b[0m \u001b[0;36m1\u001b[0m\u001b[0;34m\u001b[0m\u001b[0;34m\u001b[0m\u001b[0m\n",
      "\u001b[0;31mKeyboardInterrupt\u001b[0m: "
     ]
    }
   ],
   "source": [
    "begin = time.time()\n",
    "avg_hit_rate = 0\n",
    "prediction_df = pd.DataFrame()\n",
    "hit_score_list = []\n",
    "train_num_list = []\n",
    "building_df_list   = []\n",
    "oof_list       = []\n",
    "features = [i for i in train.columns if i not in ['building_id', 'total_price','total_price_log','city']] \n",
    "for b_type in train['building_type'].unique():\n",
    "    temp_train = train[train['building_type'] == b_type]\n",
    "    temp_test  = test[test['building_type'] == b_type]\n",
    "    temp_train.drop(['building_type'], axis =1, inplace =True)\n",
    "    temp_test.drop(['building_type'], axis =1, inplace =True)\n",
    "    preds, hit_score, oof = lgb_model(5, temp_train, temp_test, features= features,if_one_hot=False)\n",
    "    temp = pd.DataFrame({'building_id' : temp_test['building_id'], 'total_price' : preds})\n",
    "    prediction_df = pd.concat([prediction_df, temp], axis=0)\n",
    "    \n",
    "    print('building_type : {}'.format(b_type))\n",
    "    print('Train_num: {}'.format(len(temp_train)))\n",
    "    print('Test_num: {}'.format(len(temp_test)))\n",
    "    print('-'*1000)\n",
    "    hit_score_list.append(hit_score)\n",
    "    train_num_list.append(len(temp_train))\n",
    "    building_df_list.append(b_type)\n",
    "    oof_list.append(oof)\n",
    "    avg_hit_rate += hit_score / 60000 * len(temp_train)\n",
    "\n",
    "Result_df = pd.DataFrame({'City' : building_df_list,\n",
    "                        'Train_num' : train_num_list,\n",
    "                        'Hit_score' : hit_score_list})\n",
    "\n",
    "print('Avg hit_score : {}'.format(avg_hit_rate))\n",
    "print('總共花：{} 分'.format((time.time() - begin) / 60))\n",
    "print('現在時間 ： {}'.format(datetime.datetime.today().strftime('%m-%d-%H-%M')))\n",
    "Submission(prediction_df['building_id'], np.expm1(prediction_df['total_price']))"
   ]
  },
  {
   "cell_type": "code",
   "execution_count": 46,
   "metadata": {},
   "outputs": [],
   "source": [
    "temp_train = train[train['building_type'] == 4]\n",
    "temp_test = test[test['building_type'] == 4]\n",
    "'''\n",
    "temp_train = temp_train.join(pd.get_dummies(temp_train['city'], prefix = 'city'))\n",
    "temp_train = temp_train.join(pd.get_dummies(temp_train['parking_way'], prefix = 'parking_way'))\n",
    "temp_test = temp_test.join(pd.get_dummies(temp_test['city'], prefix = 'city'))\n",
    "temp_test = temp_test.join(pd.get_dummies(temp_test['parking_way'], prefix = 'parking_way'))\n",
    "temp_train['miss_parking_area'] = 0\n",
    "temp_train['miss_parking_price'] = 0\n",
    "temp_train.loc[temp_train['parking_area'].isna(), 'miss_parking_area'] = 1\n",
    "temp_train.loc[temp_train['parking_price'].isna(), 'miss_parking_price'] = 1\n",
    "temp_train['parking_price_every_area'] = temp_train['parking_price'] / temp_train['parking_area']\n",
    "temp_train['parking_way'] = temp_train['parking_way'].astype('category')\n",
    "temp_train['parking_area'].fillna(0, inplace =True)\n",
    "temp_train['parking_price'].fillna(0, inplace =True)\n",
    "\n",
    "temp_test['miss_parking_area'] = 0\n",
    "temp_test['miss_parking_price'] = 0\n",
    "temp_test.loc[temp_test['parking_area'].isna(), 'miss_parking_area'] = 1\n",
    "temp_test.loc[temp_test['parking_price'].isna(), 'miss_parking_price'] = 1\n",
    "temp_test['parking_price_every_area'] = temp_test['parking_price'] / temp_test['parking_area']\n",
    "temp_test['parking_way'] = temp_test['parking_way'].astype('category')\n",
    "\n",
    "temp_test['parking_area'].fillna(0, inplace =True)\n",
    "temp_test['parking_price'].fillna(0, inplace =True)\n",
    "'''\n",
    "\n",
    "\n",
    "#temp_train['mean_price'] = temp_train['total_price'] / temp_train['land_area']\n",
    "#temp_test['mean_price'] = 0\n",
    "features = [i for i in temp_train.columns if i not in ['building_id', 'total_price','total_price_log']] \n",
    "#temp_train = temp_train[np.abs(temp_train.land_area-temp_train.land_area.mean()) <= (3*temp_train.land_area.std())]\n"
   ]
  },
  {
   "cell_type": "code",
   "execution_count": 47,
   "metadata": {
    "scrolled": false
   },
   "outputs": [
    {
     "name": "stdout",
     "output_type": "stream",
     "text": [
      "['building_material', 'city', 'txn_dt', 'total_floor', 'building_type', 'building_use', 'building_complete_dt', 'parking_way', 'parking_area', 'parking_price', 'txn_floor', 'land_area', 'building_area', 'town', 'lat', 'lon', 'village_income_median', 'town_population', 'town_area', 'town_population_density', 'doc_rate', 'master_rate', 'bachelor_rate', 'jobschool_rate', 'highschool_rate', 'junior_rate', 'elementary_rate', 'born_rate', 'death_rate', 'marriage_rate', 'divorce_rate', 'village', 'N_50', 'N_500', 'N_1000', 'N_5000', 'N_10000', 'I_10', 'I_50', 'I_index_50', 'I_100', 'I_250', 'I_500', 'I_index_500', 'I_1000', 'I_index_1000', 'I_5000', 'I_index_5000', 'I_10000', 'I_index_10000', 'I_MIN', 'II_10', 'II_50', 'II_index_50', 'II_100', 'II_250', 'II_500', 'II_index_500', 'II_1000', 'II_index_1000', 'II_5000', 'II_index_5000', 'II_10000', 'II_index_10000', 'II_MIN', 'III_10', 'III_50', 'III_index_50', 'III_100', 'III_250', 'III_500', 'III_index_500', 'III_1000', 'III_index_1000', 'III_5000', 'III_index_5000', 'III_10000', 'III_index_10000', 'III_MIN', 'IV_10', 'IV_50', 'IV_index_50', 'IV_100', 'IV_250', 'IV_500', 'IV_index_500', 'IV_1000', 'IV_index_1000', 'IV_5000', 'IV_index_5000', 'IV_10000', 'IV_index_10000', 'IV_MIN', 'V_10', 'V_50', 'V_index_50', 'V_100', 'V_250', 'V_500', 'V_index_500', 'V_1000', 'V_index_1000', 'V_5000', 'V_index_5000', 'V_10000', 'V_index_10000', 'V_MIN', 'VI_10', 'VI_50', 'VI_index_50', 'VI_100', 'VI_250', 'VI_500', 'VI_index_500', 'VI_1000', 'VI_index_1000', 'VI_5000', 'VI_index_5000', 'VI_10000', 'VI_index_10000', 'VI_MIN', 'VII_10', 'VII_50', 'VII_index_50', 'VII_100', 'VII_250', 'VII_500', 'VII_index_500', 'VII_1000', 'VII_index_1000', 'VII_5000', 'VII_index_5000', 'VII_10000', 'VII_index_10000', 'VII_MIN', 'VIII_10', 'VIII_50', 'VIII_index_50', 'VIII_100', 'VIII_250', 'VIII_500', 'VIII_index_500', 'VIII_1000', 'VIII_index_1000', 'VIII_5000', 'VIII_index_5000', 'VIII_10000', 'VIII_index_10000', 'VIII_MIN', 'IX_10', 'IX_50', 'IX_index_50', 'IX_100', 'IX_250', 'IX_500', 'IX_index_500', 'IX_1000', 'IX_index_1000', 'IX_5000', 'IX_index_5000', 'IX_10000', 'IX_index_10000', 'IX_MIN', 'X_10', 'X_50', 'X_index_50', 'X_100', 'X_250', 'X_500', 'X_index_500', 'X_1000', 'X_index_1000', 'X_5000', 'X_index_5000', 'X_10000', 'X_index_10000', 'X_MIN', 'XI_10', 'XI_50', 'XI_index_50', 'XI_100', 'XI_250', 'XI_500', 'XI_index_500', 'XI_1000', 'XI_index_1000', 'XI_5000', 'XI_index_5000', 'XI_10000', 'XI_index_10000', 'XI_MIN', 'XII_10', 'XII_50', 'XII_index_50', 'XII_100', 'XII_250', 'XII_500', 'XII_index_500', 'XII_1000', 'XII_index_1000', 'XII_5000', 'XII_index_5000', 'XII_10000', 'XII_index_10000', 'XII_MIN', 'XIII_10', 'XIII_50', 'XIII_index_50', 'XIII_100', 'XIII_250', 'XIII_500', 'XIII_index_500', 'XIII_1000', 'XIII_index_1000', 'XIII_5000', 'XIII_index_5000', 'XIII_10000', 'XIII_index_10000', 'XIII_MIN', 'XIV_10', 'XIV_50', 'XIV_index_50', 'XIV_100', 'XIV_250', 'XIV_500', 'XIV_index_500', 'XIV_1000', 'XIV_index_1000', 'XIV_5000', 'XIV_index_5000', 'XIV_10000', 'XIV_index_10000', 'XIV_MIN', 'village_mean_price', 'village_price_rate', 'village_price_rate1', 'village_price_rate2', 'town_mean_price', 'town_price_rate1', 'town_price_rate2']\n",
      "Training until validation scores don't improve for 10000 rounds.\n",
      "[1000]\ttraining's rmse: 0.216562\tvalid_1's rmse: 0.28307\n",
      "[2000]\ttraining's rmse: 0.168402\tvalid_1's rmse: 0.268265\n",
      "[3000]\ttraining's rmse: 0.13787\tvalid_1's rmse: 0.26215\n",
      "[4000]\ttraining's rmse: 0.115534\tvalid_1's rmse: 0.258717\n",
      "[5000]\ttraining's rmse: 0.0983359\tvalid_1's rmse: 0.256768\n",
      "[6000]\ttraining's rmse: 0.0847163\tvalid_1's rmse: 0.255673\n"
     ]
    },
    {
     "ename": "KeyboardInterrupt",
     "evalue": "",
     "output_type": "error",
     "traceback": [
      "\u001b[0;31m---------------------------------------------------------------------------\u001b[0m",
      "\u001b[0;31mKeyboardInterrupt\u001b[0m                         Traceback (most recent call last)",
      "\u001b[0;32m<ipython-input-47-39f18bfcbf85>\u001b[0m in \u001b[0;36m<module>\u001b[0;34m\u001b[0m\n\u001b[1;32m      1\u001b[0m \u001b[0mfeatures\u001b[0m \u001b[0;34m=\u001b[0m \u001b[0;34m[\u001b[0m\u001b[0mi\u001b[0m \u001b[0;32mfor\u001b[0m \u001b[0mi\u001b[0m \u001b[0;32min\u001b[0m \u001b[0mtemp_train\u001b[0m\u001b[0;34m.\u001b[0m\u001b[0mcolumns\u001b[0m \u001b[0;32mif\u001b[0m \u001b[0mi\u001b[0m \u001b[0;32mnot\u001b[0m \u001b[0;32min\u001b[0m \u001b[0;34m[\u001b[0m\u001b[0;34m'building_id'\u001b[0m\u001b[0;34m,\u001b[0m \u001b[0;34m'total_price'\u001b[0m\u001b[0;34m,\u001b[0m\u001b[0;34m'total_price_log'\u001b[0m\u001b[0;34m]\u001b[0m\u001b[0;34m]\u001b[0m\u001b[0;34m\u001b[0m\u001b[0;34m\u001b[0m\u001b[0m\n\u001b[0;32m----> 2\u001b[0;31m \u001b[0mlgb_model\u001b[0m\u001b[0;34m(\u001b[0m\u001b[0;36m5\u001b[0m\u001b[0;34m,\u001b[0m \u001b[0mtemp_train\u001b[0m\u001b[0;34m,\u001b[0m \u001b[0mtemp_test\u001b[0m\u001b[0;34m,\u001b[0m \u001b[0mfeatures\u001b[0m\u001b[0;34m=\u001b[0m \u001b[0mfeatures\u001b[0m\u001b[0;34m,\u001b[0m\u001b[0mif_one_hot\u001b[0m\u001b[0;34m=\u001b[0m\u001b[0;32mFalse\u001b[0m\u001b[0;34m)\u001b[0m\u001b[0;34m\u001b[0m\u001b[0;34m\u001b[0m\u001b[0m\n\u001b[0m",
      "\u001b[0;32m<ipython-input-42-cadee7102902>\u001b[0m in \u001b[0;36mlgb_model\u001b[0;34m(split_num, train, test, features, stratified, if_one_hot)\u001b[0m\n\u001b[1;32m     39\u001b[0m \u001b[0;34m\u001b[0m\u001b[0m\n\u001b[1;32m     40\u001b[0m \u001b[0;34m\u001b[0m\u001b[0m\n\u001b[0;32m---> 41\u001b[0;31m         \u001b[0mclf\u001b[0m \u001b[0;34m=\u001b[0m \u001b[0mlgb\u001b[0m\u001b[0;34m.\u001b[0m\u001b[0mtrain\u001b[0m\u001b[0;34m(\u001b[0m\u001b[0mparams\u001b[0m\u001b[0;34m=\u001b[0m \u001b[0mparam\u001b[0m\u001b[0;34m,\u001b[0m \u001b[0mtrain_set\u001b[0m\u001b[0;34m=\u001b[0m \u001b[0mtrn_data\u001b[0m\u001b[0;34m,\u001b[0m \u001b[0mvalid_sets\u001b[0m\u001b[0;34m=\u001b[0m \u001b[0;34m[\u001b[0m\u001b[0mtrn_data\u001b[0m\u001b[0;34m,\u001b[0m \u001b[0mval_data\u001b[0m\u001b[0;34m]\u001b[0m\u001b[0;34m,\u001b[0m \u001b[0mverbose_eval\u001b[0m\u001b[0;34m=\u001b[0m\u001b[0;36m1000\u001b[0m\u001b[0;34m,\u001b[0m \u001b[0mearly_stopping_rounds\u001b[0m\u001b[0;34m=\u001b[0m \u001b[0;36m10000\u001b[0m\u001b[0;34m)\u001b[0m\u001b[0;34m\u001b[0m\u001b[0;34m\u001b[0m\u001b[0m\n\u001b[0m\u001b[1;32m     42\u001b[0m         \u001b[0moof\u001b[0m\u001b[0;34m[\u001b[0m\u001b[0mval_idx\u001b[0m\u001b[0;34m]\u001b[0m \u001b[0;34m=\u001b[0m \u001b[0mclf\u001b[0m\u001b[0;34m.\u001b[0m\u001b[0mpredict\u001b[0m\u001b[0;34m(\u001b[0m\u001b[0mtrain\u001b[0m\u001b[0;34m.\u001b[0m\u001b[0miloc\u001b[0m\u001b[0;34m[\u001b[0m\u001b[0mval_idx\u001b[0m\u001b[0;34m]\u001b[0m\u001b[0;34m[\u001b[0m\u001b[0mfeatures\u001b[0m\u001b[0;34m]\u001b[0m\u001b[0;34m,\u001b[0m \u001b[0mnum_iteration\u001b[0m \u001b[0;34m=\u001b[0m \u001b[0mclf\u001b[0m\u001b[0;34m.\u001b[0m\u001b[0mbest_iteration\u001b[0m\u001b[0;34m)\u001b[0m\u001b[0;34m\u001b[0m\u001b[0;34m\u001b[0m\u001b[0m\n\u001b[1;32m     43\u001b[0m         \u001b[0mpredictions\u001b[0m \u001b[0;34m+=\u001b[0m \u001b[0mclf\u001b[0m\u001b[0;34m.\u001b[0m\u001b[0mpredict\u001b[0m\u001b[0;34m(\u001b[0m\u001b[0mtest\u001b[0m\u001b[0;34m[\u001b[0m\u001b[0mfeatures\u001b[0m\u001b[0;34m]\u001b[0m\u001b[0;34m,\u001b[0m \u001b[0mnum_iteration\u001b[0m \u001b[0;34m=\u001b[0m \u001b[0mclf\u001b[0m\u001b[0;34m.\u001b[0m\u001b[0mbest_iteration\u001b[0m\u001b[0;34m)\u001b[0m \u001b[0;34m/\u001b[0m \u001b[0mkf\u001b[0m\u001b[0;34m.\u001b[0m\u001b[0mn_splits\u001b[0m\u001b[0;34m\u001b[0m\u001b[0;34m\u001b[0m\u001b[0m\n",
      "\u001b[0;32m/anaconda3/lib/python3.6/site-packages/lightgbm/engine.py\u001b[0m in \u001b[0;36mtrain\u001b[0;34m(params, train_set, num_boost_round, valid_sets, valid_names, fobj, feval, init_model, feature_name, categorical_feature, early_stopping_rounds, evals_result, verbose_eval, learning_rates, keep_training_booster, callbacks)\u001b[0m\n\u001b[1;32m    211\u001b[0m                                     evaluation_result_list=None))\n\u001b[1;32m    212\u001b[0m \u001b[0;34m\u001b[0m\u001b[0m\n\u001b[0;32m--> 213\u001b[0;31m         \u001b[0mbooster\u001b[0m\u001b[0;34m.\u001b[0m\u001b[0mupdate\u001b[0m\u001b[0;34m(\u001b[0m\u001b[0mfobj\u001b[0m\u001b[0;34m=\u001b[0m\u001b[0mfobj\u001b[0m\u001b[0;34m)\u001b[0m\u001b[0;34m\u001b[0m\u001b[0;34m\u001b[0m\u001b[0m\n\u001b[0m\u001b[1;32m    214\u001b[0m \u001b[0;34m\u001b[0m\u001b[0m\n\u001b[1;32m    215\u001b[0m         \u001b[0mevaluation_result_list\u001b[0m \u001b[0;34m=\u001b[0m \u001b[0;34m[\u001b[0m\u001b[0;34m]\u001b[0m\u001b[0;34m\u001b[0m\u001b[0;34m\u001b[0m\u001b[0m\n",
      "\u001b[0;32m/anaconda3/lib/python3.6/site-packages/lightgbm/basic.py\u001b[0m in \u001b[0;36mupdate\u001b[0;34m(self, train_set, fobj)\u001b[0m\n\u001b[1;32m   1753\u001b[0m             _safe_call(_LIB.LGBM_BoosterUpdateOneIter(\n\u001b[1;32m   1754\u001b[0m                 \u001b[0mself\u001b[0m\u001b[0;34m.\u001b[0m\u001b[0mhandle\u001b[0m\u001b[0;34m,\u001b[0m\u001b[0;34m\u001b[0m\u001b[0;34m\u001b[0m\u001b[0m\n\u001b[0;32m-> 1755\u001b[0;31m                 ctypes.byref(is_finished)))\n\u001b[0m\u001b[1;32m   1756\u001b[0m             \u001b[0mself\u001b[0m\u001b[0;34m.\u001b[0m\u001b[0m__is_predicted_cur_iter\u001b[0m \u001b[0;34m=\u001b[0m \u001b[0;34m[\u001b[0m\u001b[0;32mFalse\u001b[0m \u001b[0;32mfor\u001b[0m \u001b[0m_\u001b[0m \u001b[0;32min\u001b[0m \u001b[0mrange_\u001b[0m\u001b[0;34m(\u001b[0m\u001b[0mself\u001b[0m\u001b[0;34m.\u001b[0m\u001b[0m__num_dataset\u001b[0m\u001b[0;34m)\u001b[0m\u001b[0;34m]\u001b[0m\u001b[0;34m\u001b[0m\u001b[0;34m\u001b[0m\u001b[0m\n\u001b[1;32m   1757\u001b[0m             \u001b[0;32mreturn\u001b[0m \u001b[0mis_finished\u001b[0m\u001b[0;34m.\u001b[0m\u001b[0mvalue\u001b[0m \u001b[0;34m==\u001b[0m \u001b[0;36m1\u001b[0m\u001b[0;34m\u001b[0m\u001b[0;34m\u001b[0m\u001b[0m\n",
      "\u001b[0;31mKeyboardInterrupt\u001b[0m: "
     ]
    }
   ],
   "source": [
    "features = [i for i in temp_train.columns if i not in ['building_id', 'total_price','total_price_log']] \n",
    "lgb_model(5, temp_train, temp_test, features= features,if_one_hot=False)"
   ]
  },
  {
   "cell_type": "code",
   "execution_count": null,
   "metadata": {},
   "outputs": [],
   "source": []
  },
  {
   "cell_type": "code",
   "execution_count": 45,
   "metadata": {},
   "outputs": [],
   "source": [
    "train['town_mean_price'] = np.log1p(train.groupby(['city'])['total_price'].transform('median'))\n",
    "train['town_price_rate1'] = train['town_mean_price'] / train['land_area']\n",
    "train['town_price_rate2'] = train['town_mean_price'] / train['building_area']\n",
    "test['town_mean_price'] = 0\n",
    "test['town_price_rate1'] = 0\n",
    "test['town_price_rate2'] = 0"
   ]
  },
  {
   "cell_type": "code",
   "execution_count": null,
   "metadata": {},
   "outputs": [],
   "source": []
  },
  {
   "cell_type": "code",
   "execution_count": 44,
   "metadata": {},
   "outputs": [
    {
     "data": {
      "text/plain": [
       "city\n",
       "3     7.381115e+06\n",
       "5     3.099744e+06\n",
       "6     5.417316e+06\n",
       "7     2.881146e+07\n",
       "9     9.084332e+06\n",
       "10    7.625755e+06\n",
       "12    1.013288e+07\n",
       "13    1.203804e+08\n",
       "14    6.643299e+06\n",
       "17    4.539870e+06\n",
       "21    8.812216e+06\n",
       "Name: total_price, dtype: float64"
      ]
     },
     "execution_count": 44,
     "metadata": {},
     "output_type": "execute_result"
    }
   ],
   "source": [
    "temp.groupby('city')['total_price'].mean()"
   ]
  },
  {
   "cell_type": "code",
   "execution_count": 45,
   "metadata": {},
   "outputs": [
    {
     "data": {
      "text/plain": [
       "city\n",
       "3     6.672626e+06\n",
       "5     8.017254e+06\n",
       "6     8.301920e+06\n",
       "7     7.814438e+07\n",
       "9     1.485485e+07\n",
       "10    1.266959e+07\n",
       "12    1.357379e+07\n",
       "13    3.975890e+08\n",
       "14    1.349661e+07\n",
       "17    5.696486e+06\n",
       "21    1.686401e+07\n",
       "Name: total_price, dtype: float64"
      ]
     },
     "execution_count": 45,
     "metadata": {},
     "output_type": "execute_result"
    }
   ],
   "source": [
    "temp.groupby('city')['total_price'].std()"
   ]
  },
  {
   "cell_type": "code",
   "execution_count": null,
   "metadata": {},
   "outputs": [],
   "source": []
  }
 ],
 "metadata": {
  "kernelspec": {
   "display_name": "Python 3",
   "language": "python",
   "name": "python3"
  },
  "language_info": {
   "codemirror_mode": {
    "name": "ipython",
    "version": 3
   },
   "file_extension": ".py",
   "mimetype": "text/x-python",
   "name": "python",
   "nbconvert_exporter": "python",
   "pygments_lexer": "ipython3",
   "version": "3.6.8"
  }
 },
 "nbformat": 4,
 "nbformat_minor": 2
}
