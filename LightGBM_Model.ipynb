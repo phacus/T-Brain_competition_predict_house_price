{
 "cells": [
  {
   "cell_type": "code",
   "execution_count": 1,
   "metadata": {},
   "outputs": [],
   "source": [
    "# import modules\n",
    "import json\n",
    "import lightgbm as lgb\n",
    "import pandas as pd\n",
    "import numpy as np\n",
    "from sklearn.metrics import mean_squared_error\n",
    "from sklearn.model_selection import train_test_split\n",
    "from sklearn.datasets import  make_classification\n",
    "from sklearn.model_selection import GridSearchCV \n",
    "\n",
    "import time"
   ]
  },
  {
   "cell_type": "code",
   "execution_count": 2,
   "metadata": {},
   "outputs": [],
   "source": [
    "# 讀檔\n",
    "train = pd.read_csv('dataset-0510/train.csv')\n",
    "\n",
    "# 設定ignored list(cus training dataset can not be zero or NaN) without Feature Enginnearing\n",
    "# FE later\n",
    "ignored = ['parking_price', 'parking_area', 'txn_floor', 'village_income_median', 'building_id']\n",
    "train = train.drop(columns=ignored)\n",
    "\n",
    "# 對目標欄位進行處理(cus price range too large)\n",
    "train['total_price'] = np.log1p(train['total_price'])\n",
    "\n",
    "# 設定train, test datasets\n",
    "y = train['total_price']\n",
    "del train['total_price']\n",
    "X = train.values\n",
    "y = y.values\n",
    "X_train,X_test,y_train,y_test =train_test_split(X, y, test_size=0.2)\n",
    "\n",
    "# lgb dataset\n",
    "lgb_train = lgb.Dataset(X_train, y_train)\n",
    "lgb_eval = lgb.Dataset(X_test, y_test, reference=lgb_train)"
   ]
  },
  {
   "cell_type": "code",
   "execution_count": 3,
   "metadata": {},
   "outputs": [],
   "source": [
    "# custom metric function\n",
    "def c_hit(preds, train_data):\n",
    "    trues = train_data.get_label()\n",
    "    scores = np.absolute((preds - trues)/trues)\n",
    "    return 'hit', np.sum(scores), False"
   ]
  },
  {
   "cell_type": "code",
   "execution_count": 4,
   "metadata": {},
   "outputs": [
    {
     "name": "stdout",
     "output_type": "stream",
     "text": [
      "Training until validation scores don't improve for 100 rounds.\n",
      "[500]\tvalid_0's hit: 116.791\n",
      "[1000]\tvalid_0's hit: 115.891\n",
      "Early stopping, best iteration is:\n",
      "[1363]\tvalid_0's hit: 115.745\n"
     ]
    }
   ],
   "source": [
    "start_time = time.time()\n",
    "\n",
    "# Model參數\n",
    "params = {\n",
    "    'task': 'train',\n",
    "    'boosting_type': 'gbdt',\n",
    "    'objective': 'regression',\n",
    "    'metric': \"None\",\n",
    "    'num_leaves': 255,\n",
    "    'learning_rate': 0.1,\n",
    "    'feature_fraction': 0.9,\n",
    "    'bagging_fraction': 0.8,\n",
    "    'bagging_freq': 5,\n",
    "    'verbose': 1,\n",
    "    'num_threads': -1,\n",
    "}\n",
    "\n",
    "# CV and training\n",
    "gbm = lgb.train(\n",
    "    params, \n",
    "    lgb_train, \n",
    "    num_boost_round=10000, \n",
    "    valid_sets=lgb_eval, \n",
    "    early_stopping_rounds=100,\n",
    "    feval=lambda preds, train_data: [c_hit(preds, train_data)],\n",
    "    verbose_eval=500,\n",
    ")\n",
    "\n",
    "# print('Saving model...')\n",
    "# gbm.save_model('model.txt')\n",
    "\n",
    "end_time = time.time()"
   ]
  },
  {
   "cell_type": "code",
   "execution_count": 5,
   "metadata": {},
   "outputs": [
    {
     "name": "stdout",
     "output_type": "stream",
     "text": [
      "MAPE:  0.15137841642200475\n",
      "Hit Rate:  50.05833333333334 %\n",
      "Score:  5006.681954916912\n",
      "Training Time:  98.65249156951904 s\n"
     ]
    }
   ],
   "source": [
    "# Prediting\n",
    "y_pred = gbm.predict(X_test, num_iteration=gbm.best_iteration)\n",
    "\n",
    "# Validating\n",
    "# 還原目標欄位\n",
    "y_pred = np.expm1(y_pred)\n",
    "y_test = np.expm1(y_test)\n",
    "\n",
    "# 計算hit rate, MAPE\n",
    "hit = np.absolute((y_test - y_pred)/y_test)\n",
    "hit_rate = np.sum(hit < 0.1) / len(hit)\n",
    "MAPE = np.sum(hit)/len(hit)\n",
    "\n",
    "print('MAPE: ', MAPE)\n",
    "print('Hit Rate: ', hit_rate * 100,'%')\n",
    "print('Score: ', hit_rate*(10**4) + (1 - MAPE))\n",
    "print('Training Time: ', end_time - start_time, 's')"
   ]
  },
  {
   "cell_type": "code",
   "execution_count": null,
   "metadata": {},
   "outputs": [],
   "source": []
  }
 ],
 "metadata": {
  "kernelspec": {
   "display_name": "Python 3",
   "language": "python",
   "name": "python3"
  },
  "language_info": {
   "codemirror_mode": {
    "name": "ipython",
    "version": 3
   },
   "file_extension": ".py",
   "mimetype": "text/x-python",
   "name": "python",
   "nbconvert_exporter": "python",
   "pygments_lexer": "ipython3",
   "version": "3.7.3"
  }
 },
 "nbformat": 4,
 "nbformat_minor": 2
}
