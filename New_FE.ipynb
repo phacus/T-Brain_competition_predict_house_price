{
 "cells": [
  {
   "cell_type": "code",
   "execution_count": 1,
   "metadata": {},
   "outputs": [
    {
     "name": "stderr",
     "output_type": "stream",
     "text": [
      "/anaconda3/lib/python3.7/site-packages/lightgbm/__init__.py:46: UserWarning: Starting from version 2.2.1, the library file in distribution wheels for macOS is built by the Apple Clang (Xcode_8.3.1) compiler.\n",
      "This means that in case of installing LightGBM from PyPI via the ``pip install lightgbm`` command, you don't need to install the gcc compiler anymore.\n",
      "Instead of that, you need to install the OpenMP library, which is required for running LightGBM on the system with the Apple Clang compiler.\n",
      "You can install the OpenMP library by the following command: ``brew install libomp``.\n",
      "  \"You can install the OpenMP library by the following command: ``brew install libomp``.\", UserWarning)\n"
     ]
    }
   ],
   "source": [
    "import numpy as np\n",
    "import pandas as pd\n",
    "import matplotlib.pyplot as plt\n",
    "import seaborn as sns\n",
    "plt.style.use('ggplot')\n",
    "import datetime\n",
    "import lightgbm as lgb\n",
    "from scipy import stats\n",
    "from scipy.sparse import hstack, csr_matrix\n",
    "from sklearn.model_selection import train_test_split, KFold\n",
    "from wordcloud import WordCloud\n",
    "from collections import Counter\n",
    "import os\n",
    "#import xgboost as xgb\n",
    "#import lightgbm as lgb\n",
    "from functools import reduce\n",
    "import warnings\n",
    "from sklearn.metrics import mean_squared_error\n",
    "from scipy import stats\n",
    "from math import sqrt\n",
    "from lightgbm import plot_tree\n",
    "from hyperopt import hp, tpe\n",
    "from hyperopt.fmin import fmin\n",
    "from hyperopt import Trials\n",
    "from hyperopt import fmin\n",
    "from hyperopt import STATUS_OK\n",
    "from hyperopt.pyll.stochastic import sample\n",
    "import gc\n",
    "from sklearn.linear_model import LinearRegression\n",
    "warnings.filterwarnings('ignore')\n"
   ]
  },
  {
   "cell_type": "code",
   "execution_count": 13,
   "metadata": {},
   "outputs": [],
   "source": [
    "train = pd.read_csv('dataset-0510/train.csv')\n",
    "test  = pd.read_csv('dataset-0510/test.csv')\n"
   ]
  },
  {
   "cell_type": "code",
   "execution_count": 14,
   "metadata": {},
   "outputs": [
    {
     "data": {
      "text/plain": [
       "834"
      ]
     },
     "execution_count": 14,
     "metadata": {},
     "output_type": "execute_result"
    }
   ],
   "source": [
    "data = pd.concat([train, test], axis=0)\n",
    "gc.collect()"
   ]
  },
  {
   "cell_type": "code",
   "execution_count": 100,
   "metadata": {},
   "outputs": [],
   "source": [
    "def feature_process(df):\n",
    "    \n",
    "    df['min_cat'] = 0\n",
    "    for col in [i for i in df.columns if 'MIN' in i]:\n",
    "        df['min_cat'] = df.apply(lambda x : col if x['min_cat'] == x[col] else x['min_cat'], axis=1)  \n",
    "    \n",
    "    #Impute missing value\n",
    "    df['village_income_mean'] = df.groupby(['city', 'town'])['village_income_median'].transform(lambda x : x .fillna(x.mean()))\n",
    "    \n",
    "    #location\n",
    "\n",
    "    df['location_2'] = df.apply(lambda x : int(str(x['city']) + str(x['town'])), axis=1)\n",
    "    df['city'] = df['city'].astype('category')\n",
    "    df['location_2'] = df['location_2'].astype('category')\n",
    "    \n",
    "    #degree rate\n",
    "    df['diff_doc_master'] = df['doc_rate'] - df['master_rate']\n",
    "    df['diff_master_bachelor'] = df['master_rate'] - df['bachelor_rate']\n",
    "    df['diff_bachelor_highsch'] = df['bachelor_rate'] - df['highschool_rate']\n",
    "    df['diff_highsch_jobschool'] = df['highschool_rate'] - df['jobschool_rate']\n",
    "    df['diff_jobschool_elesch'] = df['jobschool_rate'] - df['elementary_rate']\n",
    "    \n",
    "    df['all_degree'] = df['doc_rate'] + df['master_rate'] + df['bachelor_rate'] + df['highschool_rate'] + df['jobschool_rate'] + df['junior_rate'] + df['elementary_rate']\n",
    "    df['junior_above_rate'] = df['doc_rate'] + df['master_rate'] + df['bachelor_rate'] + df['highschool_rate'] + df['jobschool_rate'] + df['junior_rate'] \n",
    "    df['jobschool_above_rate'] = df['doc_rate'] + df['master_rate'] + df['bachelor_rate'] + df['highschool_rate'] +  df['jobschool_rate']\n",
    "    df['highschool_above_rate'] = df['doc_rate'] + df['master_rate'] + df['bachelor_rate'] + df['highschool_rate']\n",
    "    df['bachelor_above_rate'] = df['doc_rate'] + df['master_rate'] + df['bachelor_rate']\n",
    "    df['master_above_rate'] = df['doc_rate'] + df['master_rate'] \n",
    "    \n",
    "    #building\n",
    "    df['building_use'] = df['building_use'].astype('category')\n",
    "    df['building_material'] = df['building_material'].astype('category')\n",
    "    \n",
    "    #floor\n",
    "    df.loc[df['txn_floor'].isna(), 'department'] = 1 \n",
    "    df.loc[df['txn_floor'].notna(), 'department'] = 0\n",
    "    df['avg_height_floor'] = df['txn_floor'] / df['total_floor'] \n",
    "    df['avg_height_floor'].fillna(0, inplace = True)\n",
    "    \n",
    "    #area\n",
    "    df['land/bulid_area'] = df['land_area'] / df ['building_area']\n",
    "    df['parking_rate'] = df['building_area'] / df['parking_area']\n",
    "    \n",
    "    #date\n",
    "    df['day_between_txn_complete'] = df['txn_dt'] - df['building_complete_dt']\n",
    "    df['year_between_txn_complete'] = round(df['day_between_txn_complete'] / 365)\n",
    "    \n",
    "    #soical rate\n",
    "    df['natural_diff'] = df['born_rate'] - df['death_rate']\n",
    "    df['natural_rate'] = df['born_rate'] / df['death_rate']\n",
    "    \n",
    "    df['marry_diff'] = df['marriage_rate'] - df['divorce_rate']\n",
    "    df['marry_rate'] = df['marriage_rate'] / df['divorce_rate']\n",
    "    \n",
    "    df['total_diff_sum'] = df['natural_rate'] + df['marry_diff']\n",
    "    df['total_diff_diff'] = df['natural_rate'] - df['marry_diff']\n",
    "    df['total_rate_diff'] = df['born_rate'] + df['marry_rate']\n",
    "    \n",
    "    df['positive_grow_rate'] = df['born_rate'] + df['marriage_rate']\n",
    "    df['negative_grow_rate'] = df['death_rate'] + df['divorce_rate']\n",
    "    df['tatal_rate_sum'] = df['born_rate'] + df['death_rate'] + df['born_rate'] + df['death_rate']\n",
    "    \n",
    "    #village_income_median\n",
    "    temp = df.groupby(['city', 'town', 'village'])['village_income_median'].first().reset_index()\n",
    "    temp = df.groupby(['city', 'town']).agg({'village_income_median' : ['mean', 'sum', 'median']})\n",
    "    temp = temp.rename({'village_income_median' : 'town_income_median'}, level = 0)\n",
    "    temp.columns = [e[0] + '_' + e[1] if e[1] != '' else e[0] for e in temp.columns.tolist()]\n",
    "    df = pd.merge(df, temp, on = ['city', 'town'], how = 'left')\n",
    "\n",
    "    temp = df.groupby(['city', 'town', 'village'])['village_income_median'].first().reset_index()\n",
    "    temp = df.groupby(['city']).agg({'village_income_median' : ['mean', 'sum', 'median']})\n",
    "    temp = temp.rename({'village_income_median' : 'city_income_median'}, level = 0)\n",
    "    temp.columns = [e[0] + '_' + e[1] if e[1] != '' else e[0] for e in temp.columns.tolist()]\n",
    "    df = pd.merge(df, temp, on = ['city'], how = 'left')\n",
    "    \n",
    "    #interection \n",
    "    '''\n",
    "    locations =['city', 'location2']\n",
    "    inter_cols = ['building_type', 'building_use', 'building_material']\n",
    "    for location in locations:\n",
    "        for inter_col in inter_cols:\n",
    "            df['inter_btw_' + location +'_' + inter_col] = df.apply(lambda x : str(x[location]) + str(x[inter_col]), axis=1)\n",
    "            df['inter_btw_' + location +'_' + inter_col] = df['inter_btw_' + location +'_' + inter_col].astype('category')\n",
    "    '''\n",
    "    inter_cols = ['building_type', 'building_use', 'building_material']\n",
    "    for i in range(3):\n",
    "        for j in range(3):\n",
    "            if j > i:\n",
    "                df['inter_btw_' + inter_cols[i] +'_' + inter_cols[j]] = df.apply(lambda x : str(x[inter_cols[i]]) + str(x[inter_cols[j]]), axis=1)\n",
    "                df['inter_btw_' + inter_cols[i] +'_' + inter_cols[j]] = df['inter_btw_' + inter_cols[i] +'_' + inter_cols[j]].astype('category')\n",
    "    #one-hot\n",
    "    df = df.join(pd.get_dummies(df['parking_way'], prefix = 'parking_way'))\n",
    "    df = df.join(pd.get_dummies(df['building_type'], prefix = 'building_type'))\n",
    "    df = df.join(pd.get_dummies(df['building_material'], prefix = 'building_material'))\n",
    "    df = df.join(pd.get_dummies(df['building_use'], prefix = 'building_use'))\n",
    "    \n",
    "    #useless cols\n",
    "    df.drop(['village', 'town', 'building_type', 'parking_way','building_material', 'building_use', 'lat', 'lon'], axis = 1, inplace = True)\n",
    "    df.drop([i for i in train.columns if np.sum(train[i]) == 60000 and 'index' in i], axis = 1, inplace = True)\n",
    "    return df"
   ]
  },
  {
   "cell_type": "code",
   "execution_count": 101,
   "metadata": {},
   "outputs": [],
   "source": [
    "final_data = feature_process(data)"
   ]
  },
  {
   "cell_type": "code",
   "execution_count": 102,
   "metadata": {},
   "outputs": [
    {
     "data": {
      "text/plain": [
       "(271, 271)"
      ]
     },
     "execution_count": 102,
     "metadata": {},
     "output_type": "execute_result"
    }
   ],
   "source": [
    "final_data = feature_process(data)\n",
    "FE_train = final_data[:60000]\n",
    "FE_test = final_data[60000:]\n",
    "FE_train.to_csv('FE_train.csv', index = False)\n",
    "FE_test.to_csv('FE_test.csv', index = False)\n",
    "len(FE_train.columns), len(FE_test.columns)"
   ]
  },
  {
   "cell_type": "code",
   "execution_count": 103,
   "metadata": {},
   "outputs": [
    {
     "name": "stdout",
     "output_type": "stream",
     "text": [
      "<class 'pandas.core.frame.DataFrame'>\n",
      "RangeIndex: 60000 entries, 0 to 59999\n",
      "Columns: 235 entries, building_id to total_price\n",
      "dtypes: float64(37), int64(197), object(1)\n",
      "memory usage: 107.6+ MB\n"
     ]
    }
   ],
   "source": [
    "train.info()"
   ]
  },
  {
   "cell_type": "code",
   "execution_count": 99,
   "metadata": {},
   "outputs": [
    {
     "data": {
      "text/plain": [
       "['building_material',\n",
       " 'building_use',\n",
       " 'location_2',\n",
       " 'inter_btw_building_type_building_use',\n",
       " 'inter_btw_building_type_building_material',\n",
       " 'inter_btw_building_use_building_material',\n",
       " 'parking_way_0',\n",
       " 'parking_way_1',\n",
       " 'parking_way_2',\n",
       " 'building_type_0',\n",
       " 'building_type_1',\n",
       " 'building_type_2',\n",
       " 'building_type_3',\n",
       " 'building_type_4']"
      ]
     },
     "execution_count": 99,
     "metadata": {},
     "output_type": "execute_result"
    }
   ],
   "source": [
    "[i for i in FE_train.columns if FE_train[i].dtypes not in ['float', 'int', 'O']]"
   ]
  },
  {
   "cell_type": "code",
   "execution_count": 87,
   "metadata": {},
   "outputs": [
    {
     "data": {
      "text/plain": [
       "<pandas.core.groupby.generic.DataFrameGroupBy object at 0x1a5e01a320>"
      ]
     },
     "execution_count": 87,
     "metadata": {},
     "output_type": "execute_result"
    }
   ],
   "source": [
    "train.groupby(['city', 'town', 'village'])"
   ]
  },
  {
   "cell_type": "code",
   "execution_count": null,
   "metadata": {},
   "outputs": [],
   "source": []
  }
 ],
 "metadata": {
  "kernelspec": {
   "display_name": "Python 3",
   "language": "python",
   "name": "python3"
  },
  "language_info": {
   "codemirror_mode": {
    "name": "ipython",
    "version": 3
   },
   "file_extension": ".py",
   "mimetype": "text/x-python",
   "name": "python",
   "nbconvert_exporter": "python",
   "pygments_lexer": "ipython3",
   "version": "3.7.3"
  }
 },
 "nbformat": 4,
 "nbformat_minor": 2
}
