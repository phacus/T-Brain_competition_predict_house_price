{
 "cells": [
  {
   "cell_type": "code",
   "execution_count": 1,
   "metadata": {},
   "outputs": [
    {
     "name": "stderr",
     "output_type": "stream",
     "text": [
      "/anaconda3/lib/python3.7/site-packages/lightgbm/__init__.py:46: UserWarning: Starting from version 2.2.1, the library file in distribution wheels for macOS is built by the Apple Clang (Xcode_8.3.1) compiler.\n",
      "This means that in case of installing LightGBM from PyPI via the ``pip install lightgbm`` command, you don't need to install the gcc compiler anymore.\n",
      "Instead of that, you need to install the OpenMP library, which is required for running LightGBM on the system with the Apple Clang compiler.\n",
      "You can install the OpenMP library by the following command: ``brew install libomp``.\n",
      "  \"You can install the OpenMP library by the following command: ``brew install libomp``.\", UserWarning)\n"
     ]
    }
   ],
   "source": [
    "import numpy as np\n",
    "import pandas as pd\n",
    "import matplotlib.pyplot as plt\n",
    "import seaborn as sns\n",
    "plt.style.use('ggplot')\n",
    "import datetime\n",
    "import lightgbm as lgb\n",
    "from scipy import stats\n",
    "from scipy.sparse import hstack, csr_matrix\n",
    "from sklearn.model_selection import train_test_split, KFold\n",
    "from wordcloud import WordCloud\n",
    "from collections import Counter\n",
    "import os\n",
    "#import xgboost as xgb\n",
    "#import lightgbm as lgb\n",
    "from functools import reduce\n",
    "import warnings\n",
    "from sklearn.metrics import mean_squared_error\n",
    "from scipy import stats\n",
    "from math import sqrt\n",
    "from lightgbm import plot_tree\n",
    "from hyperopt import hp, tpe\n",
    "from hyperopt.fmin import fmin\n",
    "from hyperopt import Trials\n",
    "from hyperopt import fmin\n",
    "from hyperopt import STATUS_OK\n",
    "from hyperopt.pyll.stochastic import sample\n",
    "import gc\n",
    "warnings.filterwarnings('ignore')\n"
   ]
  },
  {
   "cell_type": "code",
   "execution_count": 2,
   "metadata": {},
   "outputs": [
    {
     "name": "stdout",
     "output_type": "stream",
     "text": [
      "Training data : 60000\n",
      "Testing data : 10000\n",
      "ALl columns : 235\n",
      "ALl data : 70000\n"
     ]
    },
    {
     "data": {
      "text/plain": [
       "16"
      ]
     },
     "execution_count": 2,
     "metadata": {},
     "output_type": "execute_result"
    }
   ],
   "source": [
    "train = pd.read_csv('dataset-0510/train.csv')\n",
    "test  = pd.read_csv('dataset-0510/test.csv')\n",
    "data = pd.concat([train, test], axis=0)\n",
    "print('Training data : {}'.format(len(train)))\n",
    "print('Testing data : {}'.format(len(test)))\n",
    "print('ALl columns : {}'.format(len(data.columns)))\n",
    "print('ALl data : {}'.format(len(data)))\n",
    "\n",
    "gc.collect()"
   ]
  },
  {
   "cell_type": "code",
   "execution_count": 3,
   "metadata": {},
   "outputs": [
    {
     "data": {
      "text/plain": [
       "{'building_id': 0,\n",
       " 'building_material': 0,\n",
       " 'city': 0,\n",
       " 'txn_dt': 0,\n",
       " 'total_floor': 0,\n",
       " 'building_type': 0,\n",
       " 'building_use': 0,\n",
       " 'building_complete_dt': 0,\n",
       " 'parking_way': 0,\n",
       " 'parking_area': 56897,\n",
       " 'parking_price': 46065,\n",
       " 'txn_floor': 15902,\n",
       " 'land_area': 0,\n",
       " 'building_area': 0,\n",
       " 'town': 0,\n",
       " 'lat': 0,\n",
       " 'lon': 0,\n",
       " 'village_income_median': 1142,\n",
       " 'town_population': 0,\n",
       " 'town_area': 0,\n",
       " 'town_population_density': 0,\n",
       " 'doc_rate': 0,\n",
       " 'master_rate': 0,\n",
       " 'bachelor_rate': 0,\n",
       " 'jobschool_rate': 0,\n",
       " 'highschool_rate': 0,\n",
       " 'junior_rate': 0,\n",
       " 'elementary_rate': 0,\n",
       " 'born_rate': 0,\n",
       " 'death_rate': 0,\n",
       " 'marriage_rate': 0,\n",
       " 'divorce_rate': 0,\n",
       " 'village': 0,\n",
       " 'N_50': 0,\n",
       " 'N_500': 0,\n",
       " 'N_1000': 0,\n",
       " 'N_5000': 0,\n",
       " 'N_10000': 0,\n",
       " 'I_10': 0,\n",
       " 'I_50': 0,\n",
       " 'I_index_50': 0,\n",
       " 'I_100': 0,\n",
       " 'I_250': 0,\n",
       " 'I_500': 0,\n",
       " 'I_index_500': 0,\n",
       " 'I_1000': 0,\n",
       " 'I_index_1000': 0,\n",
       " 'I_5000': 0,\n",
       " 'I_index_5000': 0,\n",
       " 'I_10000': 0,\n",
       " 'I_index_10000': 0,\n",
       " 'I_MIN': 0,\n",
       " 'II_10': 0,\n",
       " 'II_50': 0,\n",
       " 'II_index_50': 0,\n",
       " 'II_100': 0,\n",
       " 'II_250': 0,\n",
       " 'II_500': 0,\n",
       " 'II_index_500': 0,\n",
       " 'II_1000': 0,\n",
       " 'II_index_1000': 0,\n",
       " 'II_5000': 0,\n",
       " 'II_index_5000': 0,\n",
       " 'II_10000': 0,\n",
       " 'II_index_10000': 0,\n",
       " 'II_MIN': 0,\n",
       " 'III_10': 0,\n",
       " 'III_50': 0,\n",
       " 'III_index_50': 0,\n",
       " 'III_100': 0,\n",
       " 'III_250': 0,\n",
       " 'III_500': 0,\n",
       " 'III_index_500': 0,\n",
       " 'III_1000': 0,\n",
       " 'III_index_1000': 0,\n",
       " 'III_5000': 0,\n",
       " 'III_index_5000': 0,\n",
       " 'III_10000': 0,\n",
       " 'III_index_10000': 0,\n",
       " 'III_MIN': 0,\n",
       " 'IV_10': 0,\n",
       " 'IV_50': 0,\n",
       " 'IV_index_50': 0,\n",
       " 'IV_100': 0,\n",
       " 'IV_250': 0,\n",
       " 'IV_500': 0,\n",
       " 'IV_index_500': 0,\n",
       " 'IV_1000': 0,\n",
       " 'IV_index_1000': 0,\n",
       " 'IV_5000': 0,\n",
       " 'IV_index_5000': 0,\n",
       " 'IV_10000': 0,\n",
       " 'IV_index_10000': 0,\n",
       " 'IV_MIN': 0,\n",
       " 'V_10': 0,\n",
       " 'V_50': 0,\n",
       " 'V_index_50': 0,\n",
       " 'V_100': 0,\n",
       " 'V_250': 0,\n",
       " 'V_500': 0,\n",
       " 'V_index_500': 0,\n",
       " 'V_1000': 0,\n",
       " 'V_index_1000': 0,\n",
       " 'V_5000': 0,\n",
       " 'V_index_5000': 0,\n",
       " 'V_10000': 0,\n",
       " 'V_index_10000': 0,\n",
       " 'V_MIN': 0,\n",
       " 'VI_10': 0,\n",
       " 'VI_50': 0,\n",
       " 'VI_index_50': 0,\n",
       " 'VI_100': 0,\n",
       " 'VI_250': 0,\n",
       " 'VI_500': 0,\n",
       " 'VI_index_500': 0,\n",
       " 'VI_1000': 0,\n",
       " 'VI_index_1000': 0,\n",
       " 'VI_5000': 0,\n",
       " 'VI_index_5000': 0,\n",
       " 'VI_10000': 0,\n",
       " 'VI_index_10000': 0,\n",
       " 'VI_MIN': 0,\n",
       " 'VII_10': 0,\n",
       " 'VII_50': 0,\n",
       " 'VII_index_50': 0,\n",
       " 'VII_100': 0,\n",
       " 'VII_250': 0,\n",
       " 'VII_500': 0,\n",
       " 'VII_index_500': 0,\n",
       " 'VII_1000': 0,\n",
       " 'VII_index_1000': 0,\n",
       " 'VII_5000': 0,\n",
       " 'VII_index_5000': 0,\n",
       " 'VII_10000': 0,\n",
       " 'VII_index_10000': 0,\n",
       " 'VII_MIN': 0,\n",
       " 'VIII_10': 0,\n",
       " 'VIII_50': 0,\n",
       " 'VIII_index_50': 0,\n",
       " 'VIII_100': 0,\n",
       " 'VIII_250': 0,\n",
       " 'VIII_500': 0,\n",
       " 'VIII_index_500': 0,\n",
       " 'VIII_1000': 0,\n",
       " 'VIII_index_1000': 0,\n",
       " 'VIII_5000': 0,\n",
       " 'VIII_index_5000': 0,\n",
       " 'VIII_10000': 0,\n",
       " 'VIII_index_10000': 0,\n",
       " 'VIII_MIN': 0,\n",
       " 'IX_10': 0,\n",
       " 'IX_50': 0,\n",
       " 'IX_index_50': 0,\n",
       " 'IX_100': 0,\n",
       " 'IX_250': 0,\n",
       " 'IX_500': 0,\n",
       " 'IX_index_500': 0,\n",
       " 'IX_1000': 0,\n",
       " 'IX_index_1000': 0,\n",
       " 'IX_5000': 0,\n",
       " 'IX_index_5000': 0,\n",
       " 'IX_10000': 0,\n",
       " 'IX_index_10000': 0,\n",
       " 'IX_MIN': 0,\n",
       " 'X_10': 0,\n",
       " 'X_50': 0,\n",
       " 'X_index_50': 0,\n",
       " 'X_100': 0,\n",
       " 'X_250': 0,\n",
       " 'X_500': 0,\n",
       " 'X_index_500': 0,\n",
       " 'X_1000': 0,\n",
       " 'X_index_1000': 0,\n",
       " 'X_5000': 0,\n",
       " 'X_index_5000': 0,\n",
       " 'X_10000': 0,\n",
       " 'X_index_10000': 0,\n",
       " 'X_MIN': 0,\n",
       " 'XI_10': 0,\n",
       " 'XI_50': 0,\n",
       " 'XI_index_50': 0,\n",
       " 'XI_100': 0,\n",
       " 'XI_250': 0,\n",
       " 'XI_500': 0,\n",
       " 'XI_index_500': 0,\n",
       " 'XI_1000': 0,\n",
       " 'XI_index_1000': 0,\n",
       " 'XI_5000': 0,\n",
       " 'XI_index_5000': 0,\n",
       " 'XI_10000': 0,\n",
       " 'XI_index_10000': 0,\n",
       " 'XI_MIN': 0,\n",
       " 'XII_10': 0,\n",
       " 'XII_50': 0,\n",
       " 'XII_index_50': 0,\n",
       " 'XII_100': 0,\n",
       " 'XII_250': 0,\n",
       " 'XII_500': 0,\n",
       " 'XII_index_500': 0,\n",
       " 'XII_1000': 0,\n",
       " 'XII_index_1000': 0,\n",
       " 'XII_5000': 0,\n",
       " 'XII_index_5000': 0,\n",
       " 'XII_10000': 0,\n",
       " 'XII_index_10000': 0,\n",
       " 'XII_MIN': 0,\n",
       " 'XIII_10': 0,\n",
       " 'XIII_50': 0,\n",
       " 'XIII_index_50': 0,\n",
       " 'XIII_100': 0,\n",
       " 'XIII_250': 0,\n",
       " 'XIII_500': 0,\n",
       " 'XIII_index_500': 0,\n",
       " 'XIII_1000': 0,\n",
       " 'XIII_index_1000': 0,\n",
       " 'XIII_5000': 0,\n",
       " 'XIII_index_5000': 0,\n",
       " 'XIII_10000': 0,\n",
       " 'XIII_index_10000': 0,\n",
       " 'XIII_MIN': 0,\n",
       " 'XIV_10': 0,\n",
       " 'XIV_50': 0,\n",
       " 'XIV_index_50': 0,\n",
       " 'XIV_100': 0,\n",
       " 'XIV_250': 0,\n",
       " 'XIV_500': 0,\n",
       " 'XIV_index_500': 0,\n",
       " 'XIV_1000': 0,\n",
       " 'XIV_index_1000': 0,\n",
       " 'XIV_5000': 0,\n",
       " 'XIV_index_5000': 0,\n",
       " 'XIV_10000': 0,\n",
       " 'XIV_index_10000': 0,\n",
       " 'XIV_MIN': 0,\n",
       " 'total_price': 0}"
      ]
     },
     "execution_count": 3,
     "metadata": {},
     "output_type": "execute_result"
    }
   ],
   "source": [
    "train.isna().sum().to_dict()"
   ]
  },
  {
   "cell_type": "code",
   "execution_count": 38,
   "metadata": {},
   "outputs": [],
   "source": [
    "#Count train and test na number\n",
    "miss_value_df =pd.concat([pd.DataFrame(train.isna().sum().to_dict(), index=['train']), pd.DataFrame(test.isna().sum().to_dict(), index=['test'])], axis=0)\n"
   ]
  },
  {
   "cell_type": "markdown",
   "metadata": {},
   "source": [
    "# Total_price distribution"
   ]
  },
  {
   "cell_type": "code",
   "execution_count": 5,
   "metadata": {},
   "outputs": [
    {
     "data": {
      "text/plain": [
       "<matplotlib.axes._subplots.AxesSubplot at 0x112634cc0>"
      ]
     },
     "execution_count": 5,
     "metadata": {},
     "output_type": "execute_result"
    },
    {
     "data": {
      "image/png": "[encoded data removed]",
      "text/plain": [
       "<Figure size 720x288 with 3 Axes>"
      ]
     },
     "metadata": {
      "needs_background": "light"
     },
     "output_type": "display_data"
    }
   ],
   "source": [
    "fig = plt.figure(figsize=(10,4))\n",
    "ax = fig.add_subplot(1,3,1)\n",
    "ax.set_title('Total price distribution')\n",
    "sns.distplot(train['total_price'])\n",
    "\n",
    "ax = fig.add_subplot(1,3,2)\n",
    "ax.set_title('Total price log distribution')\n",
    "sns.distplot(np.log(train['total_price']))\n",
    "\n",
    "ax = fig.add_subplot(1,3,3)\n",
    "ax.set_title('Total price log distribution')\n",
    "sns.distplot(np.log(np.log(train['total_price'])))"
   ]
  },
  {
   "cell_type": "markdown",
   "metadata": {},
   "source": [
    "# Floor"
   ]
  },
  {
   "cell_type": "code",
   "execution_count": 12,
   "metadata": {},
   "outputs": [
    {
     "data": {
      "text/plain": [
       "<matplotlib.axes._subplots.AxesSubplot at 0x1a3a71f5f8>"
      ]
     },
     "execution_count": 12,
     "metadata": {},
     "output_type": "execute_result"
    },
    {
     "data": {
      "image/png": "[encoded data removed]",
      "text/plain": [
       "<Figure size 1152x288 with 2 Axes>"
      ]
     },
     "metadata": {
      "needs_background": "light"
     },
     "output_type": "display_data"
    }
   ],
   "source": [
    "fig = plt.figure(figsize=(16,4))\n",
    "ax = fig.add_subplot(2,2,2)\n",
    "sns.countplot(train['total_floor'])\n",
    "\n",
    "ax = fig.add_subplot(1,2,2)\n",
    "sns.countplot(train['txn_floor'])"
   ]
  },
  {
   "cell_type": "code",
   "execution_count": 19,
   "metadata": {},
   "outputs": [
    {
     "data": {
      "text/plain": [
       "<matplotlib.axes._subplots.AxesSubplot at 0x1a410d6278>"
      ]
     },
     "execution_count": 19,
     "metadata": {},
     "output_type": "execute_result"
    },
    {
     "data": {
      "image/png": "[encoded data removed]",
      "text/plain": [
       "<Figure size 1152x288 with 2 Axes>"
      ]
     },
     "metadata": {
      "needs_background": "light"
     },
     "output_type": "display_data"
    }
   ],
   "source": [
    "fig = plt.figure(figsize=(16,4))\n",
    "ax = fig.add_subplot(1,2,1)\n",
    "sns.boxplot(train['total_floor'], train['total_price'])\n",
    "\n",
    "ax = fig.add_subplot(1,2,2)\n",
    "sns.boxplot(train['txn_floor'], train['total_price'])\n"
   ]
  },
  {
   "cell_type": "code",
   "execution_count": 37,
   "metadata": {},
   "outputs": [
    {
     "data": {
      "text/plain": [
       "building_type\n",
       "0    15691\n",
       "1    15049\n",
       "2     2822\n",
       "3    10536\n",
       "4    15902\n",
       "Name: total_floor, dtype: int64"
      ]
     },
     "execution_count": 37,
     "metadata": {},
     "output_type": "execute_result"
    }
   ],
   "source": [
    "train.groupby(['building_type'])['total_floor'].count()"
   ]
  },
  {
   "cell_type": "code",
   "execution_count": 36,
   "metadata": {},
   "outputs": [
    {
     "data": {
      "text/plain": [
       "building_type\n",
       "0    15691\n",
       "1    15049\n",
       "2     2822\n",
       "3    10536\n",
       "4        0\n",
       "Name: txn_floor, dtype: int64"
      ]
     },
     "execution_count": 36,
     "metadata": {},
     "output_type": "execute_result"
    }
   ],
   "source": [
    "train.groupby(['building_type'])['txn_floor'].count()"
   ]
  },
  {
   "cell_type": "code",
   "execution_count": 40,
   "metadata": {},
   "outputs": [
    {
     "data": {
      "text/html": [
       "<div>\n",
       "<style scoped>\n",
       "    .dataframe tbody tr th:only-of-type {\n",
       "        vertical-align: middle;\n",
       "    }\n",
       "\n",
       "    .dataframe tbody tr th {\n",
       "        vertical-align: top;\n",
       "    }\n",
       "\n",
       "    .dataframe thead th {\n",
       "        text-align: right;\n",
       "    }\n",
       "</style>\n",
       "<table border=\"1\" class=\"dataframe\">\n",
       "  <thead>\n",
       "    <tr style=\"text-align: right;\">\n",
       "      <th></th>\n",
       "      <th>III_10</th>\n",
       "      <th>III_100</th>\n",
       "      <th>III_1000</th>\n",
       "      <th>III_10000</th>\n",
       "      <th>III_250</th>\n",
       "      <th>III_50</th>\n",
       "      <th>III_500</th>\n",
       "      <th>III_5000</th>\n",
       "      <th>III_MIN</th>\n",
       "      <th>III_index_1000</th>\n",
       "      <th>...</th>\n",
       "      <th>total_floor</th>\n",
       "      <th>total_price</th>\n",
       "      <th>town</th>\n",
       "      <th>town_area</th>\n",
       "      <th>town_population</th>\n",
       "      <th>town_population_density</th>\n",
       "      <th>txn_dt</th>\n",
       "      <th>txn_floor</th>\n",
       "      <th>village</th>\n",
       "      <th>village_income_median</th>\n",
       "    </tr>\n",
       "  </thead>\n",
       "  <tbody>\n",
       "    <tr>\n",
       "      <th>train</th>\n",
       "      <td>0</td>\n",
       "      <td>0</td>\n",
       "      <td>0</td>\n",
       "      <td>0</td>\n",
       "      <td>0</td>\n",
       "      <td>0</td>\n",
       "      <td>0</td>\n",
       "      <td>0</td>\n",
       "      <td>0</td>\n",
       "      <td>0</td>\n",
       "      <td>...</td>\n",
       "      <td>0</td>\n",
       "      <td>0.0</td>\n",
       "      <td>0</td>\n",
       "      <td>0</td>\n",
       "      <td>0</td>\n",
       "      <td>0</td>\n",
       "      <td>0</td>\n",
       "      <td>15902</td>\n",
       "      <td>0</td>\n",
       "      <td>1142</td>\n",
       "    </tr>\n",
       "    <tr>\n",
       "      <th>test</th>\n",
       "      <td>0</td>\n",
       "      <td>0</td>\n",
       "      <td>0</td>\n",
       "      <td>0</td>\n",
       "      <td>0</td>\n",
       "      <td>0</td>\n",
       "      <td>0</td>\n",
       "      <td>0</td>\n",
       "      <td>0</td>\n",
       "      <td>0</td>\n",
       "      <td>...</td>\n",
       "      <td>0</td>\n",
       "      <td>NaN</td>\n",
       "      <td>0</td>\n",
       "      <td>0</td>\n",
       "      <td>0</td>\n",
       "      <td>0</td>\n",
       "      <td>0</td>\n",
       "      <td>2639</td>\n",
       "      <td>0</td>\n",
       "      <td>184</td>\n",
       "    </tr>\n",
       "  </tbody>\n",
       "</table>\n",
       "<p>2 rows × 235 columns</p>\n",
       "</div>"
      ],
      "text/plain": [
       "       III_10  III_100  III_1000  III_10000  III_250  III_50  III_500  \\\n",
       "train       0        0         0          0        0       0        0   \n",
       "test        0        0         0          0        0       0        0   \n",
       "\n",
       "       III_5000  III_MIN  III_index_1000  ...  total_floor  total_price  town  \\\n",
       "train         0        0               0  ...            0          0.0     0   \n",
       "test          0        0               0  ...            0          NaN     0   \n",
       "\n",
       "       town_area  town_population  town_population_density  txn_dt  txn_floor  \\\n",
       "train          0                0                        0       0      15902   \n",
       "test           0                0                        0       0       2639   \n",
       "\n",
       "       village  village_income_median  \n",
       "train        0                   1142  \n",
       "test         0                    184  \n",
       "\n",
       "[2 rows x 235 columns]"
      ]
     },
     "execution_count": 40,
     "metadata": {},
     "output_type": "execute_result"
    }
   ],
   "source": [
    "miss_value_df"
   ]
  },
  {
   "cell_type": "code",
   "execution_count": 45,
   "metadata": {},
   "outputs": [
    {
     "data": {
      "text/plain": [
       "(0.0, 15902.0)"
      ]
     },
     "execution_count": 45,
     "metadata": {},
     "output_type": "execute_result"
    }
   ],
   "source": [
    "miss_value_df.loc['train']['total_floor'], miss_value_df.loc['train']['txn_floor']\n",
    "#4 maybe is a house not department"
   ]
  },
  {
   "cell_type": "markdown",
   "metadata": {},
   "source": [
    "# City、town、village"
   ]
  },
  {
   "cell_type": "code",
   "execution_count": 48,
   "metadata": {},
   "outputs": [
    {
     "data": {
      "text/plain": [
       "array([21,  7, 12, 17, 10, 13, 14,  3,  6,  5,  9])"
      ]
     },
     "execution_count": 48,
     "metadata": {},
     "output_type": "execute_result"
    }
   ],
   "source": [
    "train['city'].unique()"
   ]
  },
  {
   "cell_type": "code",
   "execution_count": 49,
   "metadata": {},
   "outputs": [
    {
     "data": {
      "text/plain": [
       "array([334, 180, 343, 102,   6,  84,  61,  49,  10, 158, 254, 196, 332,\n",
       "       164, 211, 188, 330,  62, 179,  41,  29,  13,  15, 148, 273,  18,\n",
       "        17,  39, 128,  34, 119, 323, 136, 208,  53, 194, 284,  52,  91,\n",
       "        76, 210, 108, 204, 346,  42, 214,  26, 121, 290, 174, 113, 142,\n",
       "        32,  66, 282,  43, 112, 101, 193, 130, 253, 163, 122,   4,  25,\n",
       "        87, 296,  48,  50, 160, 139,  38, 289, 224, 177, 165, 333, 169,\n",
       "       185, 184,   0, 225, 322, 132, 302,  96, 227, 320, 206, 317, 329,\n",
       "       345, 315, 110, 120, 285, 244, 312, 111, 151, 115, 269, 252, 275,\n",
       "        11, 157, 191, 192, 218, 144, 344, 258, 146, 215, 199,   9, 217,\n",
       "       280, 152,  22, 274, 236, 249, 283, 272, 299, 301, 259, 105,  89,\n",
       "       123,  30,  74,  27, 216, 118, 336, 311, 295,  97, 342, 109,  94,\n",
       "        19, 243, 335, 126, 292, 205,  80, 304, 197, 325, 279,  40, 155,\n",
       "       156, 250,  12, 181,  79,  44, 103, 222, 198, 267, 228, 221,  20,\n",
       "       166,  90, 238, 316, 154, 186,   8, 161, 187, 107,  63, 134,  54,\n",
       "       268, 340, 207, 234, 141, 307, 327,   7, 127, 143, 182, 239, 172,\n",
       "        23, 232,  64, 167, 240, 175, 263, 195,  46, 271,  59,  31, 261,\n",
       "       300, 223, 248, 131, 255])"
      ]
     },
     "execution_count": 49,
     "metadata": {},
     "output_type": "execute_result"
    }
   ],
   "source": [
    "train['town'].unique()"
   ]
  },
  {
   "cell_type": "code",
   "execution_count": 50,
   "metadata": {},
   "outputs": [
    {
     "data": {
      "text/plain": [
       "array([3132,  921, 1544, ..., 2544, 1575,  963])"
      ]
     },
     "execution_count": 50,
     "metadata": {},
     "output_type": "execute_result"
    }
   ],
   "source": [
    "train['village'].unique()"
   ]
  },
  {
   "cell_type": "code",
   "execution_count": null,
   "metadata": {},
   "outputs": [],
   "source": []
  }
 ],
 "metadata": {
  "kernelspec": {
   "display_name": "Python 3",
   "language": "python",
   "name": "python3"
  },
  "language_info": {
   "codemirror_mode": {
    "name": "ipython",
    "version": 3
   },
   "file_extension": ".py",
   "mimetype": "text/x-python",
   "name": "python",
   "nbconvert_exporter": "python",
   "pygments_lexer": "ipython3",
   "version": "3.7.3"
  }
 },
 "nbformat": 4,
 "nbformat_minor": 2
}
