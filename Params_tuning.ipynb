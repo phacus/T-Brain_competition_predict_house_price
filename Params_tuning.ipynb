{
 "cells": [
  {
   "cell_type": "code",
   "execution_count": 1,
   "metadata": {},
   "outputs": [],
   "source": [
    "import pandas as pd\n",
    "import numpy as np\n",
    "\n",
    "import lightgbm as lgb\n",
    "\n",
    "from sklearn.model_selection import KFold, train_test_split\n",
    "\n",
    "import matplotlib.pyplot as plt\n",
    "import seaborn as sns\n",
    "plt.rcParams['font.size'] = 18\n",
    "%matplotlib inline\n",
    "\n",
    "N_FOLDS = 5\n",
    "MAX_EVALS = 5"
   ]
  },
  {
   "cell_type": "code",
   "execution_count": 2,
   "metadata": {},
   "outputs": [
    {
     "name": "stdout",
     "output_type": "stream",
     "text": [
      "Train shape:  (48000, 414)\n",
      "Test shape:  (12000, 414)\n"
     ]
    },
    {
     "data": {
      "text/html": [
       "<div>\n",
       "<style scoped>\n",
       "    .dataframe tbody tr th:only-of-type {\n",
       "        vertical-align: middle;\n",
       "    }\n",
       "\n",
       "    .dataframe tbody tr th {\n",
       "        vertical-align: top;\n",
       "    }\n",
       "\n",
       "    .dataframe thead th {\n",
       "        text-align: right;\n",
       "    }\n",
       "</style>\n",
       "<table border=\"1\" class=\"dataframe\">\n",
       "  <thead>\n",
       "    <tr style=\"text-align: right;\">\n",
       "      <th></th>\n",
       "      <th>III_10</th>\n",
       "      <th>III_100</th>\n",
       "      <th>III_1000</th>\n",
       "      <th>III_10000</th>\n",
       "      <th>III_250</th>\n",
       "      <th>III_50</th>\n",
       "      <th>III_500</th>\n",
       "      <th>III_5000</th>\n",
       "      <th>III_MIN</th>\n",
       "      <th>III_index_1000</th>\n",
       "      <th>...</th>\n",
       "      <th>building_complete_dt_diff_max_gb_parking_way</th>\n",
       "      <th>building_complete_dt_diff_min_gb_parking_way</th>\n",
       "      <th>house_area_diff_mean_gb_parking_way</th>\n",
       "      <th>house_area_diff_median_gb_parking_way</th>\n",
       "      <th>house_area_diff_max_gb_parking_way</th>\n",
       "      <th>house_area_diff_min_gb_parking_way</th>\n",
       "      <th>house_rate_diff_mean_gb_parking_way</th>\n",
       "      <th>house_rate_diff_median_gb_parking_way</th>\n",
       "      <th>house_rate_diff_max_gb_parking_way</th>\n",
       "      <th>house_rate_diff_min_gb_parking_way</th>\n",
       "    </tr>\n",
       "  </thead>\n",
       "  <tbody>\n",
       "    <tr>\n",
       "      <th>51362</th>\n",
       "      <td>0</td>\n",
       "      <td>3</td>\n",
       "      <td>125</td>\n",
       "      <td>1744</td>\n",
       "      <td>33</td>\n",
       "      <td>2</td>\n",
       "      <td>61</td>\n",
       "      <td>332</td>\n",
       "      <td>27.411018</td>\n",
       "      <td>1</td>\n",
       "      <td>...</td>\n",
       "      <td>-8735</td>\n",
       "      <td>11719</td>\n",
       "      <td>-5.454390</td>\n",
       "      <td>-2.004550</td>\n",
       "      <td>-3726.941729</td>\n",
       "      <td>3.674939</td>\n",
       "      <td>0.000000</td>\n",
       "      <td>0.00000</td>\n",
       "      <td>0.000000</td>\n",
       "      <td>0.000000</td>\n",
       "    </tr>\n",
       "    <tr>\n",
       "      <th>32480</th>\n",
       "      <td>0</td>\n",
       "      <td>0</td>\n",
       "      <td>147</td>\n",
       "      <td>9005</td>\n",
       "      <td>1</td>\n",
       "      <td>0</td>\n",
       "      <td>10</td>\n",
       "      <td>3988</td>\n",
       "      <td>112.269954</td>\n",
       "      <td>1</td>\n",
       "      <td>...</td>\n",
       "      <td>-3865</td>\n",
       "      <td>13028</td>\n",
       "      <td>0.436405</td>\n",
       "      <td>2.947883</td>\n",
       "      <td>-626.728545</td>\n",
       "      <td>630.015264</td>\n",
       "      <td>-0.367187</td>\n",
       "      <td>0.00000</td>\n",
       "      <td>-129.010684</td>\n",
       "      <td>1263.536166</td>\n",
       "    </tr>\n",
       "    <tr>\n",
       "      <th>35041</th>\n",
       "      <td>0</td>\n",
       "      <td>2</td>\n",
       "      <td>108</td>\n",
       "      <td>4390</td>\n",
       "      <td>5</td>\n",
       "      <td>0</td>\n",
       "      <td>23</td>\n",
       "      <td>1956</td>\n",
       "      <td>83.601317</td>\n",
       "      <td>1</td>\n",
       "      <td>...</td>\n",
       "      <td>-7093</td>\n",
       "      <td>13361</td>\n",
       "      <td>5.206376</td>\n",
       "      <td>8.656216</td>\n",
       "      <td>-3716.280964</td>\n",
       "      <td>14.335705</td>\n",
       "      <td>0.000000</td>\n",
       "      <td>0.00000</td>\n",
       "      <td>0.000000</td>\n",
       "      <td>0.000000</td>\n",
       "    </tr>\n",
       "    <tr>\n",
       "      <th>14870</th>\n",
       "      <td>0</td>\n",
       "      <td>0</td>\n",
       "      <td>36</td>\n",
       "      <td>2427</td>\n",
       "      <td>0</td>\n",
       "      <td>0</td>\n",
       "      <td>11</td>\n",
       "      <td>1469</td>\n",
       "      <td>337.585719</td>\n",
       "      <td>1</td>\n",
       "      <td>...</td>\n",
       "      <td>-5356</td>\n",
       "      <td>15098</td>\n",
       "      <td>5.206376</td>\n",
       "      <td>8.656216</td>\n",
       "      <td>-3716.280964</td>\n",
       "      <td>14.335705</td>\n",
       "      <td>0.000000</td>\n",
       "      <td>0.00000</td>\n",
       "      <td>0.000000</td>\n",
       "      <td>0.000000</td>\n",
       "    </tr>\n",
       "    <tr>\n",
       "      <th>13961</th>\n",
       "      <td>0</td>\n",
       "      <td>1</td>\n",
       "      <td>331</td>\n",
       "      <td>4891</td>\n",
       "      <td>12</td>\n",
       "      <td>0</td>\n",
       "      <td>80</td>\n",
       "      <td>2758</td>\n",
       "      <td>75.013266</td>\n",
       "      <td>1</td>\n",
       "      <td>...</td>\n",
       "      <td>-9618</td>\n",
       "      <td>7275</td>\n",
       "      <td>-6.120935</td>\n",
       "      <td>-3.609457</td>\n",
       "      <td>-633.285884</td>\n",
       "      <td>623.457925</td>\n",
       "      <td>0.379063</td>\n",
       "      <td>0.74625</td>\n",
       "      <td>-128.264434</td>\n",
       "      <td>1264.282416</td>\n",
       "    </tr>\n",
       "  </tbody>\n",
       "</table>\n",
       "<p>5 rows × 414 columns</p>\n",
       "</div>"
      ],
      "text/plain": [
       "       III_10  III_100  III_1000  III_10000  III_250  III_50  III_500  \\\n",
       "51362       0        3       125       1744       33       2       61   \n",
       "32480       0        0       147       9005        1       0       10   \n",
       "35041       0        2       108       4390        5       0       23   \n",
       "14870       0        0        36       2427        0       0       11   \n",
       "13961       0        1       331       4891       12       0       80   \n",
       "\n",
       "       III_5000     III_MIN  III_index_1000  ...  \\\n",
       "51362       332   27.411018               1  ...   \n",
       "32480      3988  112.269954               1  ...   \n",
       "35041      1956   83.601317               1  ...   \n",
       "14870      1469  337.585719               1  ...   \n",
       "13961      2758   75.013266               1  ...   \n",
       "\n",
       "       building_complete_dt_diff_max_gb_parking_way  \\\n",
       "51362                                         -8735   \n",
       "32480                                         -3865   \n",
       "35041                                         -7093   \n",
       "14870                                         -5356   \n",
       "13961                                         -9618   \n",
       "\n",
       "       building_complete_dt_diff_min_gb_parking_way  \\\n",
       "51362                                         11719   \n",
       "32480                                         13028   \n",
       "35041                                         13361   \n",
       "14870                                         15098   \n",
       "13961                                          7275   \n",
       "\n",
       "       house_area_diff_mean_gb_parking_way  \\\n",
       "51362                            -5.454390   \n",
       "32480                             0.436405   \n",
       "35041                             5.206376   \n",
       "14870                             5.206376   \n",
       "13961                            -6.120935   \n",
       "\n",
       "       house_area_diff_median_gb_parking_way  \\\n",
       "51362                              -2.004550   \n",
       "32480                               2.947883   \n",
       "35041                               8.656216   \n",
       "14870                               8.656216   \n",
       "13961                              -3.609457   \n",
       "\n",
       "       house_area_diff_max_gb_parking_way  house_area_diff_min_gb_parking_way  \\\n",
       "51362                        -3726.941729                            3.674939   \n",
       "32480                         -626.728545                          630.015264   \n",
       "35041                        -3716.280964                           14.335705   \n",
       "14870                        -3716.280964                           14.335705   \n",
       "13961                         -633.285884                          623.457925   \n",
       "\n",
       "       house_rate_diff_mean_gb_parking_way  \\\n",
       "51362                             0.000000   \n",
       "32480                            -0.367187   \n",
       "35041                             0.000000   \n",
       "14870                             0.000000   \n",
       "13961                             0.379063   \n",
       "\n",
       "       house_rate_diff_median_gb_parking_way  \\\n",
       "51362                                0.00000   \n",
       "32480                                0.00000   \n",
       "35041                                0.00000   \n",
       "14870                                0.00000   \n",
       "13961                                0.74625   \n",
       "\n",
       "       house_rate_diff_max_gb_parking_way  house_rate_diff_min_gb_parking_way  \n",
       "51362                            0.000000                            0.000000  \n",
       "32480                         -129.010684                         1263.536166  \n",
       "35041                            0.000000                            0.000000  \n",
       "14870                            0.000000                            0.000000  \n",
       "13961                         -128.264434                         1264.282416  \n",
       "\n",
       "[5 rows x 414 columns]"
      ]
     },
     "execution_count": 2,
     "metadata": {},
     "output_type": "execute_result"
    }
   ],
   "source": [
    "# read csv, get testing sample(20000, 4000)\n",
    "features = pd.read_csv('FE_train_0630.csv')\n",
    "\n",
    "features = features.sample(n=60000, random_state=42)\n",
    "\n",
    "features = features.select_dtypes('number')\n",
    "\n",
    "features['total_price'] = np.log1p(features['total_price'])\n",
    "labels = np.array(features['total_price']).reshape((-1, ))\n",
    "features = features.drop(columns=['total_price'])\n",
    "\n",
    "train_features, test_features, train_labels, test_labels = train_test_split(features, labels, test_size = 12000, random_state = 42)\n",
    "\n",
    "print('Train shape: ', train_features.shape)\n",
    "print('Test shape: ', test_features.shape)\n",
    "\n",
    "train_features.head()"
   ]
  },
  {
   "cell_type": "code",
   "execution_count": 3,
   "metadata": {},
   "outputs": [
    {
     "data": {
      "text/plain": [
       "(60000, 414)"
      ]
     },
     "execution_count": 3,
     "metadata": {},
     "output_type": "execute_result"
    }
   ],
   "source": [
    "features.shape"
   ]
  },
  {
   "cell_type": "code",
   "execution_count": 4,
   "metadata": {},
   "outputs": [],
   "source": [
    "# load default lightGBM Regresor model, and covert lgbm dataset\n",
    "model = lgb.LGBMRegressor(random_state=50)\n",
    "\n",
    "train_set = lgb.Dataset(train_features, label = train_labels)\n",
    "test_set = lgb.Dataset(test_features, label = test_labels)"
   ]
  },
  {
   "cell_type": "code",
   "execution_count": 5,
   "metadata": {},
   "outputs": [],
   "source": [
    "# hit score eval function\n",
    "def hit_score(preds, train_data):\n",
    "    trues  = train_data.get_label()\n",
    "    trues = np.expm1(trues)\n",
    "    preds = np.expm1(preds)\n",
    "    scores = ((np.absolute(preds - trues) / trues) <= 0.1)\n",
    "    hit_score = np.sum(scores) / train_data.num_data()\n",
    "    return 'Hit_score', hit_score, True"
   ]
  },
  {
   "cell_type": "code",
   "execution_count": 6,
   "metadata": {},
   "outputs": [
    {
     "name": "stderr",
     "output_type": "stream",
     "text": [
      "c:\\users\\bug87\\appdata\\local\\programs\\python\\python37\\lib\\site-packages\\lightgbm\\basic.py:755: UserWarning: silent keyword has been found in `params` and will be ignored.\n",
      "Please use silent argument of the Dataset constructor to pass this parameter.\n",
      "  .format(key))\n"
     ]
    },
    {
     "name": "stdout",
     "output_type": "stream",
     "text": [
      "The maximium Hit Score in cross validation was 0.52242 with std of 0.00162.\n",
      "The ideal number of iterations was 3188.\n"
     ]
    }
   ],
   "source": [
    "# get hyperparameters, and test cv\n",
    "hyperparameters = model.get_params()\n",
    "\n",
    "del hyperparameters['n_estimators']\n",
    "\n",
    "cv_results = lgb.cv(hyperparameters, train_set, num_boost_round = 10000, nfold = N_FOLDS, metrics = 'None', \n",
    "           early_stopping_rounds = 100, verbose_eval = False, seed = 42, feval=hit_score, stratified=False)\n",
    "\n",
    "best = cv_results['Hit_score-mean'][-1]\n",
    "best_std = cv_results['Hit_score-stdv'][-1]\n",
    "\n",
    "print('The maximium Hit Score in cross validation was {:.5f} with std of {:.5f}.'.format(best, best_std))\n",
    "print('The ideal number of iterations was {}.'.format(len(cv_results['Hit_score-mean'])))"
   ]
  },
  {
   "cell_type": "code",
   "execution_count": 7,
   "metadata": {},
   "outputs": [
    {
     "name": "stdout",
     "output_type": "stream",
     "text": [
      "The baseline model scores 0.54000 Hit scores on the test set.\n"
     ]
    }
   ],
   "source": [
    "# using previous cv parameters(n_estimators), predict baseline model score\n",
    "model.n_estimators = len(cv_results['Hit_score-mean'])\n",
    "\n",
    "model.fit(train_features, train_labels)\n",
    "pred = model.predict(test_features)\n",
    "\n",
    "pred_true = np.expm1(pred)\n",
    "test_labels_true = np.expm1(test_labels)\n",
    "\n",
    "score = (np.abs(pred_true - test_labels_true)/test_labels_true) <= 0.1\n",
    "baseline_hit_score = np.sum(score)/len(test_labels)\n",
    "\n",
    "print('The baseline model scores {:.5f} Hit scores on the test set.'.format(baseline_hit_score))"
   ]
  },
  {
   "cell_type": "code",
   "execution_count": 23,
   "metadata": {},
   "outputs": [],
   "source": [
    "import csv\n",
    "from hyperopt import STATUS_OK\n",
    "from timeit import default_timer as timer\n",
    "\n",
    "def objective(hyperparameters):\n",
    "    \"\"\"Objective function for Gradient Boosting Machine Hyperparameter Optimization.\n",
    "       Writes a new line to `outfile` on every iteration\"\"\"\n",
    "    \n",
    "    # Keep track of evals\n",
    "    global ITERATION\n",
    "    \n",
    "    ITERATION += 1\n",
    "    \n",
    "    # Using early stopping to find number of trees trained\n",
    "    if 'n_estimators' in hyperparameters:\n",
    "        del hyperparameters['n_estimators']\n",
    "    \n",
    "    # Retrieve the subsample\n",
    "    subsample = hyperparameters['boosting_type'].get('subsample', 1.0)\n",
    "    \n",
    "    # Extract the boosting type and subsample to top level keys\n",
    "    hyperparameters['boosting_type'] = hyperparameters['boosting_type']['boosting_type']\n",
    "    hyperparameters['subsample'] = subsample\n",
    "    \n",
    "    # Make sure parameters that need to be integers are integers\n",
    "    for parameter_name in ['num_leaves', 'subsample_for_bin', 'min_child_samples']:\n",
    "        hyperparameters[parameter_name] = int(hyperparameters[parameter_name])\n",
    "\n",
    "    start = timer()\n",
    "    \n",
    "    # Perform n_folds cross validation\n",
    "    cv_results = lgb.cv(hyperparameters, train_set, num_boost_round = 10000, nfold = N_FOLDS, \n",
    "                        early_stopping_rounds = 500, metrics = 'None', seed = 50, feval=hit_score, stratified=False)\n",
    "\n",
    "    run_time = timer() - start\n",
    "    \n",
    "    # Extract the best score\n",
    "    best_score = cv_results['Hit_score-mean'][-1]\n",
    "    \n",
    "    # Loss must be minimized\n",
    "    loss = 1 - best_score\n",
    "    \n",
    "    # Boosting rounds that returned the highest cv score\n",
    "    n_estimators = len(cv_results['Hit_score-mean'])\n",
    "    \n",
    "    # Add the number of estimators to the hyperparameters\n",
    "    hyperparameters['n_estimators'] = n_estimators\n",
    "\n",
    "    # Write to the csv file ('a' means append)\n",
    "    of_connection = open(OUT_FILE, 'a')\n",
    "    writer = csv.writer(of_connection)\n",
    "    writer.writerow([loss, hyperparameters, ITERATION, run_time, best_score])\n",
    "    of_connection.close()\n",
    "\n",
    "    # Dictionary with information for evaluation\n",
    "    return {'loss': loss, 'hyperparameters': hyperparameters, 'iteration': ITERATION,\n",
    "            'train_time': run_time, 'status': STATUS_OK}"
   ]
  },
  {
   "cell_type": "code",
   "execution_count": 8,
   "metadata": {},
   "outputs": [],
   "source": [
    "from hyperopt import hp\n",
    "from hyperopt.pyll.stochastic import sample"
   ]
  },
  {
   "cell_type": "code",
   "execution_count": 9,
   "metadata": {},
   "outputs": [],
   "source": [
    "learning_rate = {'learning_rate': hp.loguniform('learning_rate', np.log(0.005), np.log(0.2))}"
   ]
  },
  {
   "cell_type": "code",
   "execution_count": 10,
   "metadata": {},
   "outputs": [
    {
     "data": {
      "image/png": "[encoded data removed]",
      "text/plain": [
       "<Figure size 576x432 with 1 Axes>"
      ]
     },
     "metadata": {
      "needs_background": "light"
     },
     "output_type": "display_data"
    }
   ],
   "source": [
    "learning_rate_dist = []\n",
    "\n",
    "# Draw 10000 samples from the learning rate domain\n",
    "for _ in range(10000):\n",
    "    learning_rate_dist.append(sample(learning_rate)['learning_rate'])\n",
    "    \n",
    "plt.figure(figsize = (8, 6))\n",
    "sns.kdeplot(learning_rate_dist, color = 'red', linewidth = 2, shade = True);\n",
    "plt.title('Learning Rate Distribution', size = 18); plt.xlabel('Learning Rate', size = 16); plt.ylabel('Density', size = 16);"
   ]
  },
  {
   "cell_type": "code",
   "execution_count": 11,
   "metadata": {},
   "outputs": [
    {
     "data": {
      "image/png": "[encoded data removed]",
      "text/plain": [
       "<Figure size 576x432 with 1 Axes>"
      ]
     },
     "metadata": {
      "needs_background": "light"
     },
     "output_type": "display_data"
    }
   ],
   "source": [
    "# Discrete uniform distribution\n",
    "num_leaves = {'num_leaves': hp.quniform('num_leaves', 30, 150, 1)}\n",
    "num_leaves_dist = []\n",
    "\n",
    "# Sample 10000 times from the number of leaves distribution\n",
    "for _ in range(10000):\n",
    "    num_leaves_dist.append(sample(num_leaves)['num_leaves'])\n",
    "    \n",
    "# kdeplot\n",
    "plt.figure(figsize = (8, 6))\n",
    "sns.kdeplot(num_leaves_dist, linewidth = 2, shade = True);\n",
    "plt.title('Number of Leaves Distribution', size = 18); plt.xlabel('Number of Leaves', size = 16); plt.ylabel('Density', size = 16);"
   ]
  },
  {
   "cell_type": "code",
   "execution_count": 12,
   "metadata": {},
   "outputs": [
    {
     "data": {
      "text/plain": [
       "{'boosting_type': {'boosting_type': 'gbdt', 'subsample': 0.8460285239381227}}"
      ]
     },
     "execution_count": 12,
     "metadata": {},
     "output_type": "execute_result"
    }
   ],
   "source": [
    "# boosting type domain \n",
    "boosting_type = {'boosting_type': hp.choice('boosting_type', \n",
    "                                            [{'boosting_type': 'gbdt', 'subsample': hp.uniform('subsample', 0.5, 1)},\n",
    "                                             {'boosting_type': 'goss', 'subsample': 1.0}])}\n",
    "\n",
    "# Draw a sample\n",
    "hyperparams = sample(boosting_type)\n",
    "hyperparams"
   ]
  },
  {
   "cell_type": "code",
   "execution_count": 13,
   "metadata": {},
   "outputs": [
    {
     "data": {
      "text/plain": [
       "{'boosting_type': 'gbdt', 'subsample': 0.8460285239381227}"
      ]
     },
     "execution_count": 13,
     "metadata": {},
     "output_type": "execute_result"
    }
   ],
   "source": [
    "# Retrieve the subsample if present otherwise set to 1.0\n",
    "subsample = hyperparams['boosting_type'].get('subsample', 1.0)\n",
    "\n",
    "# Extract the boosting type\n",
    "hyperparams['boosting_type'] = hyperparams['boosting_type']['boosting_type']\n",
    "hyperparams['subsample'] = subsample\n",
    "\n",
    "hyperparams"
   ]
  },
  {
   "cell_type": "code",
   "execution_count": 41,
   "metadata": {},
   "outputs": [],
   "source": [
    "# Define the search space\n",
    "space = {\n",
    "    'boosting_type': hp.choice('boosting_type', \n",
    "                                            [{'boosting_type': 'gbdt', 'subsample': hp.uniform('gdbt_subsample', 0.5, 1)}, \n",
    "                                             ]),\n",
    "    'num_leaves': hp.quniform('num_leaves', 20, 150, 1),\n",
    "    'learning_rate': hp.loguniform('learning_rate', np.log(0.01), np.log(0.03)),\n",
    "    'subsample_for_bin': hp.quniform('subsample_for_bin', 20000, 300000, 20000),\n",
    "    'min_child_samples': hp.quniform('min_child_samples', 20, 500, 5),\n",
    "    'reg_alpha': hp.uniform('reg_alpha', 0.0, 1.0),\n",
    "    'reg_lambda': hp.uniform('reg_lambda', 0.0, 1.0),\n",
    "    'colsample_bytree': hp.uniform('colsample_by_tree', 0.6, 1.0),\n",
    "}"
   ]
  },
  {
   "cell_type": "code",
   "execution_count": 44,
   "metadata": {},
   "outputs": [
    {
     "data": {
      "text/plain": [
       "{'boosting_type': 'gbdt',\n",
       " 'colsample_bytree': 0.7523575045796612,\n",
       " 'is_unbalance': True,\n",
       " 'learning_rate': 0.012305794013530767,\n",
       " 'min_child_samples': 300.0,\n",
       " 'num_leaves': 57.0,\n",
       " 'reg_alpha': 0.5467176200332752,\n",
       " 'reg_lambda': 0.8651008239827432,\n",
       " 'subsample_for_bin': 120000.0,\n",
       " 'subsample': 0.6940792160949535}"
      ]
     },
     "execution_count": 44,
     "metadata": {},
     "output_type": "execute_result"
    }
   ],
   "source": [
    "# Sample from the full space\n",
    "x = sample(space)\n",
    "\n",
    "# Conditional logic to assign top-level keys\n",
    "subsample = x['boosting_type'].get('subsample', 1.0)\n",
    "x['boosting_type'] = x['boosting_type']['boosting_type']\n",
    "x['subsample'] = subsample\n",
    "\n",
    "x"
   ]
  },
  {
   "cell_type": "code",
   "execution_count": 16,
   "metadata": {},
   "outputs": [
    {
     "name": "stdout",
     "output_type": "stream",
     "text": [
      "The cross validation loss = 0.60640.\n",
      "The optimal number of estimators was 786.\n"
     ]
    }
   ],
   "source": [
    "# Create a new file and open a connection\n",
    "OUT_FILE = 'bayes_test.csv'\n",
    "of_connection = open(OUT_FILE, 'w')\n",
    "writer = csv.writer(of_connection)\n",
    "\n",
    "ITERATION = 0\n",
    "\n",
    "# Write column names\n",
    "headers = ['loss', 'hyperparameters', 'iteration', 'runtime', 'score']\n",
    "writer.writerow(headers)\n",
    "of_connection.close()\n",
    "\n",
    "# Test the objective function\n",
    "results = objective(sample(space))\n",
    "print('The cross validation loss = {:.5f}.'.format(results['loss']))\n",
    "print('The optimal number of estimators was {}.'.format(results['hyperparameters']['n_estimators']))"
   ]
  },
  {
   "cell_type": "code",
   "execution_count": 30,
   "metadata": {},
   "outputs": [],
   "source": [
    "from hyperopt import tpe\n",
    "\n",
    "# Create the algorithm\n",
    "tpe_algorithm = tpe.suggest"
   ]
  },
  {
   "cell_type": "code",
   "execution_count": 31,
   "metadata": {},
   "outputs": [],
   "source": [
    "from hyperopt import Trials\n",
    "\n",
    "# Record results\n",
    "trials = Trials()"
   ]
  },
  {
   "cell_type": "code",
   "execution_count": 32,
   "metadata": {},
   "outputs": [],
   "source": [
    "# Create a file and open a connection\n",
    "OUT_FILE = 'bayes_test.csv'\n",
    "of_connection = open(OUT_FILE, 'w')\n",
    "writer = csv.writer(of_connection)\n",
    "\n",
    "ITERATION = 0\n",
    "\n",
    "# Write column names\n",
    "headers = ['loss', 'hyperparameters', 'iteration', 'runtime', 'score']\n",
    "writer.writerow(headers)\n",
    "of_connection.close()"
   ]
  },
  {
   "cell_type": "code",
   "execution_count": 33,
   "metadata": {},
   "outputs": [],
   "source": [
    "from hyperopt import fmin"
   ]
  },
  {
   "cell_type": "code",
   "execution_count": 34,
   "metadata": {},
   "outputs": [
    {
     "name": "stdout",
     "output_type": "stream",
     "text": [
      " 40%|████      | 2/5 [08:20<13:49, 276.44s/it, best loss: 0.6299]"
     ]
    },
    {
     "name": "stderr",
     "output_type": "stream",
     "text": [
      "c:\\users\\bug87\\appdata\\local\\programs\\python\\python37\\lib\\site-packages\\ipykernel_launcher.py:5: RuntimeWarning: overflow encountered in expm1\n",
      "  \"\"\"\n",
      "\n"
     ]
    },
    {
     "name": "stdout",
     "output_type": "stream",
     "text": [
      "100%|██████████| 5/5 [21:15<00:00, 258.44s/it, best loss: 0.5869000000000001]\n"
     ]
    },
    {
     "data": {
      "text/plain": [
       "{'boosting_type': 0,\n",
       " 'colsample_by_tree': 0.7653538787665831,\n",
       " 'gdbt_subsample': 0.7216069319767673,\n",
       " 'is_unbalance': 0,\n",
       " 'learning_rate': 0.037773841063521045,\n",
       " 'min_child_samples': 65.0,\n",
       " 'num_leaves': 66.0,\n",
       " 'reg_alpha': 0.8699268196306537,\n",
       " 'reg_lambda': 0.6501042191319842,\n",
       " 'subsample_for_bin': 260000.0}"
      ]
     },
     "execution_count": 34,
     "metadata": {},
     "output_type": "execute_result"
    }
   ],
   "source": [
    "# Global variable\n",
    "global  ITERATION\n",
    "\n",
    "ITERATION = 0\n",
    "\n",
    "# Run optimization\n",
    "best = fmin(fn = objective, space = space, algo = tpe.suggest, trials = trials,\n",
    "            max_evals = MAX_EVALS)\n",
    "\n",
    "best"
   ]
  },
  {
   "cell_type": "code",
   "execution_count": 35,
   "metadata": {},
   "outputs": [
    {
     "data": {
      "text/plain": [
       "[{'loss': 0.5869000000000001,\n",
       "  'hyperparameters': {'boosting_type': 'gbdt',\n",
       "   'colsample_bytree': 0.7653538787665831,\n",
       "   'is_unbalance': True,\n",
       "   'learning_rate': 0.037773841063521045,\n",
       "   'min_child_samples': 65,\n",
       "   'num_leaves': 66,\n",
       "   'reg_alpha': 0.8699268196306537,\n",
       "   'reg_lambda': 0.6501042191319842,\n",
       "   'subsample_for_bin': 260000,\n",
       "   'subsample': 0.7216069319767673,\n",
       "   'n_estimators': 2027},\n",
       "  'iteration': 4,\n",
       "  'train_time': 702.7345291000001,\n",
       "  'status': 'ok'}]"
      ]
     },
     "execution_count": 35,
     "metadata": {},
     "output_type": "execute_result"
    }
   ],
   "source": [
    "# Sort the trials with lowest loss (highest AUC) first\n",
    "trials_dict = sorted(trials.results, key = lambda x: x['loss'])\n",
    "trials_dict[:1]"
   ]
  },
  {
   "cell_type": "code",
   "execution_count": 47,
   "metadata": {},
   "outputs": [],
   "source": [
    "results = pd.read_csv(OUT_FILE)"
   ]
  },
  {
   "cell_type": "code",
   "execution_count": 39,
   "metadata": {},
   "outputs": [],
   "source": [
    "import ast\n",
    "\n",
    "def evaluate(results, name):\n",
    "    \"\"\"Evaluate model on test data using hyperparameters in results\n",
    "       Return dataframe of hyperparameters\"\"\"\n",
    "    \n",
    "    new_results = results.copy()\n",
    "    # String to dictionary\n",
    "    new_results['hyperparameters'] = new_results['hyperparameters'].map(ast.literal_eval)\n",
    "    \n",
    "    # Sort with best values on top\n",
    "    new_results = new_results.sort_values('score', ascending = False).reset_index(drop = True)\n",
    "    \n",
    "    # Print out cross validation high score\n",
    "    print('The highest cross validation score from {} was {:.5f} found on iteration {}.'.format(name, new_results.loc[0, 'score'], new_results.loc[0, 'iteration']))\n",
    "    \n",
    "    # Use best hyperparameters to create a model\n",
    "    hyperparameters = new_results.loc[0, 'hyperparameters']\n",
    "    model = lgb.LGBMRegressor(**hyperparameters)\n",
    "    \n",
    "    # Train and make predictions\n",
    "    model.fit(train_features, train_labels)\n",
    "    preds = model.predict(test_features)\n",
    "    \n",
    "    pred_true = np.expm1(pred)\n",
    "    test_labels_true = np.expm1(test_labels)\n",
    "\n",
    "    score = (np.abs(pred_true - test_labels_true)/test_labels_true) <= 0.1\n",
    "    hit_score = np.sum(score)/len(test_labels)\n",
    "    \n",
    "    print('Hit scores from {} on test data = {:.5f}.'.format(name, hit_score))\n",
    "    \n",
    "    # Create dataframe of hyperparameters\n",
    "    hyp_df = pd.DataFrame(columns = list(new_results.loc[0, 'hyperparameters'].keys()))\n",
    "\n",
    "    # Iterate through each set of hyperparameters that were evaluated\n",
    "    for i, hyp in enumerate(new_results['hyperparameters']):\n",
    "        hyp_df = hyp_df.append(pd.DataFrame(hyp, index = [0]), \n",
    "                               ignore_index = True)\n",
    "        \n",
    "    # Put the iteration and score in the hyperparameter dataframe\n",
    "    hyp_df['iteration'] = new_results['iteration']\n",
    "    hyp_df['score'] = new_results['score']\n",
    "    \n",
    "    return hyp_df"
   ]
  },
  {
   "cell_type": "code",
   "execution_count": 48,
   "metadata": {},
   "outputs": [
    {
     "name": "stdout",
     "output_type": "stream",
     "text": [
      "The highest cross validation score from Bayesian was 0.42180 found on iteration 8.\n",
      "Hit scores from Bayesian on test data = 0.40083.\n"
     ]
    },
    {
     "data": {
      "text/html": [
       "<div>\n",
       "<style scoped>\n",
       "    .dataframe tbody tr th:only-of-type {\n",
       "        vertical-align: middle;\n",
       "    }\n",
       "\n",
       "    .dataframe tbody tr th {\n",
       "        vertical-align: top;\n",
       "    }\n",
       "\n",
       "    .dataframe thead th {\n",
       "        text-align: right;\n",
       "    }\n",
       "</style>\n",
       "<table border=\"1\" class=\"dataframe\">\n",
       "  <thead>\n",
       "    <tr style=\"text-align: right;\">\n",
       "      <th></th>\n",
       "      <th>boosting_type</th>\n",
       "      <th>colsample_bytree</th>\n",
       "      <th>is_unbalance</th>\n",
       "      <th>learning_rate</th>\n",
       "      <th>min_child_samples</th>\n",
       "      <th>num_leaves</th>\n",
       "      <th>reg_alpha</th>\n",
       "      <th>reg_lambda</th>\n",
       "      <th>subsample_for_bin</th>\n",
       "      <th>subsample</th>\n",
       "      <th>n_estimators</th>\n",
       "      <th>iteration</th>\n",
       "      <th>score</th>\n",
       "    </tr>\n",
       "  </thead>\n",
       "  <tbody>\n",
       "    <tr>\n",
       "      <th>0</th>\n",
       "      <td>gbdt</td>\n",
       "      <td>0.702920</td>\n",
       "      <td>False</td>\n",
       "      <td>0.012493</td>\n",
       "      <td>30</td>\n",
       "      <td>22</td>\n",
       "      <td>0.123362</td>\n",
       "      <td>0.679194</td>\n",
       "      <td>200000</td>\n",
       "      <td>0.701215</td>\n",
       "      <td>6145</td>\n",
       "      <td>8</td>\n",
       "      <td>0.4218</td>\n",
       "    </tr>\n",
       "    <tr>\n",
       "      <th>1</th>\n",
       "      <td>gbdt</td>\n",
       "      <td>0.765354</td>\n",
       "      <td>True</td>\n",
       "      <td>0.037774</td>\n",
       "      <td>65</td>\n",
       "      <td>66</td>\n",
       "      <td>0.869927</td>\n",
       "      <td>0.650104</td>\n",
       "      <td>260000</td>\n",
       "      <td>0.721607</td>\n",
       "      <td>2027</td>\n",
       "      <td>4</td>\n",
       "      <td>0.4131</td>\n",
       "    </tr>\n",
       "    <tr>\n",
       "      <th>2</th>\n",
       "      <td>gbdt</td>\n",
       "      <td>0.840140</td>\n",
       "      <td>True</td>\n",
       "      <td>0.022948</td>\n",
       "      <td>200</td>\n",
       "      <td>139</td>\n",
       "      <td>0.486344</td>\n",
       "      <td>0.870436</td>\n",
       "      <td>220000</td>\n",
       "      <td>0.784970</td>\n",
       "      <td>2541</td>\n",
       "      <td>9</td>\n",
       "      <td>0.4073</td>\n",
       "    </tr>\n",
       "    <tr>\n",
       "      <th>3</th>\n",
       "      <td>gbdt</td>\n",
       "      <td>0.975914</td>\n",
       "      <td>True</td>\n",
       "      <td>0.011772</td>\n",
       "      <td>170</td>\n",
       "      <td>123</td>\n",
       "      <td>0.849147</td>\n",
       "      <td>0.423173</td>\n",
       "      <td>20000</td>\n",
       "      <td>0.543188</td>\n",
       "      <td>2647</td>\n",
       "      <td>10</td>\n",
       "      <td>0.4061</td>\n",
       "    </tr>\n",
       "    <tr>\n",
       "      <th>4</th>\n",
       "      <td>gbdt</td>\n",
       "      <td>0.656268</td>\n",
       "      <td>True</td>\n",
       "      <td>0.017225</td>\n",
       "      <td>445</td>\n",
       "      <td>133</td>\n",
       "      <td>0.003443</td>\n",
       "      <td>0.198651</td>\n",
       "      <td>260000</td>\n",
       "      <td>0.512638</td>\n",
       "      <td>4547</td>\n",
       "      <td>7</td>\n",
       "      <td>0.4020</td>\n",
       "    </tr>\n",
       "    <tr>\n",
       "      <th>5</th>\n",
       "      <td>gbdt</td>\n",
       "      <td>0.736422</td>\n",
       "      <td>False</td>\n",
       "      <td>0.019644</td>\n",
       "      <td>440</td>\n",
       "      <td>105</td>\n",
       "      <td>0.538427</td>\n",
       "      <td>0.039746</td>\n",
       "      <td>100000</td>\n",
       "      <td>0.710740</td>\n",
       "      <td>3429</td>\n",
       "      <td>6</td>\n",
       "      <td>0.3991</td>\n",
       "    </tr>\n",
       "    <tr>\n",
       "      <th>6</th>\n",
       "      <td>gbdt</td>\n",
       "      <td>0.873366</td>\n",
       "      <td>True</td>\n",
       "      <td>0.251159</td>\n",
       "      <td>465</td>\n",
       "      <td>138</td>\n",
       "      <td>0.049846</td>\n",
       "      <td>0.877796</td>\n",
       "      <td>80000</td>\n",
       "      <td>0.844679</td>\n",
       "      <td>2358</td>\n",
       "      <td>1</td>\n",
       "      <td>0.3701</td>\n",
       "    </tr>\n",
       "    <tr>\n",
       "      <th>7</th>\n",
       "      <td>gbdt</td>\n",
       "      <td>0.937910</td>\n",
       "      <td>False</td>\n",
       "      <td>0.368475</td>\n",
       "      <td>215</td>\n",
       "      <td>100</td>\n",
       "      <td>0.530276</td>\n",
       "      <td>0.247341</td>\n",
       "      <td>300000</td>\n",
       "      <td>0.838970</td>\n",
       "      <td>531</td>\n",
       "      <td>2</td>\n",
       "      <td>0.3407</td>\n",
       "    </tr>\n",
       "    <tr>\n",
       "      <th>8</th>\n",
       "      <td>goss</td>\n",
       "      <td>0.953389</td>\n",
       "      <td>True</td>\n",
       "      <td>0.011789</td>\n",
       "      <td>335</td>\n",
       "      <td>104</td>\n",
       "      <td>0.336801</td>\n",
       "      <td>0.249338</td>\n",
       "      <td>140000</td>\n",
       "      <td>1.000000</td>\n",
       "      <td>84</td>\n",
       "      <td>3</td>\n",
       "      <td>0.1493</td>\n",
       "    </tr>\n",
       "    <tr>\n",
       "      <th>9</th>\n",
       "      <td>goss</td>\n",
       "      <td>0.661485</td>\n",
       "      <td>True</td>\n",
       "      <td>0.015543</td>\n",
       "      <td>215</td>\n",
       "      <td>62</td>\n",
       "      <td>0.053910</td>\n",
       "      <td>0.610818</td>\n",
       "      <td>100000</td>\n",
       "      <td>1.000000</td>\n",
       "      <td>64</td>\n",
       "      <td>5</td>\n",
       "      <td>0.1472</td>\n",
       "    </tr>\n",
       "  </tbody>\n",
       "</table>\n",
       "</div>"
      ],
      "text/plain": [
       "  boosting_type  colsample_bytree is_unbalance  learning_rate  \\\n",
       "0          gbdt          0.702920        False       0.012493   \n",
       "1          gbdt          0.765354         True       0.037774   \n",
       "2          gbdt          0.840140         True       0.022948   \n",
       "3          gbdt          0.975914         True       0.011772   \n",
       "4          gbdt          0.656268         True       0.017225   \n",
       "5          gbdt          0.736422        False       0.019644   \n",
       "6          gbdt          0.873366         True       0.251159   \n",
       "7          gbdt          0.937910        False       0.368475   \n",
       "8          goss          0.953389         True       0.011789   \n",
       "9          goss          0.661485         True       0.015543   \n",
       "\n",
       "  min_child_samples num_leaves  reg_alpha  reg_lambda subsample_for_bin  \\\n",
       "0                30         22   0.123362    0.679194            200000   \n",
       "1                65         66   0.869927    0.650104            260000   \n",
       "2               200        139   0.486344    0.870436            220000   \n",
       "3               170        123   0.849147    0.423173             20000   \n",
       "4               445        133   0.003443    0.198651            260000   \n",
       "5               440        105   0.538427    0.039746            100000   \n",
       "6               465        138   0.049846    0.877796             80000   \n",
       "7               215        100   0.530276    0.247341            300000   \n",
       "8               335        104   0.336801    0.249338            140000   \n",
       "9               215         62   0.053910    0.610818            100000   \n",
       "\n",
       "   subsample n_estimators  iteration   score  \n",
       "0   0.701215         6145          8  0.4218  \n",
       "1   0.721607         2027          4  0.4131  \n",
       "2   0.784970         2541          9  0.4073  \n",
       "3   0.543188         2647         10  0.4061  \n",
       "4   0.512638         4547          7  0.4020  \n",
       "5   0.710740         3429          6  0.3991  \n",
       "6   0.844679         2358          1  0.3701  \n",
       "7   0.838970          531          2  0.3407  \n",
       "8   1.000000           84          3  0.1493  \n",
       "9   1.000000           64          5  0.1472  "
      ]
     },
     "execution_count": 48,
     "metadata": {},
     "output_type": "execute_result"
    }
   ],
   "source": [
    "bayes_results = evaluate(results, name = 'Bayesian')\n",
    "bayes_results"
   ]
  },
  {
   "cell_type": "code",
   "execution_count": 61,
   "metadata": {},
   "outputs": [
    {
     "data": {
      "text/plain": [
       "{'boosting_type': 'gbdt',\n",
       " 'colsample_bytree': 0.7029201763584364,\n",
       " 'is_unbalance': False,\n",
       " 'learning_rate': 0.012492622789498182,\n",
       " 'min_child_samples': 30,\n",
       " 'num_leaves': 22,\n",
       " 'reg_alpha': 0.12336210430221084,\n",
       " 'reg_lambda': 0.6791940464273635,\n",
       " 'subsample_for_bin': 200000,\n",
       " 'subsample': 0.7012145631421652,\n",
       " 'n_estimators': 6145,\n",
       " 'iteration': 8,\n",
       " 'score': 0.4218}"
      ]
     },
     "execution_count": 61,
     "metadata": {},
     "output_type": "execute_result"
    }
   ],
   "source": [
    "bayes_results.head(1).to_dict('records')[0]"
   ]
  },
  {
   "cell_type": "code",
   "execution_count": 45,
   "metadata": {},
   "outputs": [
    {
     "name": "stdout",
     "output_type": "stream",
     "text": [
      "100%|██████████| 5/5 [52:36<00:00, 627.34s/it, best loss: 0.5782]            \n"
     ]
    }
   ],
   "source": [
    "MAX_EVALS = 10\n",
    "\n",
    "# Continue training\n",
    "best = fmin(fn = objective, space = space, algo = tpe.suggest, trials = trials,\n",
    "            max_evals = MAX_EVALS)"
   ]
  },
  {
   "cell_type": "code",
   "execution_count": 46,
   "metadata": {},
   "outputs": [],
   "source": [
    "import json\n",
    "\n",
    "# Save the trial results\n",
    "with open('trials.json', 'w') as f:\n",
    "    f.write(json.dumps(trials_dict))"
   ]
  },
  {
   "cell_type": "code",
   "execution_count": null,
   "metadata": {},
   "outputs": [],
   "source": [
    "# MAX_EVALS = 1000\n",
    "\n",
    "# # Create a new file and open a connection\n",
    "# OUT_FILE = 'bayesian_trials_1000.csv'\n",
    "# of_connection = open(OUT_FILE, 'w')\n",
    "# writer = csv.writer(of_connection)\n",
    "\n",
    "# # Write column names\n",
    "# headers = ['loss', 'hyperparameters', 'iteration', 'runtime', 'score']\n",
    "# writer.writerow(headers)\n",
    "# of_connection.close()\n",
    "\n",
    "# # Record results\n",
    "# trials = Trials()\n",
    "\n",
    "# global ITERATION\n",
    "\n",
    "# ITERATION = 0 \n",
    "\n",
    "# best = fmin(fn = objective, space = space, algo = tpe.suggest,\n",
    "#             trials = trials, max_evals = MAX_EVALS)\n",
    "\n",
    "# # Sort the trials with lowest loss (highest AUC) first\n",
    "# trials_dict = sorted(trials.results, key = lambda x: x['loss'])\n",
    "\n",
    "# print('Finished, best results')\n",
    "# print(trials_dict[:1])\n",
    "\n",
    "# # Save the trial results\n",
    "# with open('trials.json', 'w') as f:\n",
    "#     f.write(json.dumps(trials_dict))"
   ]
  },
  {
   "cell_type": "code",
   "execution_count": null,
   "metadata": {},
   "outputs": [],
   "source": [
    "def automated_params_tuning(train_dataset, cat_features, max_evals, n_folds):\n",
    "    # 自動調參 function\n",
    "    # train_dataset: train dataset(panda.Dataframe)\n",
    "    # cat_features: categorial features(list)\n",
    "    # max_evals: evaluation tuning rounds(int)\n",
    "    # n_folds: num of k-fold cv\n",
    "    # return: lightgbm parameters(dict)\n",
    "    return"
   ]
  }
 ],
 "metadata": {
  "kernelspec": {
   "display_name": "Python 3",
   "language": "python",
   "name": "python3"
  },
  "language_info": {
   "codemirror_mode": {
    "name": "ipython",
    "version": 3
   },
   "file_extension": ".py",
   "mimetype": "text/x-python",
   "name": "python",
   "nbconvert_exporter": "python",
   "pygments_lexer": "ipython3",
   "version": "3.7.3"
  }
 },
 "nbformat": 4,
 "nbformat_minor": 2
}
