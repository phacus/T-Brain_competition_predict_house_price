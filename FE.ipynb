{
 "cells": [
  {
   "cell_type": "code",
   "execution_count": 1,
   "metadata": {},
   "outputs": [
    {
     "name": "stderr",
     "output_type": "stream",
     "text": [
      "/anaconda3/lib/python3.6/site-packages/lightgbm/__init__.py:46: UserWarning: Starting from version 2.2.1, the library file in distribution wheels for macOS is built by the Apple Clang (Xcode_9.4.1) compiler.\n",
      "This means that in case of installing LightGBM from PyPI via the ``pip install lightgbm`` command, you don't need to install the gcc compiler anymore.\n",
      "Instead of that, you need to install the OpenMP library, which is required for running LightGBM on the system with the Apple Clang compiler.\n",
      "You can install the OpenMP library by the following command: ``brew install libomp``.\n",
      "  \"You can install the OpenMP library by the following command: ``brew install libomp``.\", UserWarning)\n"
     ]
    }
   ],
   "source": [
    "import numpy as np\n",
    "import pandas as pd\n",
    "import matplotlib.pyplot as plt\n",
    "import seaborn as sns\n",
    "plt.style.use('ggplot')\n",
    "import datetime\n",
    "import lightgbm as lgb\n",
    "from scipy import stats\n",
    "from scipy.sparse import hstack, csr_matrix\n",
    "from sklearn.model_selection import train_test_split, KFold\n",
    "from wordcloud import WordCloud\n",
    "from collections import Counter\n",
    "import os\n",
    "#import xgboost as xgb\n",
    "#import lightgbm as lgb\n",
    "from functools import reduce\n",
    "import warnings\n",
    "from sklearn.metrics import mean_squared_error\n",
    "from scipy import stats\n",
    "from math import sqrt\n",
    "from lightgbm import plot_tree\n",
    "from hyperopt import hp, tpe\n",
    "from hyperopt.fmin import fmin\n",
    "from hyperopt import Trials\n",
    "from hyperopt import fmin\n",
    "from hyperopt import STATUS_OK\n",
    "from hyperopt.pyll.stochastic import sample\n",
    "import gc\n",
    "warnings.filterwarnings('ignore')\n"
   ]
  },
  {
   "cell_type": "code",
   "execution_count": 7,
   "metadata": {},
   "outputs": [
    {
     "data": {
      "text/plain": [
       "['fields.pdf', 'test.csv', 'submit_test.csv', 'train.csv']"
      ]
     },
     "execution_count": 7,
     "metadata": {},
     "output_type": "execute_result"
    }
   ],
   "source": [
    "os.listdir('dataset-0510/')"
   ]
  },
  {
   "cell_type": "code",
   "execution_count": 8,
   "metadata": {},
   "outputs": [],
   "source": [
    "train = pd.read_csv('dataset-0510/train.csv')\n",
    "test  = pd.read_csv('dataset-0510/test.csv')\n",
    "data = pd.concat([train, test], axis=0)"
   ]
  },
  {
   "cell_type": "code",
   "execution_count": 56,
   "metadata": {},
   "outputs": [],
   "source": [
    "def feature_process(df):\n",
    "    #floor\n",
    "    df['avg_height_floor'] = df['txn_floor'] / df['total_floor']\n",
    "    \n",
    "    #location\n",
    "    #df['location_1']  = int(str(df['city']) + (df['town']) + str(df['village']))\n",
    "    #df['location_2']  = int(str(df['city']) + (df['town']))\n",
    "    df['city'] = df['city'].astype('category')\n",
    "    df['town'] = df['town'].astype('category')\n",
    "    df['village'] = df['village'].astype('category')\n",
    "    \n",
    "    #date\n",
    "    df['day_between_txn_complete'] = df['txn_dt'] - df['building_complete_dt']\n",
    "    df['year_between_txn_complete'] = df['day_between_txn_complete'] / 365\n",
    "    \n",
    "    #area\n",
    "    df['land*bulid_area'] = df['land_area'] * df ['building_area']\n",
    "    df['land/bulid_area'] = df['land_area'] / df ['building_area']\n",
    "    df['land+bulid_area'] = df['land_area'] + df ['building_area']\n",
    "\n",
    "    #parking\n",
    "    df['parking_price_every_area'] = df['parking_price'] / df['parking_area']\n",
    "    \n",
    "    #population\n",
    "    \n",
    "    #soical rate\n",
    "    df['positive_born_rate']     = df['born_rate'] - df['death_rate']\n",
    "    df['positive_born_rate']     = df['born_rate'] / df['death_rate']\n",
    "    df['positive_marriage_rate'] = df['marriage_rate'] - df['divorce_rate']\n",
    "    df['positive_marriage_rate'] = df['marriage_rate'] / df['divorce_rate']\n",
    "    #building\n",
    "    df['building_type'] = df['building_type'].astype('category')\n",
    "    df['building_use'] = df['building_use'].astype('category')\n",
    "    \n",
    "    #degree rate\n",
    "    df['all_degree'] = df['doc_rate'] + df['master_rate'] + df['bachelor_rate'][0] + df['highschool_rate'] + df['jobschool_rate'] + df['junior_rate'] + df['elementary_rate']\n",
    "    df['junior_above_rate'] = df['doc_rate'] + df['master_rate'] + df['bachelor_rate'] + df['highschool_rate'] + df['jobschool_rate'] + df['junior_rate'] \n",
    "    df['jobschool_above_rate'] = df['doc_rate'] + df['master_rate'] + df['bachelor_rate'] + df['highschool_rate'] +  df['jobschool_rate']\n",
    "    df['highschool_above_rate'] = df['doc_rate'] + df['master_rate'] + df['bachelor_rate'] + df['highschool_rate']\n",
    "    df['bachelor_above_rate'] = df['doc_rate'] + df['master_rate'] + df['bachelor_rate']\n",
    "    df['master_above_rate'] = df['doc_rate'] + df['master_rate'] \n",
    "    \n",
    "    \n",
    "    return df"
   ]
  },
  {
   "cell_type": "code",
   "execution_count": 60,
   "metadata": {},
   "outputs": [],
   "source": [
    "FE_train = feature_process(train)\n",
    "FE_test = feature_process(test)\n",
    "FE_train.to_csv('FE_train.csv', index = False)\n",
    "FE_test.to_csv('FE_test.csv', index = False)"
   ]
  },
  {
   "cell_type": "code",
   "execution_count": 80,
   "metadata": {},
   "outputs": [
    {
     "name": "stdout",
     "output_type": "stream",
     "text": [
      "<class 'pandas.core.frame.DataFrame'>\n",
      "RangeIndex: 60000 entries, 0 to 59999\n",
      "Columns: 250 entries, building_id to master_above_rate\n",
      "dtypes: category(5), float64(51), int64(193), object(1)\n",
      "memory usage: 112.7+ MB\n"
     ]
    }
   ],
   "source": [
    "FE_train.info()"
   ]
  },
  {
   "cell_type": "code",
   "execution_count": 82,
   "metadata": {},
   "outputs": [
    {
     "data": {
      "text/plain": [
       "['city', 'building_type', 'building_use', 'town', 'village']"
      ]
     },
     "execution_count": 82,
     "metadata": {},
     "output_type": "execute_result"
    }
   ],
   "source": [
    "[i for i in FE_train.columns if FE_train[i].dtypes != 'float64' and FE_train[i].dtypes != 'int64' and FE_train[i].dtypes != 'object'] "
   ]
  },
  {
   "cell_type": "code",
   "execution_count": null,
   "metadata": {},
   "outputs": [],
   "source": []
  }
 ],
 "metadata": {
  "kernelspec": {
   "display_name": "Python 3",
   "language": "python",
   "name": "python3"
  },
  "language_info": {
   "codemirror_mode": {
    "name": "ipython",
    "version": 3
   },
   "file_extension": ".py",
   "mimetype": "text/x-python",
   "name": "python",
   "nbconvert_exporter": "python",
   "pygments_lexer": "ipython3",
   "version": "3.6.8"
  }
 },
 "nbformat": 4,
 "nbformat_minor": 2
}
