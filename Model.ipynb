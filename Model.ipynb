{
 "cells": [
  {
   "cell_type": "code",
   "execution_count": 10,
   "metadata": {},
   "outputs": [],
   "source": [
    "import numpy as np\n",
    "import pandas as pd\n",
    "pd.set_option('max_columns', None)\n",
    "import matplotlib.pyplot as plt\n",
    "import seaborn as sns\n",
    "%matplotlib inline\n",
    "plt.style.use('ggplot')\n",
    "import datetime\n",
    "import lightgbm as lgb\n",
    "from scipy import stats\n",
    "from scipy.sparse import hstack, csr_matrix\n",
    "from sklearn.model_selection import train_test_split, KFold\n",
    "from wordcloud import WordCloud\n",
    "from collections import Counter\n",
    "from nltk.corpus import stopwords\n",
    "from nltk.util import ngrams\n",
    "from sklearn.feature_extraction.text import TfidfVectorizer, CountVectorizer\n",
    "from sklearn.preprocessing import StandardScaler\n",
    "stop = set(stopwords.words('english'))\n",
    "import os\n",
    "#import xgboost as xgb\n",
    "#import lightgbm as lgb\n",
    "from sklearn import model_selection\n",
    "from sklearn.metrics import accuracy_score\n",
    "import json\n",
    "import ast\n",
    "import eli5\n",
    "from functools import reduce\n",
    "import warnings\n",
    "from sklearn.metrics import mean_squared_error\n",
    "from scipy import stats\n",
    "from math import sqrt\n",
    "from lightgbm import plot_tree\n",
    "from hyperopt import hp, tpe\n",
    "from hyperopt.fmin import fmin\n",
    "from hyperopt import Trials\n",
    "from hyperopt import fmin\n",
    "from hyperopt import STATUS_OK\n",
    "from hyperopt.pyll.stochastic import sample\n",
    "import time\n",
    "import gc\n",
    "warnings.filterwarnings('ignore')\n",
    "#import shap"
   ]
  },
  {
   "cell_type": "code",
   "execution_count": 16,
   "metadata": {},
   "outputs": [
    {
     "data": {
      "text/plain": [
       "8906"
      ]
     },
     "execution_count": 16,
     "metadata": {},
     "output_type": "execute_result"
    }
   ],
   "source": [
    "train = pd.read_csv('FE_train.csv')\n",
    "test  = pd.read_csv('FE_test.csv')\n",
    "gc.collect()"
   ]
  },
  {
   "cell_type": "code",
   "execution_count": 6,
   "metadata": {},
   "outputs": [],
   "source": [
    "def display_importances(feature_importance_df):\n",
    "    cols = feature_importance_df[[\"feature\", \"importance\"]].groupby(\"feature\").mean().sort_values(by=\"importance\", ascending=False)[:40].index\n",
    "    best_features = feature_importance_df.loc[feature_importance_df.feature.isin(cols)]\n",
    "\n",
    "    plt.figure(figsize=(8, 10))\n",
    "    sns.barplot(x=\"importance\", y=\"feature\", data=best_features.sort_values(by=\"importance\", ascending=False))\n",
    "    plt.title('LightGBM Features (avg over folds)')\n",
    "    plt.tight_layout()"
   ]
  },
  {
   "cell_type": "code",
   "execution_count": 7,
   "metadata": {},
   "outputs": [],
   "source": [
    "def Submission(Ids, preds):\n",
    "    file_name = datetime.datetime.today().strftime('%m-%d-%H-%M')\n",
    "    submission = pd.DataFrame({'building_id' : Ids, 'total_price' : preds})\n",
    "    if not os.path.isdir('Submission'):\n",
    "        os.makedirs('Submission')\n",
    "    submission.to_csv('Submission/' + file_name + '.csv', index= False)"
   ]
  },
  {
   "cell_type": "code",
   "execution_count": null,
   "metadata": {},
   "outputs": [],
   "source": []
  },
  {
   "cell_type": "code",
   "execution_count": 13,
   "metadata": {},
   "outputs": [],
   "source": [
    "def lgb_model(split_num, train, test, features, stratified = False):\n",
    "    if stratified:\n",
    "        kf = StratifiedKFold(n_splits = split_num, random_state = 42, shuffle = True)\n",
    "    else :\n",
    "        kf = KFold(n_splits=split_num, shuffle=True,random_state=42)\n",
    "    train['total_price_log'] = np.log1p(train['total_price'])\n",
    "    feature_importance_df = pd.DataFrame()\n",
    "    oof = np.zeros(len(train))\n",
    "    predictions = np.zeros(len(test))\n",
    "    \n",
    "    param ={\n",
    "        'n_estimators': 10000, 'max_depth' : 5, 'num_leaves' :30,         \n",
    "        'objective': 'regression',   'metric':'rmse',   \n",
    "        'learning_rate': 0.01,      'boosting': 'gbdt',     'min_data_in_leaf': 10,\n",
    "        'feature_fraction': 0.9,    'bagging_freq':1,       'bagging_fraction': 0.9,     'importance_type': 'gain',\n",
    "        'lambda_l1': 0.2,  'subsample': .8,   'colsample_bytree': .9\n",
    "    }\n",
    "    for fold_, (trn_idx, val_idx) in enumerate(kf.split(train[features].values,train['total_price_log'].values)):\n",
    "        trn_data = lgb.Dataset(train.iloc[trn_idx][features], label= train['total_price_log'].iloc[trn_idx])\n",
    "        val_data = lgb.Dataset(train.iloc[val_idx][features], label= train['total_price_log'].iloc[val_idx])\n",
    "        \n",
    "        \n",
    "        clf = lgb.train(params= param, train_set= trn_data, valid_sets= [trn_data, val_data], verbose_eval=200, early_stopping_rounds= 1000)\n",
    "        oof[val_idx] = clf.predict(train.iloc[val_idx][features], num_iteration = clf.best_iteration)\n",
    "        predictions += clf.predict(test[features], num_iteration = clf.best_iteration) / kf.n_splits\n",
    "        \n",
    "        fold_importance_df = pd.DataFrame()\n",
    "        fold_importance_df['feature']    = features\n",
    "        fold_importance_df['importance'] = np.log1p(clf.feature_importance(importance_type='gain', iteration=clf.best_iteration))\n",
    "        fold_importance_df['fold']       = fold_ + 1\n",
    "        feature_importance_df = pd.concat([feature_importance_df, fold_importance_df], axis=0)\n",
    "    \n",
    "    print('CV scrore : {}'.format(sqrt(mean_squared_error(train['total_price_log'], oof))))\n",
    "    display_importances(feature_importance_df)\n",
    "    return predictions\n"
   ]
  },
  {
   "cell_type": "code",
   "execution_count": 18,
   "metadata": {
    "scrolled": false
   },
   "outputs": [
    {
     "name": "stdout",
     "output_type": "stream",
     "text": [
      "Training until validation scores don't improve for 1000 rounds.\n",
      "[200]\ttraining's rmse: 0.413259\tvalid_1's rmse: 0.412945\n",
      "[400]\ttraining's rmse: 0.290674\tvalid_1's rmse: 0.296265\n",
      "[600]\ttraining's rmse: 0.258716\tvalid_1's rmse: 0.267878\n",
      "[800]\ttraining's rmse: 0.243284\tvalid_1's rmse: 0.255029\n",
      "[1000]\ttraining's rmse: 0.232652\tvalid_1's rmse: 0.246551\n",
      "[1200]\ttraining's rmse: 0.224983\tvalid_1's rmse: 0.240721\n",
      "[1400]\ttraining's rmse: 0.218804\tvalid_1's rmse: 0.236311\n",
      "[1600]\ttraining's rmse: 0.213359\tvalid_1's rmse: 0.232642\n",
      "[1800]\ttraining's rmse: 0.208708\tvalid_1's rmse: 0.229682\n",
      "[2000]\ttraining's rmse: 0.204581\tvalid_1's rmse: 0.22716\n",
      "[2200]\ttraining's rmse: 0.200681\tvalid_1's rmse: 0.224832\n",
      "[2400]\ttraining's rmse: 0.197226\tvalid_1's rmse: 0.222901\n",
      "[2600]\ttraining's rmse: 0.19388\tvalid_1's rmse: 0.221065\n",
      "[2800]\ttraining's rmse: 0.190745\tvalid_1's rmse: 0.219451\n",
      "[3000]\ttraining's rmse: 0.18787\tvalid_1's rmse: 0.217992\n",
      "[3200]\ttraining's rmse: 0.185169\tvalid_1's rmse: 0.216666\n",
      "[3400]\ttraining's rmse: 0.182643\tvalid_1's rmse: 0.215501\n",
      "[3600]\ttraining's rmse: 0.180183\tvalid_1's rmse: 0.214421\n",
      "[3800]\ttraining's rmse: 0.177853\tvalid_1's rmse: 0.21342\n",
      "[4000]\ttraining's rmse: 0.175617\tvalid_1's rmse: 0.212473\n",
      "[4200]\ttraining's rmse: 0.173477\tvalid_1's rmse: 0.211583\n",
      "[4400]\ttraining's rmse: 0.171327\tvalid_1's rmse: 0.210676\n",
      "[4600]\ttraining's rmse: 0.16923\tvalid_1's rmse: 0.209869\n",
      "[4800]\ttraining's rmse: 0.167249\tvalid_1's rmse: 0.20909\n",
      "[5000]\ttraining's rmse: 0.165428\tvalid_1's rmse: 0.208417\n",
      "[5200]\ttraining's rmse: 0.163544\tvalid_1's rmse: 0.207792\n",
      "[5400]\ttraining's rmse: 0.161808\tvalid_1's rmse: 0.2072\n",
      "[5600]\ttraining's rmse: 0.16002\tvalid_1's rmse: 0.206587\n",
      "[5800]\ttraining's rmse: 0.158299\tvalid_1's rmse: 0.205998\n",
      "[6000]\ttraining's rmse: 0.156645\tvalid_1's rmse: 0.205454\n",
      "[6200]\ttraining's rmse: 0.155058\tvalid_1's rmse: 0.204948\n",
      "[6400]\ttraining's rmse: 0.1535\tvalid_1's rmse: 0.204447\n",
      "[6600]\ttraining's rmse: 0.152004\tvalid_1's rmse: 0.203943\n",
      "[6800]\ttraining's rmse: 0.1505\tvalid_1's rmse: 0.2035\n",
      "[7000]\ttraining's rmse: 0.14898\tvalid_1's rmse: 0.203054\n",
      "[7200]\ttraining's rmse: 0.147551\tvalid_1's rmse: 0.202643\n",
      "[7400]\ttraining's rmse: 0.14619\tvalid_1's rmse: 0.202273\n",
      "[7600]\ttraining's rmse: 0.144848\tvalid_1's rmse: 0.201906\n",
      "[7800]\ttraining's rmse: 0.143497\tvalid_1's rmse: 0.20151\n",
      "[8000]\ttraining's rmse: 0.142212\tvalid_1's rmse: 0.201148\n",
      "[8200]\ttraining's rmse: 0.140957\tvalid_1's rmse: 0.200789\n",
      "[8400]\ttraining's rmse: 0.139681\tvalid_1's rmse: 0.200459\n",
      "[8600]\ttraining's rmse: 0.138422\tvalid_1's rmse: 0.200175\n",
      "[8800]\ttraining's rmse: 0.137138\tvalid_1's rmse: 0.199869\n",
      "[9000]\ttraining's rmse: 0.13596\tvalid_1's rmse: 0.199581\n",
      "[9200]\ttraining's rmse: 0.134783\tvalid_1's rmse: 0.199302\n",
      "[9400]\ttraining's rmse: 0.133654\tvalid_1's rmse: 0.19904\n",
      "[9600]\ttraining's rmse: 0.132507\tvalid_1's rmse: 0.198776\n",
      "[9800]\ttraining's rmse: 0.131403\tvalid_1's rmse: 0.198535\n",
      "[10000]\ttraining's rmse: 0.130312\tvalid_1's rmse: 0.198285\n",
      "Did not meet early stopping. Best iteration is:\n",
      "[10000]\ttraining's rmse: 0.130312\tvalid_1's rmse: 0.198285\n",
      "Training until validation scores don't improve for 1000 rounds.\n",
      "[200]\ttraining's rmse: 0.410497\tvalid_1's rmse: 0.424379\n",
      "[400]\ttraining's rmse: 0.28813\tvalid_1's rmse: 0.308654\n",
      "[600]\ttraining's rmse: 0.256475\tvalid_1's rmse: 0.280104\n",
      "[800]\ttraining's rmse: 0.241173\tvalid_1's rmse: 0.267243\n",
      "[1000]\ttraining's rmse: 0.230982\tvalid_1's rmse: 0.259214\n",
      "[1200]\ttraining's rmse: 0.223111\tvalid_1's rmse: 0.253206\n",
      "[1400]\ttraining's rmse: 0.216933\tvalid_1's rmse: 0.248602\n",
      "[1600]\ttraining's rmse: 0.211715\tvalid_1's rmse: 0.244975\n",
      "[1800]\ttraining's rmse: 0.207056\tvalid_1's rmse: 0.24184\n",
      "[2000]\ttraining's rmse: 0.202838\tvalid_1's rmse: 0.239099\n",
      "[2200]\ttraining's rmse: 0.199061\tvalid_1's rmse: 0.236764\n",
      "[2400]\ttraining's rmse: 0.195639\tvalid_1's rmse: 0.234721\n",
      "[2600]\ttraining's rmse: 0.19238\tvalid_1's rmse: 0.232859\n",
      "[2800]\ttraining's rmse: 0.18939\tvalid_1's rmse: 0.231247\n",
      "[3000]\ttraining's rmse: 0.186537\tvalid_1's rmse: 0.229703\n",
      "[3200]\ttraining's rmse: 0.183921\tvalid_1's rmse: 0.228271\n",
      "[3400]\ttraining's rmse: 0.181341\tvalid_1's rmse: 0.226892\n",
      "[3600]\ttraining's rmse: 0.178921\tvalid_1's rmse: 0.22565\n",
      "[3800]\ttraining's rmse: 0.176705\tvalid_1's rmse: 0.224579\n",
      "[4000]\ttraining's rmse: 0.174451\tvalid_1's rmse: 0.2236\n",
      "[4200]\ttraining's rmse: 0.172389\tvalid_1's rmse: 0.222683\n",
      "[4400]\ttraining's rmse: 0.170365\tvalid_1's rmse: 0.221783\n",
      "[4600]\ttraining's rmse: 0.168358\tvalid_1's rmse: 0.220944\n",
      "[4800]\ttraining's rmse: 0.1665\tvalid_1's rmse: 0.220136\n",
      "[5000]\ttraining's rmse: 0.164686\tvalid_1's rmse: 0.219374\n",
      "[5200]\ttraining's rmse: 0.162891\tvalid_1's rmse: 0.218665\n",
      "[5400]\ttraining's rmse: 0.161184\tvalid_1's rmse: 0.218014\n",
      "[5600]\ttraining's rmse: 0.159431\tvalid_1's rmse: 0.217393\n",
      "[5800]\ttraining's rmse: 0.157804\tvalid_1's rmse: 0.216802\n",
      "[6000]\ttraining's rmse: 0.156116\tvalid_1's rmse: 0.21615\n",
      "[6200]\ttraining's rmse: 0.154569\tvalid_1's rmse: 0.215641\n",
      "[6400]\ttraining's rmse: 0.152964\tvalid_1's rmse: 0.215098\n",
      "[6600]\ttraining's rmse: 0.151345\tvalid_1's rmse: 0.214537\n",
      "[6800]\ttraining's rmse: 0.149875\tvalid_1's rmse: 0.214029\n",
      "[7000]\ttraining's rmse: 0.148434\tvalid_1's rmse: 0.213559\n",
      "[7200]\ttraining's rmse: 0.147005\tvalid_1's rmse: 0.213107\n",
      "[7400]\ttraining's rmse: 0.145635\tvalid_1's rmse: 0.212669\n",
      "[7600]\ttraining's rmse: 0.144326\tvalid_1's rmse: 0.212298\n",
      "[7800]\ttraining's rmse: 0.14301\tvalid_1's rmse: 0.211883\n",
      "[8000]\ttraining's rmse: 0.141691\tvalid_1's rmse: 0.211483\n",
      "[8200]\ttraining's rmse: 0.140425\tvalid_1's rmse: 0.211116\n",
      "[8400]\ttraining's rmse: 0.13918\tvalid_1's rmse: 0.210757\n",
      "[8600]\ttraining's rmse: 0.13795\tvalid_1's rmse: 0.210429\n",
      "[8800]\ttraining's rmse: 0.13674\tvalid_1's rmse: 0.210131\n",
      "[9000]\ttraining's rmse: 0.135607\tvalid_1's rmse: 0.209842\n",
      "[9200]\ttraining's rmse: 0.134448\tvalid_1's rmse: 0.209529\n",
      "[9400]\ttraining's rmse: 0.133288\tvalid_1's rmse: 0.209239\n",
      "[9600]\ttraining's rmse: 0.132128\tvalid_1's rmse: 0.208972\n",
      "[9800]\ttraining's rmse: 0.131\tvalid_1's rmse: 0.208677\n",
      "[10000]\ttraining's rmse: 0.129876\tvalid_1's rmse: 0.208388\n",
      "Did not meet early stopping. Best iteration is:\n",
      "[10000]\ttraining's rmse: 0.129876\tvalid_1's rmse: 0.208388\n",
      "Training until validation scores don't improve for 1000 rounds.\n",
      "[200]\ttraining's rmse: 0.412724\tvalid_1's rmse: 0.414452\n",
      "[400]\ttraining's rmse: 0.28947\tvalid_1's rmse: 0.30052\n",
      "[600]\ttraining's rmse: 0.257262\tvalid_1's rmse: 0.27364\n",
      "[800]\ttraining's rmse: 0.241763\tvalid_1's rmse: 0.261558\n",
      "[1000]\ttraining's rmse: 0.231459\tvalid_1's rmse: 0.253779\n",
      "[1200]\ttraining's rmse: 0.223933\tvalid_1's rmse: 0.248275\n",
      "[1400]\ttraining's rmse: 0.21803\tvalid_1's rmse: 0.244164\n",
      "[1600]\ttraining's rmse: 0.212843\tvalid_1's rmse: 0.240577\n",
      "[1800]\ttraining's rmse: 0.208525\tvalid_1's rmse: 0.237804\n",
      "[2000]\ttraining's rmse: 0.204417\tvalid_1's rmse: 0.235156\n",
      "[2200]\ttraining's rmse: 0.200503\tvalid_1's rmse: 0.232879\n",
      "[2400]\ttraining's rmse: 0.197052\tvalid_1's rmse: 0.230929\n",
      "[2600]\ttraining's rmse: 0.193801\tvalid_1's rmse: 0.229145\n",
      "[2800]\ttraining's rmse: 0.190674\tvalid_1's rmse: 0.227484\n",
      "[3000]\ttraining's rmse: 0.187689\tvalid_1's rmse: 0.225914\n",
      "[3200]\ttraining's rmse: 0.18494\tvalid_1's rmse: 0.224576\n",
      "[3400]\ttraining's rmse: 0.182419\tvalid_1's rmse: 0.223422\n",
      "[3600]\ttraining's rmse: 0.179961\tvalid_1's rmse: 0.222332\n",
      "[3800]\ttraining's rmse: 0.177636\tvalid_1's rmse: 0.221299\n",
      "[4000]\ttraining's rmse: 0.175419\tvalid_1's rmse: 0.220393\n",
      "[4200]\ttraining's rmse: 0.173394\tvalid_1's rmse: 0.219616\n",
      "[4400]\ttraining's rmse: 0.171418\tvalid_1's rmse: 0.218844\n",
      "[4600]\ttraining's rmse: 0.169419\tvalid_1's rmse: 0.218067\n",
      "[4800]\ttraining's rmse: 0.167451\tvalid_1's rmse: 0.217349\n",
      "[5000]\ttraining's rmse: 0.165495\tvalid_1's rmse: 0.216662\n",
      "[5200]\ttraining's rmse: 0.163601\tvalid_1's rmse: 0.216043\n",
      "[5400]\ttraining's rmse: 0.161733\tvalid_1's rmse: 0.215426\n",
      "[5600]\ttraining's rmse: 0.160018\tvalid_1's rmse: 0.214901\n",
      "[5800]\ttraining's rmse: 0.15826\tvalid_1's rmse: 0.214352\n",
      "[6000]\ttraining's rmse: 0.156558\tvalid_1's rmse: 0.213819\n",
      "[6200]\ttraining's rmse: 0.154953\tvalid_1's rmse: 0.213341\n",
      "[6400]\ttraining's rmse: 0.15335\tvalid_1's rmse: 0.212835\n",
      "[6600]\ttraining's rmse: 0.151846\tvalid_1's rmse: 0.212404\n",
      "[6800]\ttraining's rmse: 0.150363\tvalid_1's rmse: 0.212033\n",
      "[7000]\ttraining's rmse: 0.14889\tvalid_1's rmse: 0.211676\n",
      "[7200]\ttraining's rmse: 0.147504\tvalid_1's rmse: 0.211285\n"
     ]
    },
    {
     "name": "stdout",
     "output_type": "stream",
     "text": [
      "[7400]\ttraining's rmse: 0.146127\tvalid_1's rmse: 0.210912\n",
      "[7600]\ttraining's rmse: 0.144789\tvalid_1's rmse: 0.210597\n",
      "[7800]\ttraining's rmse: 0.143417\tvalid_1's rmse: 0.210227\n",
      "[8000]\ttraining's rmse: 0.142121\tvalid_1's rmse: 0.209951\n",
      "[8200]\ttraining's rmse: 0.14083\tvalid_1's rmse: 0.20965\n",
      "[8400]\ttraining's rmse: 0.139573\tvalid_1's rmse: 0.209363\n",
      "[8600]\ttraining's rmse: 0.138339\tvalid_1's rmse: 0.209086\n",
      "[8800]\ttraining's rmse: 0.137093\tvalid_1's rmse: 0.208793\n",
      "[9000]\ttraining's rmse: 0.135852\tvalid_1's rmse: 0.208508\n",
      "[9200]\ttraining's rmse: 0.134739\tvalid_1's rmse: 0.20825\n",
      "[9400]\ttraining's rmse: 0.133535\tvalid_1's rmse: 0.208003\n",
      "[9600]\ttraining's rmse: 0.132425\tvalid_1's rmse: 0.207777\n",
      "[9800]\ttraining's rmse: 0.131382\tvalid_1's rmse: 0.207567\n",
      "[10000]\ttraining's rmse: 0.130278\tvalid_1's rmse: 0.207364\n",
      "Did not meet early stopping. Best iteration is:\n",
      "[10000]\ttraining's rmse: 0.130278\tvalid_1's rmse: 0.207364\n",
      "Training until validation scores don't improve for 1000 rounds.\n",
      "[200]\ttraining's rmse: 0.411748\tvalid_1's rmse: 0.423514\n",
      "[400]\ttraining's rmse: 0.289601\tvalid_1's rmse: 0.301779\n",
      "[600]\ttraining's rmse: 0.257935\tvalid_1's rmse: 0.27191\n",
      "[800]\ttraining's rmse: 0.242665\tvalid_1's rmse: 0.25859\n",
      "[1000]\ttraining's rmse: 0.232607\tvalid_1's rmse: 0.250384\n",
      "[1200]\ttraining's rmse: 0.225052\tvalid_1's rmse: 0.2447\n",
      "[1400]\ttraining's rmse: 0.218707\tvalid_1's rmse: 0.240019\n",
      "[1600]\ttraining's rmse: 0.213412\tvalid_1's rmse: 0.236354\n",
      "[1800]\ttraining's rmse: 0.208659\tvalid_1's rmse: 0.233258\n",
      "[2000]\ttraining's rmse: 0.20438\tvalid_1's rmse: 0.230697\n",
      "[2200]\ttraining's rmse: 0.200473\tvalid_1's rmse: 0.228432\n",
      "[2400]\ttraining's rmse: 0.196956\tvalid_1's rmse: 0.226437\n",
      "[2600]\ttraining's rmse: 0.19362\tvalid_1's rmse: 0.224673\n",
      "[2800]\ttraining's rmse: 0.190432\tvalid_1's rmse: 0.223012\n",
      "[3000]\ttraining's rmse: 0.187424\tvalid_1's rmse: 0.221511\n",
      "[3200]\ttraining's rmse: 0.184643\tvalid_1's rmse: 0.220203\n",
      "[3400]\ttraining's rmse: 0.182043\tvalid_1's rmse: 0.219026\n",
      "[3600]\ttraining's rmse: 0.179696\tvalid_1's rmse: 0.217987\n",
      "[3800]\ttraining's rmse: 0.177369\tvalid_1's rmse: 0.217044\n",
      "[4000]\ttraining's rmse: 0.175246\tvalid_1's rmse: 0.21622\n",
      "[4200]\ttraining's rmse: 0.172989\tvalid_1's rmse: 0.215293\n",
      "[4400]\ttraining's rmse: 0.170906\tvalid_1's rmse: 0.21445\n",
      "[4600]\ttraining's rmse: 0.168975\tvalid_1's rmse: 0.213727\n",
      "[4800]\ttraining's rmse: 0.167\tvalid_1's rmse: 0.213005\n",
      "[5000]\ttraining's rmse: 0.165175\tvalid_1's rmse: 0.212335\n",
      "[5200]\ttraining's rmse: 0.16337\tvalid_1's rmse: 0.211713\n",
      "[5400]\ttraining's rmse: 0.161653\tvalid_1's rmse: 0.211138\n",
      "[5600]\ttraining's rmse: 0.159898\tvalid_1's rmse: 0.21056\n",
      "[5800]\ttraining's rmse: 0.15832\tvalid_1's rmse: 0.210058\n",
      "[6000]\ttraining's rmse: 0.156706\tvalid_1's rmse: 0.209554\n",
      "[6200]\ttraining's rmse: 0.155095\tvalid_1's rmse: 0.20909\n",
      "[6400]\ttraining's rmse: 0.153596\tvalid_1's rmse: 0.208658\n",
      "[6600]\ttraining's rmse: 0.152098\tvalid_1's rmse: 0.208203\n",
      "[6800]\ttraining's rmse: 0.150647\tvalid_1's rmse: 0.207771\n",
      "[7000]\ttraining's rmse: 0.149195\tvalid_1's rmse: 0.207358\n",
      "[7200]\ttraining's rmse: 0.147797\tvalid_1's rmse: 0.206968\n",
      "[7400]\ttraining's rmse: 0.146397\tvalid_1's rmse: 0.206577\n",
      "[7600]\ttraining's rmse: 0.145078\tvalid_1's rmse: 0.206218\n",
      "[7800]\ttraining's rmse: 0.143755\tvalid_1's rmse: 0.205867\n",
      "[8000]\ttraining's rmse: 0.142426\tvalid_1's rmse: 0.205543\n",
      "[8200]\ttraining's rmse: 0.141144\tvalid_1's rmse: 0.205231\n",
      "[8400]\ttraining's rmse: 0.13988\tvalid_1's rmse: 0.20493\n",
      "[8600]\ttraining's rmse: 0.138602\tvalid_1's rmse: 0.204627\n",
      "[8800]\ttraining's rmse: 0.137406\tvalid_1's rmse: 0.204338\n",
      "[9000]\ttraining's rmse: 0.136213\tvalid_1's rmse: 0.204067\n",
      "[9200]\ttraining's rmse: 0.134983\tvalid_1's rmse: 0.203782\n",
      "[9400]\ttraining's rmse: 0.133805\tvalid_1's rmse: 0.203538\n",
      "[9600]\ttraining's rmse: 0.132659\tvalid_1's rmse: 0.203312\n",
      "[9800]\ttraining's rmse: 0.131526\tvalid_1's rmse: 0.203086\n",
      "[10000]\ttraining's rmse: 0.130403\tvalid_1's rmse: 0.202851\n",
      "Did not meet early stopping. Best iteration is:\n",
      "[10000]\ttraining's rmse: 0.130403\tvalid_1's rmse: 0.202851\n",
      "Training until validation scores don't improve for 1000 rounds.\n",
      "[200]\ttraining's rmse: 0.41225\tvalid_1's rmse: 0.418844\n",
      "[400]\ttraining's rmse: 0.289682\tvalid_1's rmse: 0.302597\n",
      "[600]\ttraining's rmse: 0.257801\tvalid_1's rmse: 0.274525\n",
      "[800]\ttraining's rmse: 0.24232\tvalid_1's rmse: 0.261475\n",
      "[1000]\ttraining's rmse: 0.232044\tvalid_1's rmse: 0.253337\n",
      "[1200]\ttraining's rmse: 0.224133\tvalid_1's rmse: 0.247339\n",
      "[1400]\ttraining's rmse: 0.217837\tvalid_1's rmse: 0.242948\n",
      "[1600]\ttraining's rmse: 0.212406\tvalid_1's rmse: 0.239353\n",
      "[1800]\ttraining's rmse: 0.207796\tvalid_1's rmse: 0.236404\n",
      "[2000]\ttraining's rmse: 0.20359\tvalid_1's rmse: 0.233807\n",
      "[2200]\ttraining's rmse: 0.199974\tvalid_1's rmse: 0.231728\n",
      "[2400]\ttraining's rmse: 0.196564\tvalid_1's rmse: 0.229812\n",
      "[2600]\ttraining's rmse: 0.19329\tvalid_1's rmse: 0.228073\n",
      "[2800]\ttraining's rmse: 0.190351\tvalid_1's rmse: 0.226611\n",
      "[3000]\ttraining's rmse: 0.187431\tvalid_1's rmse: 0.225202\n",
      "[3200]\ttraining's rmse: 0.184869\tvalid_1's rmse: 0.224008\n",
      "[3400]\ttraining's rmse: 0.18238\tvalid_1's rmse: 0.222887\n",
      "[3600]\ttraining's rmse: 0.180018\tvalid_1's rmse: 0.22184\n",
      "[3800]\ttraining's rmse: 0.177692\tvalid_1's rmse: 0.22084\n",
      "[4000]\ttraining's rmse: 0.175423\tvalid_1's rmse: 0.219882\n",
      "[4200]\ttraining's rmse: 0.173259\tvalid_1's rmse: 0.219049\n",
      "[4400]\ttraining's rmse: 0.17123\tvalid_1's rmse: 0.218276\n",
      "[4600]\ttraining's rmse: 0.169259\tvalid_1's rmse: 0.21752\n",
      "[4800]\ttraining's rmse: 0.16735\tvalid_1's rmse: 0.216831\n",
      "[5000]\ttraining's rmse: 0.165474\tvalid_1's rmse: 0.216153\n",
      "[5200]\ttraining's rmse: 0.163589\tvalid_1's rmse: 0.215466\n",
      "[5400]\ttraining's rmse: 0.16179\tvalid_1's rmse: 0.214833\n",
      "[5600]\ttraining's rmse: 0.160008\tvalid_1's rmse: 0.214246\n",
      "[5800]\ttraining's rmse: 0.158307\tvalid_1's rmse: 0.213749\n",
      "[6000]\ttraining's rmse: 0.15661\tvalid_1's rmse: 0.213186\n",
      "[6200]\ttraining's rmse: 0.154955\tvalid_1's rmse: 0.212633\n",
      "[6400]\ttraining's rmse: 0.153392\tvalid_1's rmse: 0.212144\n",
      "[6600]\ttraining's rmse: 0.15185\tvalid_1's rmse: 0.211707\n",
      "[6800]\ttraining's rmse: 0.150349\tvalid_1's rmse: 0.211276\n",
      "[7000]\ttraining's rmse: 0.14888\tvalid_1's rmse: 0.210828\n",
      "[7200]\ttraining's rmse: 0.14745\tvalid_1's rmse: 0.210416\n",
      "[7400]\ttraining's rmse: 0.146093\tvalid_1's rmse: 0.210027\n",
      "[7600]\ttraining's rmse: 0.144721\tvalid_1's rmse: 0.209671\n",
      "[7800]\ttraining's rmse: 0.143342\tvalid_1's rmse: 0.209328\n",
      "[8000]\ttraining's rmse: 0.142012\tvalid_1's rmse: 0.208952\n",
      "[8200]\ttraining's rmse: 0.140774\tvalid_1's rmse: 0.208648\n",
      "[8400]\ttraining's rmse: 0.139531\tvalid_1's rmse: 0.208323\n",
      "[8600]\ttraining's rmse: 0.13828\tvalid_1's rmse: 0.208035\n",
      "[8800]\ttraining's rmse: 0.137101\tvalid_1's rmse: 0.207765\n",
      "[9000]\ttraining's rmse: 0.135914\tvalid_1's rmse: 0.207448\n",
      "[9200]\ttraining's rmse: 0.13476\tvalid_1's rmse: 0.207165\n",
      "[9400]\ttraining's rmse: 0.133637\tvalid_1's rmse: 0.206925\n",
      "[9600]\ttraining's rmse: 0.132442\tvalid_1's rmse: 0.206699\n",
      "[9800]\ttraining's rmse: 0.13134\tvalid_1's rmse: 0.206475\n",
      "[10000]\ttraining's rmse: 0.130213\tvalid_1's rmse: 0.206249\n",
      "Did not meet early stopping. Best iteration is:\n",
      "[10000]\ttraining's rmse: 0.130213\tvalid_1's rmse: 0.206249\n",
      "CV scrore : 0.2046604694252675\n",
      "16.309952334562936\n"
     ]
    },
    {
     "data": {
      "image/png": "[encoded data removed]",
      "text/plain": [
       "<Figure size 576x720 with 1 Axes>"
      ]
     },
     "metadata": {},
     "output_type": "display_data"
    }
   ],
   "source": [
    "begin = time.time()\n",
    "features = [i for i in train.columns if i not in ['building_id', 'total_price','total_price_log']] \n",
    "prediction = lgb_model(5, train, test, features, stratified = False)\n",
    "prediction = np.expm1(prediction)\n",
    "print((time.time() - begin) / 60)"
   ]
  },
  {
   "cell_type": "code",
   "execution_count": 20,
   "metadata": {
    "scrolled": true
   },
   "outputs": [],
   "source": [
    "Submission(test['building_id'], np.expm1(prediction))"
   ]
  },
  {
   "cell_type": "code",
   "execution_count": 22,
   "metadata": {},
   "outputs": [
    {
     "data": {
      "text/plain": [
       "array([10848311.41096416,  3880356.24270884,  9535897.71912022, ...,\n",
       "         980239.56430158,  2992501.17899127,  3172202.46389105])"
      ]
     },
     "execution_count": 22,
     "metadata": {},
     "output_type": "execute_result"
    }
   ],
   "source": [
    "prediction"
   ]
  },
  {
   "cell_type": "code",
   "execution_count": null,
   "metadata": {},
   "outputs": [],
   "source": [
    "#prediction = lgb_model(5, train, test, features, stratified = False)\n",
    "#prediction = np.expm1(prediction)"
   ]
  },
  {
   "cell_type": "code",
   "execution_count": 9,
   "metadata": {},
   "outputs": [
    {
     "data": {
      "text/plain": [
       "226149.5239862996"
      ]
     },
     "execution_count": 9,
     "metadata": {},
     "output_type": "execute_result"
    }
   ],
   "source": [
    "train['total_price'].min()"
   ]
  },
  {
   "cell_type": "code",
   "execution_count": 11,
   "metadata": {},
   "outputs": [
    {
     "data": {
      "text/plain": [
       "5088279096.76905"
      ]
     },
     "execution_count": 11,
     "metadata": {},
     "output_type": "execute_result"
    }
   ],
   "source": [
    "train['total_price'].max()"
   ]
  },
  {
   "cell_type": "code",
   "execution_count": 18,
   "metadata": {},
   "outputs": [
    {
     "data": {
      "text/plain": [
       "3.1506057856008445"
      ]
     },
     "execution_count": 18,
     "metadata": {},
     "output_type": "execute_result"
    }
   ],
   "source": [
    "np.log1p(np.log1p(5088279096.76905))"
   ]
  },
  {
   "cell_type": "code",
   "execution_count": null,
   "metadata": {},
   "outputs": [],
   "source": []
  }
 ],
 "metadata": {
  "kernelspec": {
   "display_name": "Python 3",
   "language": "python",
   "name": "python3"
  },
  "language_info": {
   "codemirror_mode": {
    "name": "ipython",
    "version": 3
   },
   "file_extension": ".py",
   "mimetype": "text/x-python",
   "name": "python",
   "nbconvert_exporter": "python",
   "pygments_lexer": "ipython3",
   "version": "3.6.8"
  }
 },
 "nbformat": 4,
 "nbformat_minor": 2
}
