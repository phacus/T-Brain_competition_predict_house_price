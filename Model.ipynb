{
 "cells": [
  {
   "cell_type": "code",
   "execution_count": 3,
   "metadata": {},
   "outputs": [],
   "source": [
    "import numpy as np\n",
    "import pandas as pd\n",
    "pd.set_option('max_columns', None)\n",
    "import matplotlib.pyplot as plt\n",
    "import seaborn as sns\n",
    "%matplotlib inline\n",
    "plt.style.use('ggplot')\n",
    "import datetime\n",
    "import lightgbm as lgb\n",
    "from scipy import stats\n",
    "from scipy.sparse import hstack, csr_matrix\n",
    "from sklearn.model_selection import train_test_split, KFold\n",
    "from wordcloud import WordCloud\n",
    "from collections import Counter\n",
    "from nltk.corpus import stopwords\n",
    "from nltk.util import ngrams\n",
    "from sklearn.feature_extraction.text import TfidfVectorizer, CountVectorizer\n",
    "from sklearn.preprocessing import StandardScaler\n",
    "stop = set(stopwords.words('english'))\n",
    "import os\n",
    "#import xgboost as xgb\n",
    "#import lightgbm as lgb\n",
    "from sklearn import model_selection\n",
    "from sklearn.metrics import accuracy_score\n",
    "import json\n",
    "import ast\n",
    "import eli5\n",
    "from functools import reduce\n",
    "import warnings\n",
    "from sklearn.metrics import mean_squared_error\n",
    "from scipy import stats\n",
    "from math import sqrt\n",
    "from lightgbm import plot_tree\n",
    "from hyperopt import hp, tpe\n",
    "from hyperopt.fmin import fmin\n",
    "from hyperopt import Trials\n",
    "from hyperopt import fmin\n",
    "from hyperopt import STATUS_OK\n",
    "from hyperopt.pyll.stochastic import sample\n",
    "import gc\n",
    "warnings.filterwarnings('ignore')\n",
    "#import shap"
   ]
  },
  {
   "cell_type": "code",
   "execution_count": 4,
   "metadata": {},
   "outputs": [
    {
     "data": {
      "text/plain": [
       "30"
      ]
     },
     "execution_count": 4,
     "metadata": {},
     "output_type": "execute_result"
    }
   ],
   "source": [
    "train = pd.read_csv('dataset-0510/train.csv')\n",
    "test  = pd.read_csv('dataset-0510/test.csv')\n",
    "gc.collect()"
   ]
  },
  {
   "cell_type": "code",
   "execution_count": 5,
   "metadata": {},
   "outputs": [],
   "source": [
    "def display_importances(feature_importance_df):\n",
    "    cols = feature_importance_df[[\"feature\", \"importance\"]].groupby(\"feature\").mean().sort_values(by=\"importance\", ascending=False)[:40].index\n",
    "    best_features = feature_importance_df.loc[feature_importance_df.feature.isin(cols)]\n",
    "\n",
    "    plt.figure(figsize=(8, 10))\n",
    "    sns.barplot(x=\"importance\", y=\"feature\", data=best_features.sort_values(by=\"importance\", ascending=False))\n",
    "    plt.title('LightGBM Features (avg over folds)')\n",
    "    plt.tight_layout()"
   ]
  },
  {
   "cell_type": "code",
   "execution_count": 6,
   "metadata": {},
   "outputs": [],
   "source": [
    "def Submission(Ids, preds):\n",
    "    file_name = datetime.datetime.today().strftime('%m-%d-%H-%M')\n",
    "    submission = pd.DataFrame({'building_id' : Ids, 'total_price' : preds})\n",
    "    if not os.path.isdir('Submission'):\n",
    "        os.makedirs('Submission')\n",
    "    submission.to_csv('Submission/' + file_name + '.csv', index= False)"
   ]
  },
  {
   "cell_type": "code",
   "execution_count": 19,
   "metadata": {},
   "outputs": [],
   "source": [
    "def lgb_model(split_num, train, test, features, stratified = False):\n",
    "    if stratified:\n",
    "        kf = StratifiedKFold(n_splits = split_num, random_state = 42, shuffle = True)\n",
    "    else :\n",
    "        kf = KFold(n_splits=split_num, shuffle=True,random_state=42)\n",
    "    train['total_price_log'] = np.log1p(train['total_price'])\n",
    "    feature_importance_df = pd.DataFrame()\n",
    "    oof = np.zeros(len(train))\n",
    "    predictions = np.zeros(len(test))\n",
    "    \n",
    "    param ={\n",
    "        'n_estimators': 10000, 'max_depth' : 5, 'num_leaves' :30,         \n",
    "        'objective': 'regression',   'metric':'rmse',   \n",
    "        'learning_rate': 0.01,      'boosting': 'gbdt',     'min_data_in_leaf': 10,\n",
    "        'feature_fraction': 0.9,    'bagging_freq':1,       'bagging_fraction': 0.9,     'importance_type': 'gain',\n",
    "        'lambda_l1': 0.2,  'subsample': .8,   'colsample_bytree': .9\n",
    "    }\n",
    "    for fold_, (trn_idx, val_idx) in enumerate(kf.split(train[features].values,train['total_price_log'].values)):\n",
    "        trn_data = lgb.Dataset(train.iloc[trn_idx][features], label= train['total_price_log'].iloc[trn_idx])\n",
    "        val_data = lgb.Dataset(train.iloc[val_idx][features], label= train['total_price_log'].iloc[val_idx])\n",
    "        \n",
    "        \n",
    "        clf = lgb.train(params= param, train_set= trn_data, valid_sets= [trn_data, val_data], verbose_eval=200, early_stopping_rounds= 1000)\n",
    "        oof[val_idx] = clf.predict(train.iloc[val_idx][features], num_iteration = clf.best_iteration)\n",
    "        predictions += clf.predict(test[features], num_iteration = clf.best_iteration) / kf.n_splits\n",
    "        \n",
    "        fold_importance_df = pd.DataFrame()\n",
    "        fold_importance_df['feature']    = features\n",
    "        fold_importance_df['importance'] = np.log1p(clf.feature_importance(importance_type='gain', iteration=clf.best_iteration))\n",
    "        fold_importance_df['fold']       = fold_ + 1\n",
    "        feature_importance_df = pd.concat([feature_importance_df, fold_importance_df], axis=0)\n",
    "    \n",
    "    print('CV scrore : {}'.format(sqrt(mean_squared_error(train['total_price_log'], oof))))\n",
    "    display_importances(feature_importance_df)\n",
    "    return predictions\n"
   ]
  },
  {
   "cell_type": "code",
   "execution_count": 20,
   "metadata": {},
   "outputs": [],
   "source": [
    "features = [i for i in train.columns if i not in ['building_id', 'total_price']] "
   ]
  },
  {
   "cell_type": "code",
   "execution_count": 21,
   "metadata": {
    "scrolled": false
   },
   "outputs": [
    {
     "name": "stdout",
     "output_type": "stream",
     "text": [
      "Training until validation scores don't improve for 1000 rounds.\n",
      "[200]\ttraining's rmse: 0.0253866\tvalid_1's rmse: 0.0253647\n",
      "[400]\ttraining's rmse: 0.0178854\tvalid_1's rmse: 0.0181811\n",
      "[600]\ttraining's rmse: 0.0159713\tvalid_1's rmse: 0.0164594\n",
      "[800]\ttraining's rmse: 0.0150592\tvalid_1's rmse: 0.0156857\n",
      "[1000]\ttraining's rmse: 0.0144791\tvalid_1's rmse: 0.0152071\n",
      "[1200]\ttraining's rmse: 0.0140157\tvalid_1's rmse: 0.0148402\n",
      "[1400]\ttraining's rmse: 0.0136568\tvalid_1's rmse: 0.014566\n",
      "[1600]\ttraining's rmse: 0.0133417\tvalid_1's rmse: 0.0143361\n",
      "[1800]\ttraining's rmse: 0.013076\tvalid_1's rmse: 0.0141532\n",
      "[2000]\ttraining's rmse: 0.0128459\tvalid_1's rmse: 0.0140022\n",
      "[2200]\ttraining's rmse: 0.0126362\tvalid_1's rmse: 0.0138669\n",
      "[2400]\ttraining's rmse: 0.0124358\tvalid_1's rmse: 0.0137426\n",
      "[2600]\ttraining's rmse: 0.0122578\tvalid_1's rmse: 0.0136353\n",
      "[2800]\ttraining's rmse: 0.0120896\tvalid_1's rmse: 0.013536\n",
      "[3000]\ttraining's rmse: 0.0119366\tvalid_1's rmse: 0.0134486\n",
      "[3200]\ttraining's rmse: 0.0117849\tvalid_1's rmse: 0.0133647\n",
      "[3400]\ttraining's rmse: 0.0116434\tvalid_1's rmse: 0.0132908\n",
      "[3600]\ttraining's rmse: 0.0115091\tvalid_1's rmse: 0.0132203\n",
      "[3800]\ttraining's rmse: 0.0113794\tvalid_1's rmse: 0.0131565\n",
      "[4000]\ttraining's rmse: 0.0112597\tvalid_1's rmse: 0.013101\n",
      "[4200]\ttraining's rmse: 0.0111454\tvalid_1's rmse: 0.013049\n",
      "[4400]\ttraining's rmse: 0.0110298\tvalid_1's rmse: 0.012995\n",
      "[4600]\ttraining's rmse: 0.0109237\tvalid_1's rmse: 0.0129489\n",
      "[4800]\ttraining's rmse: 0.0108176\tvalid_1's rmse: 0.0129042\n",
      "[5000]\ttraining's rmse: 0.0107201\tvalid_1's rmse: 0.012864\n",
      "[5200]\ttraining's rmse: 0.0106227\tvalid_1's rmse: 0.0128252\n",
      "[5400]\ttraining's rmse: 0.0105282\tvalid_1's rmse: 0.0127879\n",
      "[5600]\ttraining's rmse: 0.0104371\tvalid_1's rmse: 0.012752\n",
      "[5800]\ttraining's rmse: 0.0103481\tvalid_1's rmse: 0.0127189\n",
      "[6000]\ttraining's rmse: 0.0102606\tvalid_1's rmse: 0.0126888\n",
      "[6200]\ttraining's rmse: 0.0101805\tvalid_1's rmse: 0.0126618\n",
      "[6400]\ttraining's rmse: 0.0100972\tvalid_1's rmse: 0.012634\n",
      "[6600]\ttraining's rmse: 0.0100185\tvalid_1's rmse: 0.0126075\n",
      "[6800]\ttraining's rmse: 0.00994361\tvalid_1's rmse: 0.0125847\n",
      "[7000]\ttraining's rmse: 0.00986748\tvalid_1's rmse: 0.0125598\n",
      "[7200]\ttraining's rmse: 0.00979436\tvalid_1's rmse: 0.0125377\n",
      "[7400]\ttraining's rmse: 0.00972303\tvalid_1's rmse: 0.0125169\n",
      "[7600]\ttraining's rmse: 0.00965291\tvalid_1's rmse: 0.0124965\n",
      "[7800]\ttraining's rmse: 0.00958536\tvalid_1's rmse: 0.0124767\n",
      "[8000]\ttraining's rmse: 0.00951762\tvalid_1's rmse: 0.0124574\n",
      "[8200]\ttraining's rmse: 0.00945275\tvalid_1's rmse: 0.01244\n",
      "[8400]\ttraining's rmse: 0.00938863\tvalid_1's rmse: 0.0124227\n",
      "[8600]\ttraining's rmse: 0.009326\tvalid_1's rmse: 0.0124064\n",
      "[8800]\ttraining's rmse: 0.00926403\tvalid_1's rmse: 0.0123893\n",
      "[9000]\ttraining's rmse: 0.00920386\tvalid_1's rmse: 0.0123737\n",
      "[9200]\ttraining's rmse: 0.0091445\tvalid_1's rmse: 0.0123597\n",
      "[9400]\ttraining's rmse: 0.00908826\tvalid_1's rmse: 0.0123461\n",
      "[9600]\ttraining's rmse: 0.00903094\tvalid_1's rmse: 0.0123332\n",
      "[9800]\ttraining's rmse: 0.0089746\tvalid_1's rmse: 0.0123194\n",
      "[10000]\ttraining's rmse: 0.0089212\tvalid_1's rmse: 0.0123062\n",
      "Did not meet early stopping. Best iteration is:\n",
      "[10000]\ttraining's rmse: 0.0089212\tvalid_1's rmse: 0.0123062\n",
      "Training until validation scores don't improve for 1000 rounds.\n",
      "[200]\ttraining's rmse: 0.0252567\tvalid_1's rmse: 0.0260458\n",
      "[400]\ttraining's rmse: 0.0177873\tvalid_1's rmse: 0.0189433\n",
      "[600]\ttraining's rmse: 0.0158961\tvalid_1's rmse: 0.0171946\n",
      "[800]\ttraining's rmse: 0.0150422\tvalid_1's rmse: 0.0164223\n",
      "[1000]\ttraining's rmse: 0.0144233\tvalid_1's rmse: 0.0158963\n",
      "[1200]\ttraining's rmse: 0.0139558\tvalid_1's rmse: 0.0155121\n",
      "[1400]\ttraining's rmse: 0.0135836\tvalid_1's rmse: 0.015214\n",
      "[1600]\ttraining's rmse: 0.0132907\tvalid_1's rmse: 0.0149907\n",
      "[1800]\ttraining's rmse: 0.0130326\tvalid_1's rmse: 0.0148078\n",
      "[2000]\ttraining's rmse: 0.0127952\tvalid_1's rmse: 0.0146386\n",
      "[2200]\ttraining's rmse: 0.0125808\tvalid_1's rmse: 0.0144886\n",
      "[2400]\ttraining's rmse: 0.0123865\tvalid_1's rmse: 0.0143588\n",
      "[2600]\ttraining's rmse: 0.0122014\tvalid_1's rmse: 0.014242\n",
      "[2800]\ttraining's rmse: 0.0120242\tvalid_1's rmse: 0.0141339\n",
      "[3000]\ttraining's rmse: 0.0118637\tvalid_1's rmse: 0.0140397\n",
      "[3200]\ttraining's rmse: 0.0117132\tvalid_1's rmse: 0.0139528\n",
      "[3400]\ttraining's rmse: 0.0115774\tvalid_1's rmse: 0.0138789\n",
      "[3600]\ttraining's rmse: 0.0114413\tvalid_1's rmse: 0.0138088\n",
      "[3800]\ttraining's rmse: 0.0113142\tvalid_1's rmse: 0.0137446\n",
      "[4000]\ttraining's rmse: 0.0111926\tvalid_1's rmse: 0.0136838\n",
      "[4200]\ttraining's rmse: 0.0110751\tvalid_1's rmse: 0.013627\n",
      "[4400]\ttraining's rmse: 0.010967\tvalid_1's rmse: 0.0135756\n",
      "[4600]\ttraining's rmse: 0.0108613\tvalid_1's rmse: 0.0135278\n",
      "[4800]\ttraining's rmse: 0.0107584\tvalid_1's rmse: 0.0134823\n",
      "[5000]\ttraining's rmse: 0.0106538\tvalid_1's rmse: 0.0134362\n",
      "[5200]\ttraining's rmse: 0.0105622\tvalid_1's rmse: 0.0133979\n",
      "[5400]\ttraining's rmse: 0.0104664\tvalid_1's rmse: 0.0133564\n",
      "[5600]\ttraining's rmse: 0.010379\tvalid_1's rmse: 0.0133221\n",
      "[5800]\ttraining's rmse: 0.0102909\tvalid_1's rmse: 0.0132874\n",
      "[6000]\ttraining's rmse: 0.0102059\tvalid_1's rmse: 0.0132547\n",
      "[6200]\ttraining's rmse: 0.0101238\tvalid_1's rmse: 0.0132248\n",
      "[6400]\ttraining's rmse: 0.0100424\tvalid_1's rmse: 0.0131961\n",
      "[6600]\ttraining's rmse: 0.00996313\tvalid_1's rmse: 0.0131684\n",
      "[6800]\ttraining's rmse: 0.00988593\tvalid_1's rmse: 0.0131425\n",
      "[7000]\ttraining's rmse: 0.00981096\tvalid_1's rmse: 0.0131177\n",
      "[7200]\ttraining's rmse: 0.00973889\tvalid_1's rmse: 0.0130943\n",
      "[7400]\ttraining's rmse: 0.00966662\tvalid_1's rmse: 0.0130714\n",
      "[7600]\ttraining's rmse: 0.00959944\tvalid_1's rmse: 0.01305\n",
      "[7800]\ttraining's rmse: 0.00953078\tvalid_1's rmse: 0.0130317\n",
      "[8000]\ttraining's rmse: 0.00946446\tvalid_1's rmse: 0.0130121\n",
      "[8200]\ttraining's rmse: 0.00939989\tvalid_1's rmse: 0.0129932\n",
      "[8400]\ttraining's rmse: 0.0093366\tvalid_1's rmse: 0.0129762\n",
      "[8600]\ttraining's rmse: 0.00927477\tvalid_1's rmse: 0.0129585\n",
      "[8800]\ttraining's rmse: 0.00921201\tvalid_1's rmse: 0.0129407\n",
      "[9000]\ttraining's rmse: 0.00915223\tvalid_1's rmse: 0.0129245\n",
      "[9200]\ttraining's rmse: 0.00909535\tvalid_1's rmse: 0.0129085\n",
      "[9400]\ttraining's rmse: 0.00903684\tvalid_1's rmse: 0.0128914\n",
      "[9600]\ttraining's rmse: 0.00897937\tvalid_1's rmse: 0.0128766\n",
      "[9800]\ttraining's rmse: 0.00892423\tvalid_1's rmse: 0.0128627\n",
      "[10000]\ttraining's rmse: 0.00886887\tvalid_1's rmse: 0.0128481\n",
      "Did not meet early stopping. Best iteration is:\n",
      "[10000]\ttraining's rmse: 0.00886887\tvalid_1's rmse: 0.0128481\n",
      "Training until validation scores don't improve for 1000 rounds.\n",
      "[200]\ttraining's rmse: 0.0253583\tvalid_1's rmse: 0.0254182\n",
      "[400]\ttraining's rmse: 0.017832\tvalid_1's rmse: 0.0183653\n",
      "[600]\ttraining's rmse: 0.0159254\tvalid_1's rmse: 0.0167364\n",
      "[800]\ttraining's rmse: 0.0150175\tvalid_1's rmse: 0.0160011\n",
      "[1000]\ttraining's rmse: 0.0144315\tvalid_1's rmse: 0.015537\n",
      "[1200]\ttraining's rmse: 0.0139832\tvalid_1's rmse: 0.0151831\n",
      "[1400]\ttraining's rmse: 0.0136156\tvalid_1's rmse: 0.0149067\n",
      "[1600]\ttraining's rmse: 0.0133243\tvalid_1's rmse: 0.0146972\n",
      "[1800]\ttraining's rmse: 0.0130611\tvalid_1's rmse: 0.0145125\n",
      "[2000]\ttraining's rmse: 0.0128234\tvalid_1's rmse: 0.0143525\n",
      "[2200]\ttraining's rmse: 0.0126176\tvalid_1's rmse: 0.0142188\n",
      "[2400]\ttraining's rmse: 0.0124225\tvalid_1's rmse: 0.0140968\n",
      "[2600]\ttraining's rmse: 0.0122436\tvalid_1's rmse: 0.0139872\n",
      "[2800]\ttraining's rmse: 0.0120784\tvalid_1's rmse: 0.0138908\n",
      "[3000]\ttraining's rmse: 0.0119153\tvalid_1's rmse: 0.0137961\n",
      "[3200]\ttraining's rmse: 0.0117676\tvalid_1's rmse: 0.0137193\n",
      "[3400]\ttraining's rmse: 0.0116296\tvalid_1's rmse: 0.0136456\n",
      "[3600]\ttraining's rmse: 0.0114947\tvalid_1's rmse: 0.0135817\n",
      "[3800]\ttraining's rmse: 0.0113692\tvalid_1's rmse: 0.0135242\n",
      "[4000]\ttraining's rmse: 0.0112447\tvalid_1's rmse: 0.0134635\n",
      "[4200]\ttraining's rmse: 0.0111274\tvalid_1's rmse: 0.0134122\n",
      "[4400]\ttraining's rmse: 0.0110147\tvalid_1's rmse: 0.0133628\n",
      "[4600]\ttraining's rmse: 0.0109053\tvalid_1's rmse: 0.0133161\n",
      "[4800]\ttraining's rmse: 0.0107951\tvalid_1's rmse: 0.0132703\n",
      "[5000]\ttraining's rmse: 0.0106963\tvalid_1's rmse: 0.013233\n",
      "[5200]\ttraining's rmse: 0.0105983\tvalid_1's rmse: 0.0131936\n",
      "[5400]\ttraining's rmse: 0.0105018\tvalid_1's rmse: 0.0131589\n",
      "[5600]\ttraining's rmse: 0.0104097\tvalid_1's rmse: 0.0131277\n",
      "[5800]\ttraining's rmse: 0.0103193\tvalid_1's rmse: 0.0130964\n",
      "[6000]\ttraining's rmse: 0.0102362\tvalid_1's rmse: 0.0130691\n"
     ]
    },
    {
     "name": "stdout",
     "output_type": "stream",
     "text": [
      "[6200]\ttraining's rmse: 0.0101517\tvalid_1's rmse: 0.0130393\n",
      "[6400]\ttraining's rmse: 0.0100704\tvalid_1's rmse: 0.0130114\n",
      "[6600]\ttraining's rmse: 0.00998675\tvalid_1's rmse: 0.0129848\n",
      "[6800]\ttraining's rmse: 0.00991205\tvalid_1's rmse: 0.012962\n",
      "[7000]\ttraining's rmse: 0.00983783\tvalid_1's rmse: 0.012941\n",
      "[7200]\ttraining's rmse: 0.0097662\tvalid_1's rmse: 0.0129198\n",
      "[7400]\ttraining's rmse: 0.00969408\tvalid_1's rmse: 0.0128975\n",
      "[7600]\ttraining's rmse: 0.00962467\tvalid_1's rmse: 0.0128788\n",
      "[7800]\ttraining's rmse: 0.00955794\tvalid_1's rmse: 0.0128596\n",
      "[8000]\ttraining's rmse: 0.00949098\tvalid_1's rmse: 0.0128431\n",
      "[8200]\ttraining's rmse: 0.00942545\tvalid_1's rmse: 0.0128268\n",
      "[8400]\ttraining's rmse: 0.00936128\tvalid_1's rmse: 0.0128105\n",
      "[8600]\ttraining's rmse: 0.00929809\tvalid_1's rmse: 0.0127945\n",
      "[8800]\ttraining's rmse: 0.00923827\tvalid_1's rmse: 0.012778\n",
      "[9000]\ttraining's rmse: 0.00917847\tvalid_1's rmse: 0.0127617\n",
      "[9200]\ttraining's rmse: 0.0091199\tvalid_1's rmse: 0.0127473\n",
      "[9400]\ttraining's rmse: 0.00906236\tvalid_1's rmse: 0.0127332\n",
      "[9600]\ttraining's rmse: 0.00900608\tvalid_1's rmse: 0.0127211\n",
      "[9800]\ttraining's rmse: 0.00894949\tvalid_1's rmse: 0.0127073\n",
      "[10000]\ttraining's rmse: 0.00889619\tvalid_1's rmse: 0.0126948\n",
      "Did not meet early stopping. Best iteration is:\n",
      "[10000]\ttraining's rmse: 0.00889619\tvalid_1's rmse: 0.0126948\n",
      "Training until validation scores don't improve for 1000 rounds.\n",
      "[200]\ttraining's rmse: 0.0252466\tvalid_1's rmse: 0.0259534\n",
      "[400]\ttraining's rmse: 0.0178496\tvalid_1's rmse: 0.0185239\n",
      "[600]\ttraining's rmse: 0.0159684\tvalid_1's rmse: 0.0167021\n",
      "[800]\ttraining's rmse: 0.0150704\tvalid_1's rmse: 0.0159031\n",
      "[1000]\ttraining's rmse: 0.0144785\tvalid_1's rmse: 0.0153998\n",
      "[1200]\ttraining's rmse: 0.0140287\tvalid_1's rmse: 0.0150394\n",
      "[1400]\ttraining's rmse: 0.0136542\tvalid_1's rmse: 0.0147528\n",
      "[1600]\ttraining's rmse: 0.0133443\tvalid_1's rmse: 0.0145278\n",
      "[1800]\ttraining's rmse: 0.0130769\tvalid_1's rmse: 0.014349\n",
      "[2000]\ttraining's rmse: 0.0128407\tvalid_1's rmse: 0.0141955\n",
      "[2200]\ttraining's rmse: 0.0126225\tvalid_1's rmse: 0.0140572\n",
      "[2400]\ttraining's rmse: 0.0124235\tvalid_1's rmse: 0.013941\n",
      "[2600]\ttraining's rmse: 0.0122363\tvalid_1's rmse: 0.0138318\n",
      "[2800]\ttraining's rmse: 0.0120655\tvalid_1's rmse: 0.0137371\n",
      "[3000]\ttraining's rmse: 0.0119027\tvalid_1's rmse: 0.0136528\n",
      "[3200]\ttraining's rmse: 0.0117547\tvalid_1's rmse: 0.0135775\n",
      "[3400]\ttraining's rmse: 0.011618\tvalid_1's rmse: 0.0135094\n",
      "[3600]\ttraining's rmse: 0.0114809\tvalid_1's rmse: 0.0134452\n",
      "[3800]\ttraining's rmse: 0.011354\tvalid_1's rmse: 0.0133867\n",
      "[4000]\ttraining's rmse: 0.0112268\tvalid_1's rmse: 0.0133313\n",
      "[4200]\ttraining's rmse: 0.011113\tvalid_1's rmse: 0.0132852\n",
      "[4400]\ttraining's rmse: 0.0109996\tvalid_1's rmse: 0.013238\n",
      "[4600]\ttraining's rmse: 0.0108912\tvalid_1's rmse: 0.0131979\n",
      "[4800]\ttraining's rmse: 0.0107902\tvalid_1's rmse: 0.0131584\n",
      "[5000]\ttraining's rmse: 0.0106869\tvalid_1's rmse: 0.0131205\n",
      "[5200]\ttraining's rmse: 0.0105884\tvalid_1's rmse: 0.013085\n",
      "[5400]\ttraining's rmse: 0.0104921\tvalid_1's rmse: 0.0130485\n",
      "[5600]\ttraining's rmse: 0.0103988\tvalid_1's rmse: 0.0130157\n",
      "[5800]\ttraining's rmse: 0.0103107\tvalid_1's rmse: 0.0129844\n",
      "[6000]\ttraining's rmse: 0.0102269\tvalid_1's rmse: 0.0129565\n",
      "[6200]\ttraining's rmse: 0.0101447\tvalid_1's rmse: 0.0129308\n",
      "[6400]\ttraining's rmse: 0.0100615\tvalid_1's rmse: 0.0129048\n",
      "[6600]\ttraining's rmse: 0.00998166\tvalid_1's rmse: 0.0128819\n",
      "[6800]\ttraining's rmse: 0.00990142\tvalid_1's rmse: 0.0128577\n",
      "[7000]\ttraining's rmse: 0.00982794\tvalid_1's rmse: 0.0128375\n",
      "[7200]\ttraining's rmse: 0.00975476\tvalid_1's rmse: 0.0128164\n",
      "[7400]\ttraining's rmse: 0.00968425\tvalid_1's rmse: 0.012798\n",
      "[7600]\ttraining's rmse: 0.00961551\tvalid_1's rmse: 0.0127764\n",
      "[7800]\ttraining's rmse: 0.00954543\tvalid_1's rmse: 0.0127583\n",
      "[8000]\ttraining's rmse: 0.00947816\tvalid_1's rmse: 0.0127387\n",
      "[8200]\ttraining's rmse: 0.00941181\tvalid_1's rmse: 0.0127209\n",
      "[8400]\ttraining's rmse: 0.00934881\tvalid_1's rmse: 0.0127057\n",
      "[8600]\ttraining's rmse: 0.00928511\tvalid_1's rmse: 0.0126876\n",
      "[8800]\ttraining's rmse: 0.00922233\tvalid_1's rmse: 0.0126726\n",
      "[9000]\ttraining's rmse: 0.00916402\tvalid_1's rmse: 0.012659\n",
      "[9200]\ttraining's rmse: 0.00910403\tvalid_1's rmse: 0.0126447\n",
      "[9400]\ttraining's rmse: 0.00904793\tvalid_1's rmse: 0.012632\n",
      "[9600]\ttraining's rmse: 0.0089912\tvalid_1's rmse: 0.0126188\n",
      "[9800]\ttraining's rmse: 0.0089342\tvalid_1's rmse: 0.0126057\n",
      "[10000]\ttraining's rmse: 0.00888105\tvalid_1's rmse: 0.0125943\n",
      "Did not meet early stopping. Best iteration is:\n",
      "[10000]\ttraining's rmse: 0.00888105\tvalid_1's rmse: 0.0125943\n",
      "Training until validation scores don't improve for 1000 rounds.\n",
      "[200]\ttraining's rmse: 0.0252705\tvalid_1's rmse: 0.0256432\n",
      "[400]\ttraining's rmse: 0.0178012\tvalid_1's rmse: 0.0185243\n",
      "[600]\ttraining's rmse: 0.0159008\tvalid_1's rmse: 0.0168165\n",
      "[800]\ttraining's rmse: 0.0150041\tvalid_1's rmse: 0.0160233\n",
      "[1000]\ttraining's rmse: 0.0144176\tvalid_1's rmse: 0.015538\n",
      "[1200]\ttraining's rmse: 0.0139608\tvalid_1's rmse: 0.0151724\n",
      "[1400]\ttraining's rmse: 0.0136076\tvalid_1's rmse: 0.0149057\n",
      "[1600]\ttraining's rmse: 0.0133013\tvalid_1's rmse: 0.0146787\n",
      "[1800]\ttraining's rmse: 0.0130317\tvalid_1's rmse: 0.014489\n",
      "[2000]\ttraining's rmse: 0.0127943\tvalid_1's rmse: 0.0143336\n",
      "[2200]\ttraining's rmse: 0.0125821\tvalid_1's rmse: 0.0141952\n",
      "[2400]\ttraining's rmse: 0.012391\tvalid_1's rmse: 0.0140741\n",
      "[2600]\ttraining's rmse: 0.0122175\tvalid_1's rmse: 0.0139715\n",
      "[2800]\ttraining's rmse: 0.012047\tvalid_1's rmse: 0.0138742\n",
      "[3000]\ttraining's rmse: 0.0118873\tvalid_1's rmse: 0.0137831\n",
      "[3200]\ttraining's rmse: 0.0117425\tvalid_1's rmse: 0.0137043\n",
      "[3400]\ttraining's rmse: 0.0116045\tvalid_1's rmse: 0.0136325\n",
      "[3600]\ttraining's rmse: 0.0114712\tvalid_1's rmse: 0.0135639\n",
      "[3800]\ttraining's rmse: 0.0113435\tvalid_1's rmse: 0.0135011\n",
      "[4000]\ttraining's rmse: 0.0112222\tvalid_1's rmse: 0.0134453\n",
      "[4200]\ttraining's rmse: 0.0111065\tvalid_1's rmse: 0.0133912\n",
      "[4400]\ttraining's rmse: 0.0109945\tvalid_1's rmse: 0.0133397\n",
      "[4600]\ttraining's rmse: 0.0108896\tvalid_1's rmse: 0.013294\n",
      "[4800]\ttraining's rmse: 0.0107841\tvalid_1's rmse: 0.0132504\n",
      "[5000]\ttraining's rmse: 0.0106869\tvalid_1's rmse: 0.0132119\n",
      "[5200]\ttraining's rmse: 0.0105919\tvalid_1's rmse: 0.013174\n",
      "[5400]\ttraining's rmse: 0.0104986\tvalid_1's rmse: 0.0131401\n",
      "[5600]\ttraining's rmse: 0.0104083\tvalid_1's rmse: 0.0131089\n",
      "[5800]\ttraining's rmse: 0.0103217\tvalid_1's rmse: 0.0130765\n",
      "[6000]\ttraining's rmse: 0.0102373\tvalid_1's rmse: 0.0130459\n",
      "[6200]\ttraining's rmse: 0.0101547\tvalid_1's rmse: 0.0130145\n",
      "[6400]\ttraining's rmse: 0.0100746\tvalid_1's rmse: 0.0129864\n",
      "[6600]\ttraining's rmse: 0.00999361\tvalid_1's rmse: 0.0129611\n",
      "[6800]\ttraining's rmse: 0.00991893\tvalid_1's rmse: 0.0129377\n",
      "[7000]\ttraining's rmse: 0.00984418\tvalid_1's rmse: 0.0129123\n",
      "[7200]\ttraining's rmse: 0.00977182\tvalid_1's rmse: 0.0128912\n",
      "[7400]\ttraining's rmse: 0.00970023\tvalid_1's rmse: 0.0128696\n",
      "[7600]\ttraining's rmse: 0.0096317\tvalid_1's rmse: 0.0128508\n",
      "[7800]\ttraining's rmse: 0.00956347\tvalid_1's rmse: 0.0128311\n",
      "[8000]\ttraining's rmse: 0.00949855\tvalid_1's rmse: 0.0128124\n",
      "[8200]\ttraining's rmse: 0.00943458\tvalid_1's rmse: 0.0127934\n",
      "[8400]\ttraining's rmse: 0.00937042\tvalid_1's rmse: 0.012776\n",
      "[8600]\ttraining's rmse: 0.00930628\tvalid_1's rmse: 0.0127581\n",
      "[8800]\ttraining's rmse: 0.00924686\tvalid_1's rmse: 0.0127416\n",
      "[9000]\ttraining's rmse: 0.00918505\tvalid_1's rmse: 0.0127267\n",
      "[9200]\ttraining's rmse: 0.00912683\tvalid_1's rmse: 0.0127128\n",
      "[9400]\ttraining's rmse: 0.00907106\tvalid_1's rmse: 0.0126988\n",
      "[9600]\ttraining's rmse: 0.00901497\tvalid_1's rmse: 0.0126849\n",
      "[9800]\ttraining's rmse: 0.00896124\tvalid_1's rmse: 0.0126734\n",
      "[10000]\ttraining's rmse: 0.00890704\tvalid_1's rmse: 0.0126604\n",
      "Did not meet early stopping. Best iteration is:\n",
      "[10000]\ttraining's rmse: 0.00890704\tvalid_1's rmse: 0.0126604\n",
      "CV scrore : 0.012622023214776193\n"
     ]
    },
    {
     "data": {
      "image/png": "[encoded data removed]",
      "text/plain": [
       "<Figure size 576x720 with 1 Axes>"
      ]
     },
     "metadata": {},
     "output_type": "display_data"
    }
   ],
   "source": [
    "prediction = lgb_model(5, train, test, features, stratified = False)\n",
    "prediction = np.expm1(prediction)"
   ]
  },
  {
   "cell_type": "code",
   "execution_count": 23,
   "metadata": {
    "scrolled": true
   },
   "outputs": [],
   "source": [
    "Submission(test['building_id'], prediction)"
   ]
  },
  {
   "cell_type": "code",
   "execution_count": null,
   "metadata": {},
   "outputs": [],
   "source": [
    "#prediction = lgb_model(5, train, test, features, stratified = False)\n",
    "#prediction = np.expm1(prediction)"
   ]
  },
  {
   "cell_type": "code",
   "execution_count": 9,
   "metadata": {},
   "outputs": [
    {
     "data": {
      "text/plain": [
       "226149.5239862996"
      ]
     },
     "execution_count": 9,
     "metadata": {},
     "output_type": "execute_result"
    }
   ],
   "source": [
    "train['total_price'].min()"
   ]
  },
  {
   "cell_type": "code",
   "execution_count": 11,
   "metadata": {},
   "outputs": [
    {
     "data": {
      "text/plain": [
       "5088279096.76905"
      ]
     },
     "execution_count": 11,
     "metadata": {},
     "output_type": "execute_result"
    }
   ],
   "source": [
    "train['total_price'].max()"
   ]
  },
  {
   "cell_type": "code",
   "execution_count": 18,
   "metadata": {},
   "outputs": [
    {
     "data": {
      "text/plain": [
       "3.1506057856008445"
      ]
     },
     "execution_count": 18,
     "metadata": {},
     "output_type": "execute_result"
    }
   ],
   "source": [
    "np.log1p(np.log1p(5088279096.76905))"
   ]
  },
  {
   "cell_type": "code",
   "execution_count": null,
   "metadata": {},
   "outputs": [],
   "source": []
  }
 ],
 "metadata": {
  "kernelspec": {
   "display_name": "Python 3",
   "language": "python",
   "name": "python3"
  },
  "language_info": {
   "codemirror_mode": {
    "name": "ipython",
    "version": 3
   },
   "file_extension": ".py",
   "mimetype": "text/x-python",
   "name": "python",
   "nbconvert_exporter": "python",
   "pygments_lexer": "ipython3",
   "version": "3.7.3"
  }
 },
 "nbformat": 4,
 "nbformat_minor": 2
}
